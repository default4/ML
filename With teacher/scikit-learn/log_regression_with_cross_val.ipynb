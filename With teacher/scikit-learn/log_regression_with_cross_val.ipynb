{
 "cells": [
  {
   "cell_type": "code",
   "execution_count": 34,
   "metadata": {},
   "outputs": [],
   "source": [
    "from sklearn import datasets\n",
    "from sklearn import metrics\n",
    "from sklearn.linear_model import LogisticRegression\n",
    "from sklearn.model_selection import train_test_split, cross_val_score, KFold"
   ]
  },
  {
   "cell_type": "code",
   "execution_count": 38,
   "metadata": {},
   "outputs": [
    {
     "name": "stdout",
     "output_type": "stream",
     "text": [
      "Train accuracy: 0.96\n",
      "Test accuracy: 0.94\n",
      "Accuracy: 0.94\n",
      "ROC AUC: 0.93\n",
      "F1: 0.95\n",
      "MSE: 0.06\n"
     ]
    }
   ],
   "source": [
    "cancer = datasets.load_breast_cancer()\n",
    "\n",
    "logistic_regression = LogisticRegression(max_iter=10000)\n",
    "\n",
    "X_train, X_test, y_train, y_test = train_test_split(\n",
    "    cancer.data, cancer.target, random_state=12, test_size=0.2)\n",
    "\n",
    "###Create model\n",
    "model = logistic_regression.fit(X_train, y_train)\n",
    "    \n",
    "predictions = model.predict(X_test)\n",
    "\n",
    "###Accuracy on train and test sets\n",
    "print('Train accuracy: {:.2f}'.format(model.score(X_train, y_train)))\n",
    "print('Test accuracy: {:.2f}'.format(model.score(X_test, y_test)))\n",
    "\n",
    "###Metrics\n",
    "print('Accuracy: {:.2f}'.format(metrics.accuracy_score(y_test, predictions)))\n",
    "print('ROC AUC: {:.2f}'.format(metrics.roc_auc_score(y_test, predictions)))\n",
    "print('F1: {:.2f}'.format(metrics.f1_score(y_test, predictions)))\n",
    "print('MSE: {:.2f}'.format(metrics.mean_squared_error(y_test, predictions)))"
   ]
  },
  {
   "cell_type": "code",
   "execution_count": 39,
   "metadata": {},
   "outputs": [
    {
     "name": "stdout",
     "output_type": "stream",
     "text": [
      "Cross val score: [0.92307692 0.96703297 0.95604396 0.97802198 0.94505495]\n",
      "Mean cross val score: 0.9538461538461538\n"
     ]
    }
   ],
   "source": [
    "cv = KFold(n_splits=5) ### Train with 5 folds\n",
    "\n",
    "cv_score = cross_val_score (logistic_regression, X_train, y_train,\n",
    "                           scoring='accuracy', cv=cv)\n",
    "\n",
    "print('Cross val score: {}'.format(cv_score))\n",
    "print('Mean cross val score: {}'.format(cv_score.mean()))"
   ]
  },
  {
   "cell_type": "code",
   "execution_count": null,
   "metadata": {},
   "outputs": [],
   "source": []
  }
 ],
 "metadata": {
  "kernelspec": {
   "display_name": "Python 3",
   "language": "python",
   "name": "python3"
  },
  "language_info": {
   "codemirror_mode": {
    "name": "ipython",
    "version": 3
   },
   "file_extension": ".py",
   "mimetype": "text/x-python",
   "name": "python",
   "nbconvert_exporter": "python",
   "pygments_lexer": "ipython3",
   "version": "3.8.1"
  }
 },
 "nbformat": 4,
 "nbformat_minor": 4
}
