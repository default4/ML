{
 "cells": [
  {
   "cell_type": "markdown",
   "metadata": {},
   "source": [
    "###Adding libraries "
   ]
  },
  {
   "cell_type": "code",
   "execution_count": 17,
   "metadata": {},
   "outputs": [],
   "source": [
    "from sklearn import tree\n",
    "from sklearn.model_selection import train_test_split\n",
    "import pandas as pd\n",
    "import matplotlib.pyplot as plt\n",
    "import seaborn as sns\n",
    "import numpy as np\n",
    "from sklearn.model_selection import cross_val_score\n",
    "from sklearn.model_selection import GridSearchCV\n",
    "from sklearn.metrics import precision_score, recall_score\n",
    "from sklearn.metrics import roc_curve, auc\n",
    "from sklearn.ensemble import RandomForestClassifier\n",
    "from sklearn.tree import export_graphviz\n",
    "%matplotlib inline\n",
    "\n",
    "from IPython.display import SVG\n",
    "from graphviz import Source\n",
    "from IPython.display import display\n",
    "\n",
    "from IPython.display import HTML\n",
    "style = \"<style>svg{width:70% !important;height:70% !important;}</style>\"\n",
    "HTML(style)\n",
    "import os\n",
    "os.environ[\"PATH\"] += os.pathsep + 'C:/Program Files (x86)/Graphviz2.38/bin/'"
   ]
  },
  {
   "cell_type": "markdown",
   "metadata": {},
   "source": [
    "###Set a Dataset"
   ]
  },
  {
   "cell_type": "code",
   "execution_count": 2,
   "metadata": {},
   "outputs": [],
   "source": [
    "titanic_data = pd.read_csv('F:\\\\train.csv')"
   ]
  },
  {
   "cell_type": "code",
   "execution_count": 3,
   "metadata": {},
   "outputs": [
    {
     "data": {
      "text/html": [
       "<div>\n",
       "<style scoped>\n",
       "    .dataframe tbody tr th:only-of-type {\n",
       "        vertical-align: middle;\n",
       "    }\n",
       "\n",
       "    .dataframe tbody tr th {\n",
       "        vertical-align: top;\n",
       "    }\n",
       "\n",
       "    .dataframe thead th {\n",
       "        text-align: right;\n",
       "    }\n",
       "</style>\n",
       "<table border=\"1\" class=\"dataframe\">\n",
       "  <thead>\n",
       "    <tr style=\"text-align: right;\">\n",
       "      <th></th>\n",
       "      <th>PassengerId</th>\n",
       "      <th>Survived</th>\n",
       "      <th>Pclass</th>\n",
       "      <th>Name</th>\n",
       "      <th>Sex</th>\n",
       "      <th>Age</th>\n",
       "      <th>SibSp</th>\n",
       "      <th>Parch</th>\n",
       "      <th>Ticket</th>\n",
       "      <th>Fare</th>\n",
       "      <th>Cabin</th>\n",
       "      <th>Embarked</th>\n",
       "    </tr>\n",
       "  </thead>\n",
       "  <tbody>\n",
       "    <tr>\n",
       "      <th>0</th>\n",
       "      <td>1</td>\n",
       "      <td>0</td>\n",
       "      <td>3</td>\n",
       "      <td>Braund, Mr. Owen Harris</td>\n",
       "      <td>male</td>\n",
       "      <td>22.0</td>\n",
       "      <td>1</td>\n",
       "      <td>0</td>\n",
       "      <td>A/5 21171</td>\n",
       "      <td>7.2500</td>\n",
       "      <td>NaN</td>\n",
       "      <td>S</td>\n",
       "    </tr>\n",
       "    <tr>\n",
       "      <th>1</th>\n",
       "      <td>2</td>\n",
       "      <td>1</td>\n",
       "      <td>1</td>\n",
       "      <td>Cumings, Mrs. John Bradley (Florence Briggs Th...</td>\n",
       "      <td>female</td>\n",
       "      <td>38.0</td>\n",
       "      <td>1</td>\n",
       "      <td>0</td>\n",
       "      <td>PC 17599</td>\n",
       "      <td>71.2833</td>\n",
       "      <td>C85</td>\n",
       "      <td>C</td>\n",
       "    </tr>\n",
       "    <tr>\n",
       "      <th>2</th>\n",
       "      <td>3</td>\n",
       "      <td>1</td>\n",
       "      <td>3</td>\n",
       "      <td>Heikkinen, Miss. Laina</td>\n",
       "      <td>female</td>\n",
       "      <td>26.0</td>\n",
       "      <td>0</td>\n",
       "      <td>0</td>\n",
       "      <td>STON/O2. 3101282</td>\n",
       "      <td>7.9250</td>\n",
       "      <td>NaN</td>\n",
       "      <td>S</td>\n",
       "    </tr>\n",
       "    <tr>\n",
       "      <th>3</th>\n",
       "      <td>4</td>\n",
       "      <td>1</td>\n",
       "      <td>1</td>\n",
       "      <td>Futrelle, Mrs. Jacques Heath (Lily May Peel)</td>\n",
       "      <td>female</td>\n",
       "      <td>35.0</td>\n",
       "      <td>1</td>\n",
       "      <td>0</td>\n",
       "      <td>113803</td>\n",
       "      <td>53.1000</td>\n",
       "      <td>C123</td>\n",
       "      <td>S</td>\n",
       "    </tr>\n",
       "    <tr>\n",
       "      <th>4</th>\n",
       "      <td>5</td>\n",
       "      <td>0</td>\n",
       "      <td>3</td>\n",
       "      <td>Allen, Mr. William Henry</td>\n",
       "      <td>male</td>\n",
       "      <td>35.0</td>\n",
       "      <td>0</td>\n",
       "      <td>0</td>\n",
       "      <td>373450</td>\n",
       "      <td>8.0500</td>\n",
       "      <td>NaN</td>\n",
       "      <td>S</td>\n",
       "    </tr>\n",
       "  </tbody>\n",
       "</table>\n",
       "</div>"
      ],
      "text/plain": [
       "   PassengerId  Survived  Pclass  \\\n",
       "0            1         0       3   \n",
       "1            2         1       1   \n",
       "2            3         1       3   \n",
       "3            4         1       1   \n",
       "4            5         0       3   \n",
       "\n",
       "                                                Name     Sex   Age  SibSp  \\\n",
       "0                            Braund, Mr. Owen Harris    male  22.0      1   \n",
       "1  Cumings, Mrs. John Bradley (Florence Briggs Th...  female  38.0      1   \n",
       "2                             Heikkinen, Miss. Laina  female  26.0      0   \n",
       "3       Futrelle, Mrs. Jacques Heath (Lily May Peel)  female  35.0      1   \n",
       "4                           Allen, Mr. William Henry    male  35.0      0   \n",
       "\n",
       "   Parch            Ticket     Fare Cabin Embarked  \n",
       "0      0         A/5 21171   7.2500   NaN        S  \n",
       "1      0          PC 17599  71.2833   C85        C  \n",
       "2      0  STON/O2. 3101282   7.9250   NaN        S  \n",
       "3      0            113803  53.1000  C123        S  \n",
       "4      0            373450   8.0500   NaN        S  "
      ]
     },
     "execution_count": 3,
     "metadata": {},
     "output_type": "execute_result"
    }
   ],
   "source": [
    "titanic_data.head()"
   ]
  },
  {
   "cell_type": "markdown",
   "metadata": {},
   "source": [
    "###Data preprocessing"
   ]
  },
  {
   "cell_type": "code",
   "execution_count": 4,
   "metadata": {},
   "outputs": [],
   "source": [
    "X = titanic_data.drop(['PassengerId' , 'Survived' , 'Name' , 'Ticket' , 'Cabin'], axis=1)\n",
    "y = titanic_data.Survived"
   ]
  },
  {
   "cell_type": "markdown",
   "metadata": {},
   "source": [
    "###Filling blank lines"
   ]
  },
  {
   "cell_type": "code",
   "execution_count": 5,
   "metadata": {},
   "outputs": [],
   "source": [
    "X = X.fillna({'Age': X.Age.median()})"
   ]
  },
  {
   "cell_type": "markdown",
   "metadata": {},
   "source": [
    "###Representation of lines with words in lines with numbers"
   ]
  },
  {
   "cell_type": "code",
   "execution_count": 6,
   "metadata": {},
   "outputs": [],
   "source": [
    "X = pd.get_dummies(X)"
   ]
  },
  {
   "cell_type": "markdown",
   "metadata": {},
   "source": [
    "###Dividing data into a training group and a test group"
   ]
  },
  {
   "cell_type": "code",
   "execution_count": 7,
   "metadata": {},
   "outputs": [],
   "source": [
    "X_train, X_test, y_train, y_test = train_test_split(X, y, test_size=0.33, random_state=42)"
   ]
  },
  {
   "cell_type": "markdown",
   "metadata": {},
   "source": [
    "#########1 training option: manually selecting parameters\n",
    "\n",
    "###List with the maximum value of tree depth"
   ]
  },
  {
   "cell_type": "code",
   "execution_count": 56,
   "metadata": {},
   "outputs": [],
   "source": [
    "max_depth_values = range(1, 50)"
   ]
  },
  {
   "cell_type": "markdown",
   "metadata": {},
   "source": [
    "###Training data will be stored in DataFrame"
   ]
  },
  {
   "cell_type": "code",
   "execution_count": 57,
   "metadata": {},
   "outputs": [],
   "source": [
    "scores_data = pd.DataFrame()"
   ]
  },
  {
   "cell_type": "markdown",
   "metadata": {},
   "source": [
    "###Training trees with different tree depths and with cross validation"
   ]
  },
  {
   "cell_type": "code",
   "execution_count": 58,
   "metadata": {},
   "outputs": [],
   "source": [
    "for max_depth in max_depth_values:\n",
    "    clf = tree.DecisionTreeClassifier(criterion= 'entropy', max_depth= max_depth)\n",
    "    clf.fit(X_train , y_train)\n",
    "    trains_score =  clf.score(X_train , y_train)\n",
    "    test_score = clf.score(X_test , y_test)\n",
    "    \n",
    "    mean_cross_val_score = cross_val_score(clf, X_train, y_train, cv=5).mean()\n",
    "    \n",
    "    temp_score_data = pd.DataFrame({'max_depth': [max_depth],\n",
    "                                    'trains_score': [trains_score],\n",
    "                                    'test_score': [test_score],\n",
    "                                   'cross_val_score': [mean_cross_val_score]})\n",
    "    \n",
    "    scores_data = scores_data.append(temp_score_data)"
   ]
  },
  {
   "cell_type": "code",
   "execution_count": 59,
   "metadata": {},
   "outputs": [
    {
     "data": {
      "text/html": [
       "<div>\n",
       "<style scoped>\n",
       "    .dataframe tbody tr th:only-of-type {\n",
       "        vertical-align: middle;\n",
       "    }\n",
       "\n",
       "    .dataframe tbody tr th {\n",
       "        vertical-align: top;\n",
       "    }\n",
       "\n",
       "    .dataframe thead th {\n",
       "        text-align: right;\n",
       "    }\n",
       "</style>\n",
       "<table border=\"1\" class=\"dataframe\">\n",
       "  <thead>\n",
       "    <tr style=\"text-align: right;\">\n",
       "      <th></th>\n",
       "      <th>max_depth</th>\n",
       "      <th>trains_score</th>\n",
       "      <th>test_score</th>\n",
       "      <th>cross_val_score</th>\n",
       "    </tr>\n",
       "  </thead>\n",
       "  <tbody>\n",
       "    <tr>\n",
       "      <th>0</th>\n",
       "      <td>1</td>\n",
       "      <td>0.781879</td>\n",
       "      <td>0.796610</td>\n",
       "      <td>0.781961</td>\n",
       "    </tr>\n",
       "    <tr>\n",
       "      <th>0</th>\n",
       "      <td>2</td>\n",
       "      <td>0.805369</td>\n",
       "      <td>0.776271</td>\n",
       "      <td>0.770196</td>\n",
       "    </tr>\n",
       "    <tr>\n",
       "      <th>0</th>\n",
       "      <td>3</td>\n",
       "      <td>0.823826</td>\n",
       "      <td>0.820339</td>\n",
       "      <td>0.790322</td>\n",
       "    </tr>\n",
       "    <tr>\n",
       "      <th>0</th>\n",
       "      <td>4</td>\n",
       "      <td>0.833893</td>\n",
       "      <td>0.823729</td>\n",
       "      <td>0.788627</td>\n",
       "    </tr>\n",
       "    <tr>\n",
       "      <th>0</th>\n",
       "      <td>5</td>\n",
       "      <td>0.840604</td>\n",
       "      <td>0.806780</td>\n",
       "      <td>0.802073</td>\n",
       "    </tr>\n",
       "  </tbody>\n",
       "</table>\n",
       "</div>"
      ],
      "text/plain": [
       "   max_depth  trains_score  test_score  cross_val_score\n",
       "0          1      0.781879    0.796610         0.781961\n",
       "0          2      0.805369    0.776271         0.770196\n",
       "0          3      0.823826    0.820339         0.790322\n",
       "0          4      0.833893    0.823729         0.788627\n",
       "0          5      0.840604    0.806780         0.802073"
      ]
     },
     "execution_count": 59,
     "metadata": {},
     "output_type": "execute_result"
    }
   ],
   "source": [
    "scores_data.head()"
   ]
  },
  {
   "cell_type": "code",
   "execution_count": 60,
   "metadata": {},
   "outputs": [],
   "source": [
    "scores_data_long = pd.melt(scores_data, id_vars=['max_depth'], value_vars=['trains_score', 'test_score', 'cross_val_score'],\n",
    "                           var_name='set_type', value_name='score')"
   ]
  },
  {
   "cell_type": "code",
   "execution_count": 61,
   "metadata": {},
   "outputs": [
    {
     "data": {
      "text/html": [
       "<div>\n",
       "<style scoped>\n",
       "    .dataframe tbody tr th:only-of-type {\n",
       "        vertical-align: middle;\n",
       "    }\n",
       "\n",
       "    .dataframe tbody tr th {\n",
       "        vertical-align: top;\n",
       "    }\n",
       "\n",
       "    .dataframe thead th {\n",
       "        text-align: right;\n",
       "    }\n",
       "</style>\n",
       "<table border=\"1\" class=\"dataframe\">\n",
       "  <thead>\n",
       "    <tr style=\"text-align: right;\">\n",
       "      <th></th>\n",
       "      <th>max_depth</th>\n",
       "      <th>set_type</th>\n",
       "      <th>score</th>\n",
       "    </tr>\n",
       "  </thead>\n",
       "  <tbody>\n",
       "    <tr>\n",
       "      <th>0</th>\n",
       "      <td>1</td>\n",
       "      <td>trains_score</td>\n",
       "      <td>0.781879</td>\n",
       "    </tr>\n",
       "    <tr>\n",
       "      <th>1</th>\n",
       "      <td>2</td>\n",
       "      <td>trains_score</td>\n",
       "      <td>0.805369</td>\n",
       "    </tr>\n",
       "    <tr>\n",
       "      <th>2</th>\n",
       "      <td>3</td>\n",
       "      <td>trains_score</td>\n",
       "      <td>0.823826</td>\n",
       "    </tr>\n",
       "    <tr>\n",
       "      <th>3</th>\n",
       "      <td>4</td>\n",
       "      <td>trains_score</td>\n",
       "      <td>0.833893</td>\n",
       "    </tr>\n",
       "    <tr>\n",
       "      <th>4</th>\n",
       "      <td>5</td>\n",
       "      <td>trains_score</td>\n",
       "      <td>0.840604</td>\n",
       "    </tr>\n",
       "  </tbody>\n",
       "</table>\n",
       "</div>"
      ],
      "text/plain": [
       "   max_depth      set_type     score\n",
       "0          1  trains_score  0.781879\n",
       "1          2  trains_score  0.805369\n",
       "2          3  trains_score  0.823826\n",
       "3          4  trains_score  0.833893\n",
       "4          5  trains_score  0.840604"
      ]
     },
     "execution_count": 61,
     "metadata": {},
     "output_type": "execute_result"
    }
   ],
   "source": [
    "scores_data_long.head()"
   ]
  },
  {
   "cell_type": "markdown",
   "metadata": {},
   "source": [
    "###Cross validation for each depth"
   ]
  },
  {
   "cell_type": "code",
   "execution_count": 62,
   "metadata": {},
   "outputs": [
    {
     "data": {
      "text/html": [
       "<div>\n",
       "<style scoped>\n",
       "    .dataframe tbody tr th:only-of-type {\n",
       "        vertical-align: middle;\n",
       "    }\n",
       "\n",
       "    .dataframe tbody tr th {\n",
       "        vertical-align: top;\n",
       "    }\n",
       "\n",
       "    .dataframe thead th {\n",
       "        text-align: right;\n",
       "    }\n",
       "</style>\n",
       "<table border=\"1\" class=\"dataframe\">\n",
       "  <thead>\n",
       "    <tr style=\"text-align: right;\">\n",
       "      <th></th>\n",
       "      <th>max_depth</th>\n",
       "      <th>set_type</th>\n",
       "      <th>score</th>\n",
       "    </tr>\n",
       "  </thead>\n",
       "  <tbody>\n",
       "    <tr>\n",
       "      <th>98</th>\n",
       "      <td>1</td>\n",
       "      <td>cross_val_score</td>\n",
       "      <td>0.781961</td>\n",
       "    </tr>\n",
       "    <tr>\n",
       "      <th>99</th>\n",
       "      <td>2</td>\n",
       "      <td>cross_val_score</td>\n",
       "      <td>0.770196</td>\n",
       "    </tr>\n",
       "    <tr>\n",
       "      <th>100</th>\n",
       "      <td>3</td>\n",
       "      <td>cross_val_score</td>\n",
       "      <td>0.790322</td>\n",
       "    </tr>\n",
       "    <tr>\n",
       "      <th>101</th>\n",
       "      <td>4</td>\n",
       "      <td>cross_val_score</td>\n",
       "      <td>0.788627</td>\n",
       "    </tr>\n",
       "    <tr>\n",
       "      <th>102</th>\n",
       "      <td>5</td>\n",
       "      <td>cross_val_score</td>\n",
       "      <td>0.802073</td>\n",
       "    </tr>\n",
       "    <tr>\n",
       "      <th>103</th>\n",
       "      <td>6</td>\n",
       "      <td>cross_val_score</td>\n",
       "      <td>0.800392</td>\n",
       "    </tr>\n",
       "    <tr>\n",
       "      <th>104</th>\n",
       "      <td>7</td>\n",
       "      <td>cross_val_score</td>\n",
       "      <td>0.798697</td>\n",
       "    </tr>\n",
       "    <tr>\n",
       "      <th>105</th>\n",
       "      <td>8</td>\n",
       "      <td>cross_val_score</td>\n",
       "      <td>0.802045</td>\n",
       "    </tr>\n",
       "    <tr>\n",
       "      <th>106</th>\n",
       "      <td>9</td>\n",
       "      <td>cross_val_score</td>\n",
       "      <td>0.800350</td>\n",
       "    </tr>\n",
       "    <tr>\n",
       "      <th>107</th>\n",
       "      <td>10</td>\n",
       "      <td>cross_val_score</td>\n",
       "      <td>0.807073</td>\n",
       "    </tr>\n",
       "    <tr>\n",
       "      <th>108</th>\n",
       "      <td>11</td>\n",
       "      <td>cross_val_score</td>\n",
       "      <td>0.802031</td>\n",
       "    </tr>\n",
       "    <tr>\n",
       "      <th>109</th>\n",
       "      <td>12</td>\n",
       "      <td>cross_val_score</td>\n",
       "      <td>0.793655</td>\n",
       "    </tr>\n",
       "    <tr>\n",
       "      <th>110</th>\n",
       "      <td>13</td>\n",
       "      <td>cross_val_score</td>\n",
       "      <td>0.800350</td>\n",
       "    </tr>\n",
       "    <tr>\n",
       "      <th>111</th>\n",
       "      <td>14</td>\n",
       "      <td>cross_val_score</td>\n",
       "      <td>0.803711</td>\n",
       "    </tr>\n",
       "    <tr>\n",
       "      <th>112</th>\n",
       "      <td>15</td>\n",
       "      <td>cross_val_score</td>\n",
       "      <td>0.783585</td>\n",
       "    </tr>\n",
       "    <tr>\n",
       "      <th>113</th>\n",
       "      <td>16</td>\n",
       "      <td>cross_val_score</td>\n",
       "      <td>0.780238</td>\n",
       "    </tr>\n",
       "    <tr>\n",
       "      <th>114</th>\n",
       "      <td>17</td>\n",
       "      <td>cross_val_score</td>\n",
       "      <td>0.786947</td>\n",
       "    </tr>\n",
       "    <tr>\n",
       "      <th>115</th>\n",
       "      <td>18</td>\n",
       "      <td>cross_val_score</td>\n",
       "      <td>0.776905</td>\n",
       "    </tr>\n",
       "    <tr>\n",
       "      <th>116</th>\n",
       "      <td>19</td>\n",
       "      <td>cross_val_score</td>\n",
       "      <td>0.775196</td>\n",
       "    </tr>\n",
       "    <tr>\n",
       "      <th>117</th>\n",
       "      <td>20</td>\n",
       "      <td>cross_val_score</td>\n",
       "      <td>0.770182</td>\n",
       "    </tr>\n",
       "  </tbody>\n",
       "</table>\n",
       "</div>"
      ],
      "text/plain": [
       "     max_depth         set_type     score\n",
       "98           1  cross_val_score  0.781961\n",
       "99           2  cross_val_score  0.770196\n",
       "100          3  cross_val_score  0.790322\n",
       "101          4  cross_val_score  0.788627\n",
       "102          5  cross_val_score  0.802073\n",
       "103          6  cross_val_score  0.800392\n",
       "104          7  cross_val_score  0.798697\n",
       "105          8  cross_val_score  0.802045\n",
       "106          9  cross_val_score  0.800350\n",
       "107         10  cross_val_score  0.807073\n",
       "108         11  cross_val_score  0.802031\n",
       "109         12  cross_val_score  0.793655\n",
       "110         13  cross_val_score  0.800350\n",
       "111         14  cross_val_score  0.803711\n",
       "112         15  cross_val_score  0.783585\n",
       "113         16  cross_val_score  0.780238\n",
       "114         17  cross_val_score  0.786947\n",
       "115         18  cross_val_score  0.776905\n",
       "116         19  cross_val_score  0.775196\n",
       "117         20  cross_val_score  0.770182"
      ]
     },
     "execution_count": 62,
     "metadata": {},
     "output_type": "execute_result"
    }
   ],
   "source": [
    "scores_data_long.query(\"set_type == 'cross_val_score'\").head(20)"
   ]
  },
  {
   "cell_type": "markdown",
   "metadata": {},
   "source": [
    "###Presentation of learning results in graph form"
   ]
  },
  {
   "cell_type": "code",
   "execution_count": 63,
   "metadata": {},
   "outputs": [
    {
     "data": {
      "text/plain": [
       "<matplotlib.axes._subplots.AxesSubplot at 0x2d81a7e4a90>"
      ]
     },
     "execution_count": 63,
     "metadata": {},
     "output_type": "execute_result"
    },
    {
     "data": {
      "image/png": "[encoded data removed]",
      "text/plain": [
       "<Figure size 432x288 with 1 Axes>"
      ]
     },
     "metadata": {
      "needs_background": "light"
     },
     "output_type": "display_data"
    }
   ],
   "source": [
    "sns.lineplot(x= \"max_depth\", y= \"score\", hue= \"set_type\", data=scores_data_long)"
   ]
  },
  {
   "cell_type": "markdown",
   "metadata": {},
   "source": [
    "###Choosing the best tree depth according to cross validation"
   ]
  },
  {
   "cell_type": "code",
   "execution_count": 135,
   "metadata": {},
   "outputs": [],
   "source": [
    "best_clf = tree.DecisionTreeClassifier(criterion= 'entropy', max_depth= 6, min_samples_split= 50)"
   ]
  },
  {
   "cell_type": "code",
   "execution_count": 136,
   "metadata": {},
   "outputs": [
    {
     "data": {
      "text/plain": [
       "DecisionTreeClassifier(ccp_alpha=0.0, class_weight=None, criterion='entropy',\n",
       "                       max_depth=6, max_features=None, max_leaf_nodes=None,\n",
       "                       min_impurity_decrease=0.0, min_impurity_split=None,\n",
       "                       min_samples_leaf=1, min_samples_split=50,\n",
       "                       min_weight_fraction_leaf=0.0, presort='deprecated',\n",
       "                       random_state=None, splitter='best')"
      ]
     },
     "execution_count": 136,
     "metadata": {},
     "output_type": "execute_result"
    }
   ],
   "source": [
    "best_clf.fit(X_train , y_train)"
   ]
  },
  {
   "cell_type": "code",
   "execution_count": 137,
   "metadata": {},
   "outputs": [
    {
     "data": {
      "text/plain": [
       "0.776271186440678"
      ]
     },
     "execution_count": 137,
     "metadata": {},
     "output_type": "execute_result"
    }
   ],
   "source": [
    "cross_val_score(best_clf, X_test, y_test, cv=5).mean()"
   ]
  },
  {
   "cell_type": "markdown",
   "metadata": {},
   "source": [
    "###Decision tree"
   ]
  },
  {
   "cell_type": "code",
   "execution_count": 138,
   "metadata": {},
   "outputs": [
    {
     "data": {
      "image/svg+xml": [
       "<svg xmlns=\"http://www.w3.org/2000/svg\" xmlns:xlink=\"http://www.w3.org/1999/xlink\" width=\"820pt\" height=\"790pt\" viewBox=\"0.00 0.00 819.50 790.00\">\n",
       "<g id=\"graph0\" class=\"graph\" transform=\"scale(1 1) rotate(0) translate(4 786)\">\n",
       "<title>Tree</title>\n",
       "<polygon fill=\"white\" stroke=\"none\" points=\"-4,4 -4,-786 815.5,-786 815.5,4 -4,4\"/>\n",
       "<!-- 0 -->\n",
       "<g id=\"node1\" class=\"node\"><title>0</title>\n",
       "<polygon fill=\"#f4ccaf\" stroke=\"black\" points=\"433,-782 315,-782 315,-699 433,-699 433,-782\"/>\n",
       "<text text-anchor=\"middle\" x=\"374\" y=\"-766.8\" font-family=\"Times New Roman,serif\" font-size=\"14.00\">Sex_male &lt;= 0.5</text>\n",
       "<text text-anchor=\"middle\" x=\"374\" y=\"-751.8\" font-family=\"Times New Roman,serif\" font-size=\"14.00\">entropy = 0.953</text>\n",
       "<text text-anchor=\"middle\" x=\"374\" y=\"-736.8\" font-family=\"Times New Roman,serif\" font-size=\"14.00\">samples = 596</text>\n",
       "<text text-anchor=\"middle\" x=\"374\" y=\"-721.8\" font-family=\"Times New Roman,serif\" font-size=\"14.00\">value = [374, 222]</text>\n",
       "<text text-anchor=\"middle\" x=\"374\" y=\"-706.8\" font-family=\"Times New Roman,serif\" font-size=\"14.00\">class = Died</text>\n",
       "</g>\n",
       "<!-- 1 -->\n",
       "<g id=\"node2\" class=\"node\"><title>1</title>\n",
       "<polygon fill=\"#85c2ef\" stroke=\"black\" points=\"365.5,-663 254.5,-663 254.5,-580 365.5,-580 365.5,-663\"/>\n",
       "<text text-anchor=\"middle\" x=\"310\" y=\"-647.8\" font-family=\"Times New Roman,serif\" font-size=\"14.00\">Pclass &lt;= 2.5</text>\n",
       "<text text-anchor=\"middle\" x=\"310\" y=\"-632.8\" font-family=\"Times New Roman,serif\" font-size=\"14.00\">entropy = 0.851</text>\n",
       "<text text-anchor=\"middle\" x=\"310\" y=\"-617.8\" font-family=\"Times New Roman,serif\" font-size=\"14.00\">samples = 206</text>\n",
       "<text text-anchor=\"middle\" x=\"310\" y=\"-602.8\" font-family=\"Times New Roman,serif\" font-size=\"14.00\">value = [57, 149]</text>\n",
       "<text text-anchor=\"middle\" x=\"310\" y=\"-587.8\" font-family=\"Times New Roman,serif\" font-size=\"14.00\">class = Survived</text>\n",
       "</g>\n",
       "<!-- 0&#45;&gt;1 -->\n",
       "<g id=\"edge1\" class=\"edge\"><title>0-&gt;1</title>\n",
       "<path fill=\"none\" stroke=\"black\" d=\"M351.796,-698.907C347.03,-690.195 341.944,-680.897 337.019,-671.893\"/>\n",
       "<polygon fill=\"black\" stroke=\"black\" points=\"340.035,-670.114 332.165,-663.021 333.894,-673.474 340.035,-670.114\"/>\n",
       "<text text-anchor=\"middle\" x=\"325.14\" y=\"-683.313\" font-family=\"Times New Roman,serif\" font-size=\"14.00\">True</text>\n",
       "</g>\n",
       "<!-- 20 -->\n",
       "<g id=\"node21\" class=\"node\"><title>20</title>\n",
       "<polygon fill=\"#eb9e67\" stroke=\"black\" points=\"494.5,-663 383.5,-663 383.5,-580 494.5,-580 494.5,-663\"/>\n",
       "<text text-anchor=\"middle\" x=\"439\" y=\"-647.8\" font-family=\"Times New Roman,serif\" font-size=\"14.00\">Age &lt;= 3.5</text>\n",
       "<text text-anchor=\"middle\" x=\"439\" y=\"-632.8\" font-family=\"Times New Roman,serif\" font-size=\"14.00\">entropy = 0.696</text>\n",
       "<text text-anchor=\"middle\" x=\"439\" y=\"-617.8\" font-family=\"Times New Roman,serif\" font-size=\"14.00\">samples = 390</text>\n",
       "<text text-anchor=\"middle\" x=\"439\" y=\"-602.8\" font-family=\"Times New Roman,serif\" font-size=\"14.00\">value = [317, 73]</text>\n",
       "<text text-anchor=\"middle\" x=\"439\" y=\"-587.8\" font-family=\"Times New Roman,serif\" font-size=\"14.00\">class = Died</text>\n",
       "</g>\n",
       "<!-- 0&#45;&gt;20 -->\n",
       "<g id=\"edge20\" class=\"edge\"><title>0-&gt;20</title>\n",
       "<path fill=\"none\" stroke=\"black\" d=\"M396.551,-698.907C401.391,-690.195 406.557,-680.897 411.559,-671.893\"/>\n",
       "<polygon fill=\"black\" stroke=\"black\" points=\"414.692,-673.462 416.488,-663.021 408.572,-670.063 414.692,-673.462\"/>\n",
       "<text text-anchor=\"middle\" x=\"423.356\" y=\"-683.359\" font-family=\"Times New Roman,serif\" font-size=\"14.00\">False</text>\n",
       "</g>\n",
       "<!-- 2 -->\n",
       "<g id=\"node3\" class=\"node\"><title>2</title>\n",
       "<polygon fill=\"#41a1e6\" stroke=\"black\" points=\"238,-544 128,-544 128,-461 238,-461 238,-544\"/>\n",
       "<text text-anchor=\"middle\" x=\"183\" y=\"-528.8\" font-family=\"Times New Roman,serif\" font-size=\"14.00\">Age &lt;= 2.5</text>\n",
       "<text text-anchor=\"middle\" x=\"183\" y=\"-513.8\" font-family=\"Times New Roman,serif\" font-size=\"14.00\">entropy = 0.23</text>\n",
       "<text text-anchor=\"middle\" x=\"183\" y=\"-498.8\" font-family=\"Times New Roman,serif\" font-size=\"14.00\">samples = 107</text>\n",
       "<text text-anchor=\"middle\" x=\"183\" y=\"-483.8\" font-family=\"Times New Roman,serif\" font-size=\"14.00\">value = [4, 103]</text>\n",
       "<text text-anchor=\"middle\" x=\"183\" y=\"-468.8\" font-family=\"Times New Roman,serif\" font-size=\"14.00\">class = Survived</text>\n",
       "</g>\n",
       "<!-- 1&#45;&gt;2 -->\n",
       "<g id=\"edge2\" class=\"edge\"><title>1-&gt;2</title>\n",
       "<path fill=\"none\" stroke=\"black\" d=\"M265.938,-579.907C255.792,-570.56 244.913,-560.538 234.483,-550.929\"/>\n",
       "<polygon fill=\"black\" stroke=\"black\" points=\"236.71,-548.222 226.984,-544.021 231.967,-553.371 236.71,-548.222\"/>\n",
       "</g>\n",
       "<!-- 11 -->\n",
       "<g id=\"node12\" class=\"node\"><title>11</title>\n",
       "<polygon fill=\"#fceee5\" stroke=\"black\" points=\"364,-544 258,-544 258,-461 364,-461 364,-544\"/>\n",
       "<text text-anchor=\"middle\" x=\"311\" y=\"-528.8\" font-family=\"Times New Roman,serif\" font-size=\"14.00\">Fare &lt;= 23.35</text>\n",
       "<text text-anchor=\"middle\" x=\"311\" y=\"-513.8\" font-family=\"Times New Roman,serif\" font-size=\"14.00\">entropy = 0.996</text>\n",
       "<text text-anchor=\"middle\" x=\"311\" y=\"-498.8\" font-family=\"Times New Roman,serif\" font-size=\"14.00\">samples = 99</text>\n",
       "<text text-anchor=\"middle\" x=\"311\" y=\"-483.8\" font-family=\"Times New Roman,serif\" font-size=\"14.00\">value = [53, 46]</text>\n",
       "<text text-anchor=\"middle\" x=\"311\" y=\"-468.8\" font-family=\"Times New Roman,serif\" font-size=\"14.00\">class = Died</text>\n",
       "</g>\n",
       "<!-- 1&#45;&gt;11 -->\n",
       "<g id=\"edge11\" class=\"edge\"><title>1-&gt;11</title>\n",
       "<path fill=\"none\" stroke=\"black\" d=\"M310.347,-579.907C310.418,-571.649 310.493,-562.864 310.566,-554.302\"/>\n",
       "<polygon fill=\"black\" stroke=\"black\" points=\"314.068,-554.05 310.654,-544.021 307.068,-553.99 314.068,-554.05\"/>\n",
       "</g>\n",
       "<!-- 3 -->\n",
       "<g id=\"node4\" class=\"node\"><title>3</title>\n",
       "<polygon fill=\"#ffffff\" stroke=\"black\" points=\"110,-417.5 18,-417.5 18,-349.5 110,-349.5 110,-417.5\"/>\n",
       "<text text-anchor=\"middle\" x=\"64\" y=\"-402.3\" font-family=\"Times New Roman,serif\" font-size=\"14.00\">entropy = 1.0</text>\n",
       "<text text-anchor=\"middle\" x=\"64\" y=\"-387.3\" font-family=\"Times New Roman,serif\" font-size=\"14.00\">samples = 2</text>\n",
       "<text text-anchor=\"middle\" x=\"64\" y=\"-372.3\" font-family=\"Times New Roman,serif\" font-size=\"14.00\">value = [1, 1]</text>\n",
       "<text text-anchor=\"middle\" x=\"64\" y=\"-357.3\" font-family=\"Times New Roman,serif\" font-size=\"14.00\">class = Died</text>\n",
       "</g>\n",
       "<!-- 2&#45;&gt;3 -->\n",
       "<g id=\"edge3\" class=\"edge\"><title>2-&gt;3</title>\n",
       "<path fill=\"none\" stroke=\"black\" d=\"M141.714,-460.907C129.817,-449.211 116.845,-436.457 104.968,-424.78\"/>\n",
       "<polygon fill=\"black\" stroke=\"black\" points=\"107.318,-422.182 97.7339,-417.667 102.411,-427.174 107.318,-422.182\"/>\n",
       "</g>\n",
       "<!-- 4 -->\n",
       "<g id=\"node5\" class=\"node\"><title>4</title>\n",
       "<polygon fill=\"#3fa0e6\" stroke=\"black\" points=\"238,-425 128,-425 128,-342 238,-342 238,-425\"/>\n",
       "<text text-anchor=\"middle\" x=\"183\" y=\"-409.8\" font-family=\"Times New Roman,serif\" font-size=\"14.00\">Age &lt;= 24.5</text>\n",
       "<text text-anchor=\"middle\" x=\"183\" y=\"-394.8\" font-family=\"Times New Roman,serif\" font-size=\"14.00\">entropy = 0.187</text>\n",
       "<text text-anchor=\"middle\" x=\"183\" y=\"-379.8\" font-family=\"Times New Roman,serif\" font-size=\"14.00\">samples = 105</text>\n",
       "<text text-anchor=\"middle\" x=\"183\" y=\"-364.8\" font-family=\"Times New Roman,serif\" font-size=\"14.00\">value = [3, 102]</text>\n",
       "<text text-anchor=\"middle\" x=\"183\" y=\"-349.8\" font-family=\"Times New Roman,serif\" font-size=\"14.00\">class = Survived</text>\n",
       "</g>\n",
       "<!-- 2&#45;&gt;4 -->\n",
       "<g id=\"edge4\" class=\"edge\"><title>2-&gt;4</title>\n",
       "<path fill=\"none\" stroke=\"black\" d=\"M183,-460.907C183,-452.649 183,-443.864 183,-435.302\"/>\n",
       "<polygon fill=\"black\" stroke=\"black\" points=\"186.5,-435.021 183,-425.021 179.5,-435.021 186.5,-435.021\"/>\n",
       "</g>\n",
       "<!-- 5 -->\n",
       "<g id=\"node6\" class=\"node\"><title>5</title>\n",
       "<polygon fill=\"#399de5\" stroke=\"black\" points=\"110,-298.5 0,-298.5 0,-230.5 110,-230.5 110,-298.5\"/>\n",
       "<text text-anchor=\"middle\" x=\"55\" y=\"-283.3\" font-family=\"Times New Roman,serif\" font-size=\"14.00\">entropy = 0.0</text>\n",
       "<text text-anchor=\"middle\" x=\"55\" y=\"-268.3\" font-family=\"Times New Roman,serif\" font-size=\"14.00\">samples = 34</text>\n",
       "<text text-anchor=\"middle\" x=\"55\" y=\"-253.3\" font-family=\"Times New Roman,serif\" font-size=\"14.00\">value = [0, 34]</text>\n",
       "<text text-anchor=\"middle\" x=\"55\" y=\"-238.3\" font-family=\"Times New Roman,serif\" font-size=\"14.00\">class = Survived</text>\n",
       "</g>\n",
       "<!-- 4&#45;&gt;5 -->\n",
       "<g id=\"edge5\" class=\"edge\"><title>4-&gt;5</title>\n",
       "<path fill=\"none\" stroke=\"black\" d=\"M138.591,-341.907C125.674,-330.101 111.579,-317.217 98.7055,-305.45\"/>\n",
       "<polygon fill=\"black\" stroke=\"black\" points=\"101.028,-302.83 91.2852,-298.667 96.3049,-307.997 101.028,-302.83\"/>\n",
       "</g>\n",
       "<!-- 6 -->\n",
       "<g id=\"node7\" class=\"node\"><title>6</title>\n",
       "<polygon fill=\"#42a1e6\" stroke=\"black\" points=\"238,-306 128,-306 128,-223 238,-223 238,-306\"/>\n",
       "<text text-anchor=\"middle\" x=\"183\" y=\"-290.8\" font-family=\"Times New Roman,serif\" font-size=\"14.00\">Age &lt;= 27.5</text>\n",
       "<text text-anchor=\"middle\" x=\"183\" y=\"-275.8\" font-family=\"Times New Roman,serif\" font-size=\"14.00\">entropy = 0.253</text>\n",
       "<text text-anchor=\"middle\" x=\"183\" y=\"-260.8\" font-family=\"Times New Roman,serif\" font-size=\"14.00\">samples = 71</text>\n",
       "<text text-anchor=\"middle\" x=\"183\" y=\"-245.8\" font-family=\"Times New Roman,serif\" font-size=\"14.00\">value = [3, 68]</text>\n",
       "<text text-anchor=\"middle\" x=\"183\" y=\"-230.8\" font-family=\"Times New Roman,serif\" font-size=\"14.00\">class = Survived</text>\n",
       "</g>\n",
       "<!-- 4&#45;&gt;6 -->\n",
       "<g id=\"edge6\" class=\"edge\"><title>4-&gt;6</title>\n",
       "<path fill=\"none\" stroke=\"black\" d=\"M183,-341.907C183,-333.649 183,-324.864 183,-316.302\"/>\n",
       "<polygon fill=\"black\" stroke=\"black\" points=\"186.5,-316.021 183,-306.021 179.5,-316.021 186.5,-316.021\"/>\n",
       "</g>\n",
       "<!-- 7 -->\n",
       "<g id=\"node8\" class=\"node\"><title>7</title>\n",
       "<polygon fill=\"#ffffff\" stroke=\"black\" points=\"110,-179.5 18,-179.5 18,-111.5 110,-111.5 110,-179.5\"/>\n",
       "<text text-anchor=\"middle\" x=\"64\" y=\"-164.3\" font-family=\"Times New Roman,serif\" font-size=\"14.00\">entropy = 1.0</text>\n",
       "<text text-anchor=\"middle\" x=\"64\" y=\"-149.3\" font-family=\"Times New Roman,serif\" font-size=\"14.00\">samples = 4</text>\n",
       "<text text-anchor=\"middle\" x=\"64\" y=\"-134.3\" font-family=\"Times New Roman,serif\" font-size=\"14.00\">value = [2, 2]</text>\n",
       "<text text-anchor=\"middle\" x=\"64\" y=\"-119.3\" font-family=\"Times New Roman,serif\" font-size=\"14.00\">class = Died</text>\n",
       "</g>\n",
       "<!-- 6&#45;&gt;7 -->\n",
       "<g id=\"edge7\" class=\"edge\"><title>6-&gt;7</title>\n",
       "<path fill=\"none\" stroke=\"black\" d=\"M141.714,-222.907C129.817,-211.211 116.845,-198.457 104.968,-186.78\"/>\n",
       "<polygon fill=\"black\" stroke=\"black\" points=\"107.318,-184.182 97.7339,-179.667 102.411,-189.174 107.318,-184.182\"/>\n",
       "</g>\n",
       "<!-- 8 -->\n",
       "<g id=\"node9\" class=\"node\"><title>8</title>\n",
       "<polygon fill=\"#3c9ee5\" stroke=\"black\" points=\"238,-187 128,-187 128,-104 238,-104 238,-187\"/>\n",
       "<text text-anchor=\"middle\" x=\"183\" y=\"-171.8\" font-family=\"Times New Roman,serif\" font-size=\"14.00\">Age &lt;= 49.5</text>\n",
       "<text text-anchor=\"middle\" x=\"183\" y=\"-156.8\" font-family=\"Times New Roman,serif\" font-size=\"14.00\">entropy = 0.112</text>\n",
       "<text text-anchor=\"middle\" x=\"183\" y=\"-141.8\" font-family=\"Times New Roman,serif\" font-size=\"14.00\">samples = 67</text>\n",
       "<text text-anchor=\"middle\" x=\"183\" y=\"-126.8\" font-family=\"Times New Roman,serif\" font-size=\"14.00\">value = [1, 66]</text>\n",
       "<text text-anchor=\"middle\" x=\"183\" y=\"-111.8\" font-family=\"Times New Roman,serif\" font-size=\"14.00\">class = Survived</text>\n",
       "</g>\n",
       "<!-- 6&#45;&gt;8 -->\n",
       "<g id=\"edge8\" class=\"edge\"><title>6-&gt;8</title>\n",
       "<path fill=\"none\" stroke=\"black\" d=\"M183,-222.907C183,-214.649 183,-205.864 183,-197.302\"/>\n",
       "<polygon fill=\"black\" stroke=\"black\" points=\"186.5,-197.021 183,-187.021 179.5,-197.021 186.5,-197.021\"/>\n",
       "</g>\n",
       "<!-- 9 -->\n",
       "<g id=\"node10\" class=\"node\"><title>9</title>\n",
       "<polygon fill=\"#399de5\" stroke=\"black\" points=\"110,-68 0,-68 0,-0 110,-0 110,-68\"/>\n",
       "<text text-anchor=\"middle\" x=\"55\" y=\"-52.8\" font-family=\"Times New Roman,serif\" font-size=\"14.00\">entropy = 0.0</text>\n",
       "<text text-anchor=\"middle\" x=\"55\" y=\"-37.8\" font-family=\"Times New Roman,serif\" font-size=\"14.00\">samples = 54</text>\n",
       "<text text-anchor=\"middle\" x=\"55\" y=\"-22.8\" font-family=\"Times New Roman,serif\" font-size=\"14.00\">value = [0, 54]</text>\n",
       "<text text-anchor=\"middle\" x=\"55\" y=\"-7.8\" font-family=\"Times New Roman,serif\" font-size=\"14.00\">class = Survived</text>\n",
       "</g>\n",
       "<!-- 8&#45;&gt;9 -->\n",
       "<g id=\"edge9\" class=\"edge\"><title>8-&gt;9</title>\n",
       "<path fill=\"none\" stroke=\"black\" d=\"M135.338,-103.726C124.356,-94.3318 112.686,-84.349 101.744,-74.9883\"/>\n",
       "<polygon fill=\"black\" stroke=\"black\" points=\"103.8,-72.1406 93.9256,-68.2996 99.2492,-77.4598 103.8,-72.1406\"/>\n",
       "</g>\n",
       "<!-- 10 -->\n",
       "<g id=\"node11\" class=\"node\"><title>10</title>\n",
       "<polygon fill=\"#49a5e7\" stroke=\"black\" points=\"238,-68 128,-68 128,-0 238,-0 238,-68\"/>\n",
       "<text text-anchor=\"middle\" x=\"183\" y=\"-52.8\" font-family=\"Times New Roman,serif\" font-size=\"14.00\">entropy = 0.391</text>\n",
       "<text text-anchor=\"middle\" x=\"183\" y=\"-37.8\" font-family=\"Times New Roman,serif\" font-size=\"14.00\">samples = 13</text>\n",
       "<text text-anchor=\"middle\" x=\"183\" y=\"-22.8\" font-family=\"Times New Roman,serif\" font-size=\"14.00\">value = [1, 12]</text>\n",
       "<text text-anchor=\"middle\" x=\"183\" y=\"-7.8\" font-family=\"Times New Roman,serif\" font-size=\"14.00\">class = Survived</text>\n",
       "</g>\n",
       "<!-- 8&#45;&gt;10 -->\n",
       "<g id=\"edge10\" class=\"edge\"><title>8-&gt;10</title>\n",
       "<path fill=\"none\" stroke=\"black\" d=\"M183,-103.726C183,-95.5175 183,-86.8595 183,-78.56\"/>\n",
       "<polygon fill=\"black\" stroke=\"black\" points=\"186.5,-78.2996 183,-68.2996 179.5,-78.2996 186.5,-78.2996\"/>\n",
       "</g>\n",
       "<!-- 12 -->\n",
       "<g id=\"node13\" class=\"node\"><title>12</title>\n",
       "<polygon fill=\"#d7ebfa\" stroke=\"black\" points=\"366,-425 256,-425 256,-342 366,-342 366,-425\"/>\n",
       "<text text-anchor=\"middle\" x=\"311\" y=\"-409.8\" font-family=\"Times New Roman,serif\" font-size=\"14.00\">Age &lt;= 36.5</text>\n",
       "<text text-anchor=\"middle\" x=\"311\" y=\"-394.8\" font-family=\"Times New Roman,serif\" font-size=\"14.00\">entropy = 0.991</text>\n",
       "<text text-anchor=\"middle\" x=\"311\" y=\"-379.8\" font-family=\"Times New Roman,serif\" font-size=\"14.00\">samples = 81</text>\n",
       "<text text-anchor=\"middle\" x=\"311\" y=\"-364.8\" font-family=\"Times New Roman,serif\" font-size=\"14.00\">value = [36, 45]</text>\n",
       "<text text-anchor=\"middle\" x=\"311\" y=\"-349.8\" font-family=\"Times New Roman,serif\" font-size=\"14.00\">class = Survived</text>\n",
       "</g>\n",
       "<!-- 11&#45;&gt;12 -->\n",
       "<g id=\"edge12\" class=\"edge\"><title>11-&gt;12</title>\n",
       "<path fill=\"none\" stroke=\"black\" d=\"M311,-460.907C311,-452.649 311,-443.864 311,-435.302\"/>\n",
       "<polygon fill=\"black\" stroke=\"black\" points=\"314.5,-435.021 311,-425.021 307.5,-435.021 314.5,-435.021\"/>\n",
       "</g>\n",
       "<!-- 19 -->\n",
       "<g id=\"node20\" class=\"node\"><title>19</title>\n",
       "<polygon fill=\"#e78845\" stroke=\"black\" points=\"483.5,-417.5 384.5,-417.5 384.5,-349.5 483.5,-349.5 483.5,-417.5\"/>\n",
       "<text text-anchor=\"middle\" x=\"434\" y=\"-402.3\" font-family=\"Times New Roman,serif\" font-size=\"14.00\">entropy = 0.31</text>\n",
       "<text text-anchor=\"middle\" x=\"434\" y=\"-387.3\" font-family=\"Times New Roman,serif\" font-size=\"14.00\">samples = 18</text>\n",
       "<text text-anchor=\"middle\" x=\"434\" y=\"-372.3\" font-family=\"Times New Roman,serif\" font-size=\"14.00\">value = [17, 1]</text>\n",
       "<text text-anchor=\"middle\" x=\"434\" y=\"-357.3\" font-family=\"Times New Roman,serif\" font-size=\"14.00\">class = Died</text>\n",
       "</g>\n",
       "<!-- 11&#45;&gt;19 -->\n",
       "<g id=\"edge19\" class=\"edge\"><title>11-&gt;19</title>\n",
       "<path fill=\"none\" stroke=\"black\" d=\"M353.674,-460.907C365.971,-449.211 379.378,-436.457 391.655,-424.78\"/>\n",
       "<polygon fill=\"black\" stroke=\"black\" points=\"394.299,-427.095 399.132,-417.667 389.474,-422.023 394.299,-427.095\"/>\n",
       "</g>\n",
       "<!-- 13 -->\n",
       "<g id=\"node14\" class=\"node\"><title>13</title>\n",
       "<polygon fill=\"#c6e3f7\" stroke=\"black\" points=\"366,-306 256,-306 256,-223 366,-223 366,-306\"/>\n",
       "<text text-anchor=\"middle\" x=\"311\" y=\"-290.8\" font-family=\"Times New Roman,serif\" font-size=\"14.00\">Fare &lt;= 14.852</text>\n",
       "<text text-anchor=\"middle\" x=\"311\" y=\"-275.8\" font-family=\"Times New Roman,serif\" font-size=\"14.00\">entropy = 0.979</text>\n",
       "<text text-anchor=\"middle\" x=\"311\" y=\"-260.8\" font-family=\"Times New Roman,serif\" font-size=\"14.00\">samples = 77</text>\n",
       "<text text-anchor=\"middle\" x=\"311\" y=\"-245.8\" font-family=\"Times New Roman,serif\" font-size=\"14.00\">value = [32, 45]</text>\n",
       "<text text-anchor=\"middle\" x=\"311\" y=\"-230.8\" font-family=\"Times New Roman,serif\" font-size=\"14.00\">class = Survived</text>\n",
       "</g>\n",
       "<!-- 12&#45;&gt;13 -->\n",
       "<g id=\"edge13\" class=\"edge\"><title>12-&gt;13</title>\n",
       "<path fill=\"none\" stroke=\"black\" d=\"M311,-341.907C311,-333.649 311,-324.864 311,-316.302\"/>\n",
       "<polygon fill=\"black\" stroke=\"black\" points=\"314.5,-316.021 311,-306.021 307.5,-316.021 314.5,-316.021\"/>\n",
       "</g>\n",
       "<!-- 18 -->\n",
       "<g id=\"node19\" class=\"node\"><title>18</title>\n",
       "<polygon fill=\"#e58139\" stroke=\"black\" points=\"476,-298.5 384,-298.5 384,-230.5 476,-230.5 476,-298.5\"/>\n",
       "<text text-anchor=\"middle\" x=\"430\" y=\"-283.3\" font-family=\"Times New Roman,serif\" font-size=\"14.00\">entropy = 0.0</text>\n",
       "<text text-anchor=\"middle\" x=\"430\" y=\"-268.3\" font-family=\"Times New Roman,serif\" font-size=\"14.00\">samples = 4</text>\n",
       "<text text-anchor=\"middle\" x=\"430\" y=\"-253.3\" font-family=\"Times New Roman,serif\" font-size=\"14.00\">value = [4, 0]</text>\n",
       "<text text-anchor=\"middle\" x=\"430\" y=\"-238.3\" font-family=\"Times New Roman,serif\" font-size=\"14.00\">class = Died</text>\n",
       "</g>\n",
       "<!-- 12&#45;&gt;18 -->\n",
       "<g id=\"edge18\" class=\"edge\"><title>12-&gt;18</title>\n",
       "<path fill=\"none\" stroke=\"black\" d=\"M352.286,-341.907C364.183,-330.211 377.155,-317.457 389.032,-305.78\"/>\n",
       "<polygon fill=\"black\" stroke=\"black\" points=\"391.589,-308.174 396.266,-298.667 386.682,-303.182 391.589,-308.174\"/>\n",
       "</g>\n",
       "<!-- 14 -->\n",
       "<g id=\"node15\" class=\"node\"><title>14</title>\n",
       "<polygon fill=\"#f8fbfe\" stroke=\"black\" points=\"366,-187 256,-187 256,-104 366,-104 366,-187\"/>\n",
       "<text text-anchor=\"middle\" x=\"311\" y=\"-171.8\" font-family=\"Times New Roman,serif\" font-size=\"14.00\">Fare &lt;= 7.763</text>\n",
       "<text text-anchor=\"middle\" x=\"311\" y=\"-156.8\" font-family=\"Times New Roman,serif\" font-size=\"14.00\">entropy = 1.0</text>\n",
       "<text text-anchor=\"middle\" x=\"311\" y=\"-141.8\" font-family=\"Times New Roman,serif\" font-size=\"14.00\">samples = 53</text>\n",
       "<text text-anchor=\"middle\" x=\"311\" y=\"-126.8\" font-family=\"Times New Roman,serif\" font-size=\"14.00\">value = [26, 27]</text>\n",
       "<text text-anchor=\"middle\" x=\"311\" y=\"-111.8\" font-family=\"Times New Roman,serif\" font-size=\"14.00\">class = Survived</text>\n",
       "</g>\n",
       "<!-- 13&#45;&gt;14 -->\n",
       "<g id=\"edge14\" class=\"edge\"><title>13-&gt;14</title>\n",
       "<path fill=\"none\" stroke=\"black\" d=\"M311,-222.907C311,-214.649 311,-205.864 311,-197.302\"/>\n",
       "<polygon fill=\"black\" stroke=\"black\" points=\"314.5,-197.021 311,-187.021 307.5,-197.021 314.5,-197.021\"/>\n",
       "</g>\n",
       "<!-- 17 -->\n",
       "<g id=\"node18\" class=\"node\"><title>17</title>\n",
       "<polygon fill=\"#7bbeee\" stroke=\"black\" points=\"494,-179.5 384,-179.5 384,-111.5 494,-111.5 494,-179.5\"/>\n",
       "<text text-anchor=\"middle\" x=\"439\" y=\"-164.3\" font-family=\"Times New Roman,serif\" font-size=\"14.00\">entropy = 0.811</text>\n",
       "<text text-anchor=\"middle\" x=\"439\" y=\"-149.3\" font-family=\"Times New Roman,serif\" font-size=\"14.00\">samples = 24</text>\n",
       "<text text-anchor=\"middle\" x=\"439\" y=\"-134.3\" font-family=\"Times New Roman,serif\" font-size=\"14.00\">value = [6, 18]</text>\n",
       "<text text-anchor=\"middle\" x=\"439\" y=\"-119.3\" font-family=\"Times New Roman,serif\" font-size=\"14.00\">class = Survived</text>\n",
       "</g>\n",
       "<!-- 13&#45;&gt;17 -->\n",
       "<g id=\"edge17\" class=\"edge\"><title>13-&gt;17</title>\n",
       "<path fill=\"none\" stroke=\"black\" d=\"M355.409,-222.907C368.326,-211.101 382.421,-198.217 395.295,-186.45\"/>\n",
       "<polygon fill=\"black\" stroke=\"black\" points=\"397.695,-188.997 402.715,-179.667 392.972,-183.83 397.695,-188.997\"/>\n",
       "</g>\n",
       "<!-- 15 -->\n",
       "<g id=\"node16\" class=\"node\"><title>15</title>\n",
       "<polygon fill=\"#77bced\" stroke=\"black\" points=\"366,-68 256,-68 256,-0 366,-0 366,-68\"/>\n",
       "<text text-anchor=\"middle\" x=\"311\" y=\"-52.8\" font-family=\"Times New Roman,serif\" font-size=\"14.00\">entropy = 0.792</text>\n",
       "<text text-anchor=\"middle\" x=\"311\" y=\"-37.8\" font-family=\"Times New Roman,serif\" font-size=\"14.00\">samples = 21</text>\n",
       "<text text-anchor=\"middle\" x=\"311\" y=\"-22.8\" font-family=\"Times New Roman,serif\" font-size=\"14.00\">value = [5, 16]</text>\n",
       "<text text-anchor=\"middle\" x=\"311\" y=\"-7.8\" font-family=\"Times New Roman,serif\" font-size=\"14.00\">class = Survived</text>\n",
       "</g>\n",
       "<!-- 14&#45;&gt;15 -->\n",
       "<g id=\"edge15\" class=\"edge\"><title>14-&gt;15</title>\n",
       "<path fill=\"none\" stroke=\"black\" d=\"M311,-103.726C311,-95.5175 311,-86.8595 311,-78.56\"/>\n",
       "<polygon fill=\"black\" stroke=\"black\" points=\"314.5,-78.2996 311,-68.2996 307.5,-78.2996 314.5,-78.2996\"/>\n",
       "</g>\n",
       "<!-- 16 -->\n",
       "<g id=\"node17\" class=\"node\"><title>16</title>\n",
       "<polygon fill=\"#f3c3a1\" stroke=\"black\" points=\"490,-68 384,-68 384,-0 490,-0 490,-68\"/>\n",
       "<text text-anchor=\"middle\" x=\"437\" y=\"-52.8\" font-family=\"Times New Roman,serif\" font-size=\"14.00\">entropy = 0.928</text>\n",
       "<text text-anchor=\"middle\" x=\"437\" y=\"-37.8\" font-family=\"Times New Roman,serif\" font-size=\"14.00\">samples = 32</text>\n",
       "<text text-anchor=\"middle\" x=\"437\" y=\"-22.8\" font-family=\"Times New Roman,serif\" font-size=\"14.00\">value = [21, 11]</text>\n",
       "<text text-anchor=\"middle\" x=\"437\" y=\"-7.8\" font-family=\"Times New Roman,serif\" font-size=\"14.00\">class = Died</text>\n",
       "</g>\n",
       "<!-- 14&#45;&gt;16 -->\n",
       "<g id=\"edge16\" class=\"edge\"><title>14-&gt;16</title>\n",
       "<path fill=\"none\" stroke=\"black\" d=\"M357.918,-103.726C368.728,-94.3318 380.215,-84.349 390.986,-74.9883\"/>\n",
       "<polygon fill=\"black\" stroke=\"black\" points=\"393.43,-77.501 398.683,-68.2996 388.839,-72.2174 393.43,-77.501\"/>\n",
       "</g>\n",
       "<!-- 21 -->\n",
       "<g id=\"node22\" class=\"node\"><title>21</title>\n",
       "<polygon fill=\"#74baed\" stroke=\"black\" points=\"493,-536.5 383,-536.5 383,-468.5 493,-468.5 493,-536.5\"/>\n",
       "<text text-anchor=\"middle\" x=\"438\" y=\"-521.3\" font-family=\"Times New Roman,serif\" font-size=\"14.00\">entropy = 0.779</text>\n",
       "<text text-anchor=\"middle\" x=\"438\" y=\"-506.3\" font-family=\"Times New Roman,serif\" font-size=\"14.00\">samples = 13</text>\n",
       "<text text-anchor=\"middle\" x=\"438\" y=\"-491.3\" font-family=\"Times New Roman,serif\" font-size=\"14.00\">value = [3, 10]</text>\n",
       "<text text-anchor=\"middle\" x=\"438\" y=\"-476.3\" font-family=\"Times New Roman,serif\" font-size=\"14.00\">class = Survived</text>\n",
       "</g>\n",
       "<!-- 20&#45;&gt;21 -->\n",
       "<g id=\"edge21\" class=\"edge\"><title>20-&gt;21</title>\n",
       "<path fill=\"none\" stroke=\"black\" d=\"M438.653,-579.907C438.562,-569.204 438.463,-557.615 438.37,-546.776\"/>\n",
       "<polygon fill=\"black\" stroke=\"black\" points=\"441.869,-546.637 438.283,-536.667 434.869,-546.697 441.869,-546.637\"/>\n",
       "</g>\n",
       "<!-- 22 -->\n",
       "<g id=\"node23\" class=\"node\"><title>22</title>\n",
       "<polygon fill=\"#ea9a61\" stroke=\"black\" points=\"622.5,-544 511.5,-544 511.5,-461 622.5,-461 622.5,-544\"/>\n",
       "<text text-anchor=\"middle\" x=\"567\" y=\"-528.8\" font-family=\"Times New Roman,serif\" font-size=\"14.00\">Fare &lt;= 52.277</text>\n",
       "<text text-anchor=\"middle\" x=\"567\" y=\"-513.8\" font-family=\"Times New Roman,serif\" font-size=\"14.00\">entropy = 0.651</text>\n",
       "<text text-anchor=\"middle\" x=\"567\" y=\"-498.8\" font-family=\"Times New Roman,serif\" font-size=\"14.00\">samples = 377</text>\n",
       "<text text-anchor=\"middle\" x=\"567\" y=\"-483.8\" font-family=\"Times New Roman,serif\" font-size=\"14.00\">value = [314, 63]</text>\n",
       "<text text-anchor=\"middle\" x=\"567\" y=\"-468.8\" font-family=\"Times New Roman,serif\" font-size=\"14.00\">class = Died</text>\n",
       "</g>\n",
       "<!-- 20&#45;&gt;22 -->\n",
       "<g id=\"edge22\" class=\"edge\"><title>20-&gt;22</title>\n",
       "<path fill=\"none\" stroke=\"black\" d=\"M483.409,-579.907C493.635,-570.56 504.6,-560.538 515.112,-550.929\"/>\n",
       "<polygon fill=\"black\" stroke=\"black\" points=\"517.65,-553.351 522.67,-544.021 512.927,-548.184 517.65,-553.351\"/>\n",
       "</g>\n",
       "<!-- 23 -->\n",
       "<g id=\"node24\" class=\"node\"><title>23</title>\n",
       "<polygon fill=\"#e99559\" stroke=\"black\" points=\"621.5,-425 510.5,-425 510.5,-342 621.5,-342 621.5,-425\"/>\n",
       "<text text-anchor=\"middle\" x=\"566\" y=\"-409.8\" font-family=\"Times New Roman,serif\" font-size=\"14.00\">Fare &lt;= 36.877</text>\n",
       "<text text-anchor=\"middle\" x=\"566\" y=\"-394.8\" font-family=\"Times New Roman,serif\" font-size=\"14.00\">entropy = 0.58</text>\n",
       "<text text-anchor=\"middle\" x=\"566\" y=\"-379.8\" font-family=\"Times New Roman,serif\" font-size=\"14.00\">samples = 332</text>\n",
       "<text text-anchor=\"middle\" x=\"566\" y=\"-364.8\" font-family=\"Times New Roman,serif\" font-size=\"14.00\">value = [286, 46]</text>\n",
       "<text text-anchor=\"middle\" x=\"566\" y=\"-349.8\" font-family=\"Times New Roman,serif\" font-size=\"14.00\">class = Died</text>\n",
       "</g>\n",
       "<!-- 22&#45;&gt;23 -->\n",
       "<g id=\"edge23\" class=\"edge\"><title>22-&gt;23</title>\n",
       "<path fill=\"none\" stroke=\"black\" d=\"M566.653,-460.907C566.582,-452.649 566.507,-443.864 566.434,-435.302\"/>\n",
       "<polygon fill=\"black\" stroke=\"black\" points=\"569.932,-434.99 566.346,-425.021 562.932,-435.05 569.932,-434.99\"/>\n",
       "</g>\n",
       "<!-- 30 -->\n",
       "<g id=\"node31\" class=\"node\"><title>30</title>\n",
       "<polygon fill=\"#f5ceb1\" stroke=\"black\" points=\"746,-417.5 640,-417.5 640,-349.5 746,-349.5 746,-417.5\"/>\n",
       "<text text-anchor=\"middle\" x=\"693\" y=\"-402.3\" font-family=\"Times New Roman,serif\" font-size=\"14.00\">entropy = 0.956</text>\n",
       "<text text-anchor=\"middle\" x=\"693\" y=\"-387.3\" font-family=\"Times New Roman,serif\" font-size=\"14.00\">samples = 45</text>\n",
       "<text text-anchor=\"middle\" x=\"693\" y=\"-372.3\" font-family=\"Times New Roman,serif\" font-size=\"14.00\">value = [28, 17]</text>\n",
       "<text text-anchor=\"middle\" x=\"693\" y=\"-357.3\" font-family=\"Times New Roman,serif\" font-size=\"14.00\">class = Died</text>\n",
       "</g>\n",
       "<!-- 22&#45;&gt;30 -->\n",
       "<g id=\"edge30\" class=\"edge\"><title>22-&gt;30</title>\n",
       "<path fill=\"none\" stroke=\"black\" d=\"M610.715,-460.907C623.311,-449.211 637.046,-436.457 649.622,-424.78\"/>\n",
       "<polygon fill=\"black\" stroke=\"black\" points=\"652.335,-427.036 657.282,-417.667 647.572,-421.907 652.335,-427.036\"/>\n",
       "</g>\n",
       "<!-- 24 -->\n",
       "<g id=\"node25\" class=\"node\"><title>24</title>\n",
       "<polygon fill=\"#e9975b\" stroke=\"black\" points=\"621.5,-306 510.5,-306 510.5,-223 621.5,-223 621.5,-306\"/>\n",
       "<text text-anchor=\"middle\" x=\"566\" y=\"-290.8\" font-family=\"Times New Roman,serif\" font-size=\"14.00\">Pclass &lt;= 1.5</text>\n",
       "<text text-anchor=\"middle\" x=\"566\" y=\"-275.8\" font-family=\"Times New Roman,serif\" font-size=\"14.00\">entropy = 0.601</text>\n",
       "<text text-anchor=\"middle\" x=\"566\" y=\"-260.8\" font-family=\"Times New Roman,serif\" font-size=\"14.00\">samples = 314</text>\n",
       "<text text-anchor=\"middle\" x=\"566\" y=\"-245.8\" font-family=\"Times New Roman,serif\" font-size=\"14.00\">value = [268, 46]</text>\n",
       "<text text-anchor=\"middle\" x=\"566\" y=\"-230.8\" font-family=\"Times New Roman,serif\" font-size=\"14.00\">class = Died</text>\n",
       "</g>\n",
       "<!-- 23&#45;&gt;24 -->\n",
       "<g id=\"edge24\" class=\"edge\"><title>23-&gt;24</title>\n",
       "<path fill=\"none\" stroke=\"black\" d=\"M566,-341.907C566,-333.649 566,-324.864 566,-316.302\"/>\n",
       "<polygon fill=\"black\" stroke=\"black\" points=\"569.5,-316.021 566,-306.021 562.5,-316.021 569.5,-316.021\"/>\n",
       "</g>\n",
       "<!-- 29 -->\n",
       "<g id=\"node30\" class=\"node\"><title>29</title>\n",
       "<polygon fill=\"#e58139\" stroke=\"black\" points=\"738,-298.5 640,-298.5 640,-230.5 738,-230.5 738,-298.5\"/>\n",
       "<text text-anchor=\"middle\" x=\"689\" y=\"-283.3\" font-family=\"Times New Roman,serif\" font-size=\"14.00\">entropy = 0.0</text>\n",
       "<text text-anchor=\"middle\" x=\"689\" y=\"-268.3\" font-family=\"Times New Roman,serif\" font-size=\"14.00\">samples = 18</text>\n",
       "<text text-anchor=\"middle\" x=\"689\" y=\"-253.3\" font-family=\"Times New Roman,serif\" font-size=\"14.00\">value = [18, 0]</text>\n",
       "<text text-anchor=\"middle\" x=\"689\" y=\"-238.3\" font-family=\"Times New Roman,serif\" font-size=\"14.00\">class = Died</text>\n",
       "</g>\n",
       "<!-- 23&#45;&gt;29 -->\n",
       "<g id=\"edge29\" class=\"edge\"><title>23-&gt;29</title>\n",
       "<path fill=\"none\" stroke=\"black\" d=\"M608.674,-341.907C620.971,-330.211 634.378,-317.457 646.655,-305.78\"/>\n",
       "<polygon fill=\"black\" stroke=\"black\" points=\"649.299,-308.095 654.132,-298.667 644.474,-303.023 649.299,-308.095\"/>\n",
       "</g>\n",
       "<!-- 25 -->\n",
       "<g id=\"node26\" class=\"node\"><title>25</title>\n",
       "<polygon fill=\"#f1bd98\" stroke=\"black\" points=\"619,-179.5 513,-179.5 513,-111.5 619,-111.5 619,-179.5\"/>\n",
       "<text text-anchor=\"middle\" x=\"566\" y=\"-164.3\" font-family=\"Times New Roman,serif\" font-size=\"14.00\">entropy = 0.908</text>\n",
       "<text text-anchor=\"middle\" x=\"566\" y=\"-149.3\" font-family=\"Times New Roman,serif\" font-size=\"14.00\">samples = 34</text>\n",
       "<text text-anchor=\"middle\" x=\"566\" y=\"-134.3\" font-family=\"Times New Roman,serif\" font-size=\"14.00\">value = [23, 11]</text>\n",
       "<text text-anchor=\"middle\" x=\"566\" y=\"-119.3\" font-family=\"Times New Roman,serif\" font-size=\"14.00\">class = Died</text>\n",
       "</g>\n",
       "<!-- 24&#45;&gt;25 -->\n",
       "<g id=\"edge25\" class=\"edge\"><title>24-&gt;25</title>\n",
       "<path fill=\"none\" stroke=\"black\" d=\"M566,-222.907C566,-212.204 566,-200.615 566,-189.776\"/>\n",
       "<polygon fill=\"black\" stroke=\"black\" points=\"569.5,-189.667 566,-179.667 562.5,-189.667 569.5,-189.667\"/>\n",
       "</g>\n",
       "<!-- 26 -->\n",
       "<g id=\"node27\" class=\"node\"><title>26</title>\n",
       "<polygon fill=\"#e99355\" stroke=\"black\" points=\"748.5,-187 637.5,-187 637.5,-104 748.5,-104 748.5,-187\"/>\n",
       "<text text-anchor=\"middle\" x=\"693\" y=\"-171.8\" font-family=\"Times New Roman,serif\" font-size=\"14.00\">Age &lt;= 13.5</text>\n",
       "<text text-anchor=\"middle\" x=\"693\" y=\"-156.8\" font-family=\"Times New Roman,serif\" font-size=\"14.00\">entropy = 0.544</text>\n",
       "<text text-anchor=\"middle\" x=\"693\" y=\"-141.8\" font-family=\"Times New Roman,serif\" font-size=\"14.00\">samples = 280</text>\n",
       "<text text-anchor=\"middle\" x=\"693\" y=\"-126.8\" font-family=\"Times New Roman,serif\" font-size=\"14.00\">value = [245, 35]</text>\n",
       "<text text-anchor=\"middle\" x=\"693\" y=\"-111.8\" font-family=\"Times New Roman,serif\" font-size=\"14.00\">class = Died</text>\n",
       "</g>\n",
       "<!-- 24&#45;&gt;26 -->\n",
       "<g id=\"edge26\" class=\"edge\"><title>24-&gt;26</title>\n",
       "<path fill=\"none\" stroke=\"black\" d=\"M610.062,-222.907C620.208,-213.56 631.087,-203.538 641.517,-193.929\"/>\n",
       "<polygon fill=\"black\" stroke=\"black\" points=\"644.033,-196.371 649.016,-187.021 639.29,-191.222 644.033,-196.371\"/>\n",
       "</g>\n",
       "<!-- 27 -->\n",
       "<g id=\"node28\" class=\"node\"><title>27</title>\n",
       "<polygon fill=\"#f6d5bd\" stroke=\"black\" points=\"682,-68 576,-68 576,-0 682,-0 682,-68\"/>\n",
       "<text text-anchor=\"middle\" x=\"629\" y=\"-52.8\" font-family=\"Times New Roman,serif\" font-size=\"14.00\">entropy = 0.971</text>\n",
       "<text text-anchor=\"middle\" x=\"629\" y=\"-37.8\" font-family=\"Times New Roman,serif\" font-size=\"14.00\">samples = 10</text>\n",
       "<text text-anchor=\"middle\" x=\"629\" y=\"-22.8\" font-family=\"Times New Roman,serif\" font-size=\"14.00\">value = [6, 4]</text>\n",
       "<text text-anchor=\"middle\" x=\"629\" y=\"-7.8\" font-family=\"Times New Roman,serif\" font-size=\"14.00\">class = Died</text>\n",
       "</g>\n",
       "<!-- 26&#45;&gt;27 -->\n",
       "<g id=\"edge27\" class=\"edge\"><title>26-&gt;27</title>\n",
       "<path fill=\"none\" stroke=\"black\" d=\"M669.169,-103.726C664.104,-95.0615 658.748,-85.8962 653.653,-77.1802\"/>\n",
       "<polygon fill=\"black\" stroke=\"black\" points=\"656.531,-75.167 648.463,-68.2996 650.487,-78.6992 656.531,-75.167\"/>\n",
       "</g>\n",
       "<!-- 28 -->\n",
       "<g id=\"node29\" class=\"node\"><title>28</title>\n",
       "<polygon fill=\"#e89153\" stroke=\"black\" points=\"811.5,-68 700.5,-68 700.5,-0 811.5,-0 811.5,-68\"/>\n",
       "<text text-anchor=\"middle\" x=\"756\" y=\"-52.8\" font-family=\"Times New Roman,serif\" font-size=\"14.00\">entropy = 0.514</text>\n",
       "<text text-anchor=\"middle\" x=\"756\" y=\"-37.8\" font-family=\"Times New Roman,serif\" font-size=\"14.00\">samples = 270</text>\n",
       "<text text-anchor=\"middle\" x=\"756\" y=\"-22.8\" font-family=\"Times New Roman,serif\" font-size=\"14.00\">value = [239, 31]</text>\n",
       "<text text-anchor=\"middle\" x=\"756\" y=\"-7.8\" font-family=\"Times New Roman,serif\" font-size=\"14.00\">class = Died</text>\n",
       "</g>\n",
       "<!-- 26&#45;&gt;28 -->\n",
       "<g id=\"edge28\" class=\"edge\"><title>26-&gt;28</title>\n",
       "<path fill=\"none\" stroke=\"black\" d=\"M716.459,-103.726C721.444,-95.0615 726.717,-85.8962 731.732,-77.1802\"/>\n",
       "<polygon fill=\"black\" stroke=\"black\" points=\"734.888,-78.7128 736.841,-68.2996 728.821,-75.2219 734.888,-78.7128\"/>\n",
       "</g>\n",
       "</g>\n",
       "</svg>"
      ],
      "text/plain": [
       "<IPython.core.display.SVG object>"
      ]
     },
     "metadata": {},
     "output_type": "display_data"
    }
   ],
   "source": [
    "graph = Source(tree.export_graphviz(best_clf, out_file=None,\n",
    "                                   feature_names=list(X),\n",
    "                                   class_names=['Died','Survived'],\n",
    "                                   filled = True))\n",
    "\n",
    "display(SVG(graph.pipe(format='svg')))"
   ]
  },
  {
   "cell_type": "markdown",
   "metadata": {},
   "source": [
    "#########2 training option: using of GridSearchCV"
   ]
  },
  {
   "cell_type": "code",
   "execution_count": 121,
   "metadata": {},
   "outputs": [],
   "source": [
    "clf = tree.DecisionTreeClassifier()"
   ]
  },
  {
   "cell_type": "code",
   "execution_count": 122,
   "metadata": {},
   "outputs": [],
   "source": [
    "parametrs = {'criterion': ['gini', 'entropy'],\n",
    "             'max_depth': range(1, 30),\n",
    "             'min_samples_split': range(2, 100),}"
   ]
  },
  {
   "cell_type": "markdown",
   "metadata": {},
   "source": [
    "###Choosing the most suitable options"
   ]
  },
  {
   "cell_type": "code",
   "execution_count": 123,
   "metadata": {},
   "outputs": [],
   "source": [
    "grid_search_cv_clf = GridSearchCV(clf, parametrs, cv=5)"
   ]
  },
  {
   "cell_type": "markdown",
   "metadata": {},
   "source": [
    "###Tree training"
   ]
  },
  {
   "cell_type": "code",
   "execution_count": 124,
   "metadata": {},
   "outputs": [
    {
     "data": {
      "text/plain": [
       "GridSearchCV(cv=5, error_score=nan,\n",
       "             estimator=DecisionTreeClassifier(ccp_alpha=0.0, class_weight=None,\n",
       "                                              criterion='gini', max_depth=None,\n",
       "                                              max_features=None,\n",
       "                                              max_leaf_nodes=None,\n",
       "                                              min_impurity_decrease=0.0,\n",
       "                                              min_impurity_split=None,\n",
       "                                              min_samples_leaf=1,\n",
       "                                              min_samples_split=2,\n",
       "                                              min_weight_fraction_leaf=0.0,\n",
       "                                              presort='deprecated',\n",
       "                                              random_state=None,\n",
       "                                              splitter='best'),\n",
       "             iid='deprecated', n_jobs=None,\n",
       "             param_grid={'criterion': ['gini', 'entropy'],\n",
       "                         'max_depth': range(1, 30),\n",
       "                         'min_samples_split': range(2, 100)},\n",
       "             pre_dispatch='2*n_jobs', refit=True, return_train_score=False,\n",
       "             scoring=None, verbose=0)"
      ]
     },
     "execution_count": 124,
     "metadata": {},
     "output_type": "execute_result"
    }
   ],
   "source": [
    "grid_search_cv_clf.fit(X_train, y_train)"
   ]
  },
  {
   "cell_type": "code",
   "execution_count": 125,
   "metadata": {},
   "outputs": [
    {
     "data": {
      "text/plain": [
       "{'criterion': 'entropy', 'max_depth': 8, 'min_samples_split': 40}"
      ]
     },
     "execution_count": 125,
     "metadata": {},
     "output_type": "execute_result"
    }
   ],
   "source": [
    "grid_search_cv_clf.best_params_"
   ]
  },
  {
   "cell_type": "code",
   "execution_count": 126,
   "metadata": {},
   "outputs": [],
   "source": [
    "best_clf = grid_search_cv_clf.best_estimator_"
   ]
  },
  {
   "cell_type": "markdown",
   "metadata": {},
   "source": [
    "###Class accuracy"
   ]
  },
  {
   "cell_type": "code",
   "execution_count": 127,
   "metadata": {},
   "outputs": [
    {
     "data": {
      "text/plain": [
       "0.7796610169491526"
      ]
     },
     "execution_count": 127,
     "metadata": {},
     "output_type": "execute_result"
    }
   ],
   "source": [
    "best_clf.score(X_test, y_test)"
   ]
  },
  {
   "cell_type": "code",
   "execution_count": 128,
   "metadata": {},
   "outputs": [],
   "source": [
    "y_predicted_prob = best_clf.predict_proba(X_test)"
   ]
  },
  {
   "cell_type": "markdown",
   "metadata": {},
   "source": [
    "###Titanic passengers with a probability of survival greater than 0.7 are classified as living, the rest as dead"
   ]
  },
  {
   "cell_type": "code",
   "execution_count": 129,
   "metadata": {},
   "outputs": [],
   "source": [
    "y_pred = np.where(y_predicted_prob[:, 1] > 0.7, 1, 0 )"
   ]
  },
  {
   "cell_type": "markdown",
   "metadata": {},
   "source": [
    "###Calculation of precision metric"
   ]
  },
  {
   "cell_type": "code",
   "execution_count": 130,
   "metadata": {},
   "outputs": [
    {
     "data": {
      "text/plain": [
       "0.8481012658227848"
      ]
     },
     "execution_count": 130,
     "metadata": {},
     "output_type": "execute_result"
    }
   ],
   "source": [
    "precision_score(y_test, y_pred)"
   ]
  },
  {
   "cell_type": "markdown",
   "metadata": {},
   "source": [
    "###Calculation of recall metric"
   ]
  },
  {
   "cell_type": "code",
   "execution_count": 131,
   "metadata": {},
   "outputs": [
    {
     "data": {
      "text/plain": [
       "0.5583333333333333"
      ]
     },
     "execution_count": 131,
     "metadata": {},
     "output_type": "execute_result"
    }
   ],
   "source": [
    "recall_score(y_test, y_pred)"
   ]
  },
  {
   "cell_type": "markdown",
   "metadata": {},
   "source": [
    "###Representation of the distribution of people by probability of survival in the form of a histogram"
   ]
  },
  {
   "cell_type": "code",
   "execution_count": 132,
   "metadata": {},
   "outputs": [
    {
     "data": {
      "text/plain": [
       "<matplotlib.axes._subplots.AxesSubplot at 0x2d81a9e1d60>"
      ]
     },
     "execution_count": 132,
     "metadata": {},
     "output_type": "execute_result"
    },
    {
     "data": {
      "image/png": "[encoded data removed]",
      "text/plain": [
       "<Figure size 432x288 with 1 Axes>"
      ]
     },
     "metadata": {
      "needs_background": "light"
     },
     "output_type": "display_data"
    }
   ],
   "source": [
    "pd.Series(y_predicted_prob[:, 1]).hist()"
   ]
  },
  {
   "cell_type": "markdown",
   "metadata": {},
   "source": [
    "###ROC curve creation"
   ]
  },
  {
   "cell_type": "code",
   "execution_count": 139,
   "metadata": {},
   "outputs": [
    {
     "data": {
      "image/png": "[encoded data removed]",
      "text/plain": [
       "<Figure size 432x288 with 1 Axes>"
      ]
     },
     "metadata": {
      "needs_background": "light"
     },
     "output_type": "display_data"
    }
   ],
   "source": [
    "fpr, tpr, thresholds = roc_curve(y_test, y_pred)\n",
    "roc_auc= auc(fpr, tpr)\n",
    "plt.figure()\n",
    "plt.plot(fpr, tpr, color='darkorange',\n",
    "          label='ROC curve (area = %0.2f)' % roc_auc)\n",
    "plt.plot([0, 1], [0, 1], color='navy', linestyle='--')\n",
    "plt.xlim([0.0, 1.0])\n",
    "plt.ylim([0.0, 1.05])\n",
    "plt.xlabel('False Positive Rate')\n",
    "plt.ylabel('True Positive Rate')\n",
    "plt.title('Receiver operating characteristic example')\n",
    "plt.legend(loc=\"lower right\")\n",
    "plt.show()"
   ]
  },
  {
   "cell_type": "markdown",
   "metadata": {},
   "source": [
    "###Decision tree"
   ]
  },
  {
   "cell_type": "code",
   "execution_count": 141,
   "metadata": {},
   "outputs": [
    {
     "data": {
      "image/svg+xml": [
       "<svg xmlns=\"http://www.w3.org/2000/svg\" xmlns:xlink=\"http://www.w3.org/1999/xlink\" width=\"820pt\" height=\"790pt\" viewBox=\"0.00 0.00 819.50 790.00\">\n",
       "<g id=\"graph0\" class=\"graph\" transform=\"scale(1 1) rotate(0) translate(4 786)\">\n",
       "<title>Tree</title>\n",
       "<polygon fill=\"white\" stroke=\"none\" points=\"-4,4 -4,-786 815.5,-786 815.5,4 -4,4\"/>\n",
       "<!-- 0 -->\n",
       "<g id=\"node1\" class=\"node\"><title>0</title>\n",
       "<polygon fill=\"#f4ccaf\" stroke=\"black\" points=\"433,-782 315,-782 315,-699 433,-699 433,-782\"/>\n",
       "<text text-anchor=\"middle\" x=\"374\" y=\"-766.8\" font-family=\"Times New Roman,serif\" font-size=\"14.00\">Sex_male &lt;= 0.5</text>\n",
       "<text text-anchor=\"middle\" x=\"374\" y=\"-751.8\" font-family=\"Times New Roman,serif\" font-size=\"14.00\">entropy = 0.953</text>\n",
       "<text text-anchor=\"middle\" x=\"374\" y=\"-736.8\" font-family=\"Times New Roman,serif\" font-size=\"14.00\">samples = 596</text>\n",
       "<text text-anchor=\"middle\" x=\"374\" y=\"-721.8\" font-family=\"Times New Roman,serif\" font-size=\"14.00\">value = [374, 222]</text>\n",
       "<text text-anchor=\"middle\" x=\"374\" y=\"-706.8\" font-family=\"Times New Roman,serif\" font-size=\"14.00\">class = Died</text>\n",
       "</g>\n",
       "<!-- 1 -->\n",
       "<g id=\"node2\" class=\"node\"><title>1</title>\n",
       "<polygon fill=\"#85c2ef\" stroke=\"black\" points=\"365.5,-663 254.5,-663 254.5,-580 365.5,-580 365.5,-663\"/>\n",
       "<text text-anchor=\"middle\" x=\"310\" y=\"-647.8\" font-family=\"Times New Roman,serif\" font-size=\"14.00\">Pclass &lt;= 2.5</text>\n",
       "<text text-anchor=\"middle\" x=\"310\" y=\"-632.8\" font-family=\"Times New Roman,serif\" font-size=\"14.00\">entropy = 0.851</text>\n",
       "<text text-anchor=\"middle\" x=\"310\" y=\"-617.8\" font-family=\"Times New Roman,serif\" font-size=\"14.00\">samples = 206</text>\n",
       "<text text-anchor=\"middle\" x=\"310\" y=\"-602.8\" font-family=\"Times New Roman,serif\" font-size=\"14.00\">value = [57, 149]</text>\n",
       "<text text-anchor=\"middle\" x=\"310\" y=\"-587.8\" font-family=\"Times New Roman,serif\" font-size=\"14.00\">class = Survived</text>\n",
       "</g>\n",
       "<!-- 0&#45;&gt;1 -->\n",
       "<g id=\"edge1\" class=\"edge\"><title>0-&gt;1</title>\n",
       "<path fill=\"none\" stroke=\"black\" d=\"M351.796,-698.907C347.03,-690.195 341.944,-680.897 337.019,-671.893\"/>\n",
       "<polygon fill=\"black\" stroke=\"black\" points=\"340.035,-670.114 332.165,-663.021 333.894,-673.474 340.035,-670.114\"/>\n",
       "<text text-anchor=\"middle\" x=\"325.14\" y=\"-683.313\" font-family=\"Times New Roman,serif\" font-size=\"14.00\">True</text>\n",
       "</g>\n",
       "<!-- 20 -->\n",
       "<g id=\"node21\" class=\"node\"><title>20</title>\n",
       "<polygon fill=\"#eb9e67\" stroke=\"black\" points=\"494.5,-663 383.5,-663 383.5,-580 494.5,-580 494.5,-663\"/>\n",
       "<text text-anchor=\"middle\" x=\"439\" y=\"-647.8\" font-family=\"Times New Roman,serif\" font-size=\"14.00\">Age &lt;= 3.5</text>\n",
       "<text text-anchor=\"middle\" x=\"439\" y=\"-632.8\" font-family=\"Times New Roman,serif\" font-size=\"14.00\">entropy = 0.696</text>\n",
       "<text text-anchor=\"middle\" x=\"439\" y=\"-617.8\" font-family=\"Times New Roman,serif\" font-size=\"14.00\">samples = 390</text>\n",
       "<text text-anchor=\"middle\" x=\"439\" y=\"-602.8\" font-family=\"Times New Roman,serif\" font-size=\"14.00\">value = [317, 73]</text>\n",
       "<text text-anchor=\"middle\" x=\"439\" y=\"-587.8\" font-family=\"Times New Roman,serif\" font-size=\"14.00\">class = Died</text>\n",
       "</g>\n",
       "<!-- 0&#45;&gt;20 -->\n",
       "<g id=\"edge20\" class=\"edge\"><title>0-&gt;20</title>\n",
       "<path fill=\"none\" stroke=\"black\" d=\"M396.551,-698.907C401.391,-690.195 406.557,-680.897 411.559,-671.893\"/>\n",
       "<polygon fill=\"black\" stroke=\"black\" points=\"414.692,-673.462 416.488,-663.021 408.572,-670.063 414.692,-673.462\"/>\n",
       "<text text-anchor=\"middle\" x=\"423.356\" y=\"-683.359\" font-family=\"Times New Roman,serif\" font-size=\"14.00\">False</text>\n",
       "</g>\n",
       "<!-- 2 -->\n",
       "<g id=\"node3\" class=\"node\"><title>2</title>\n",
       "<polygon fill=\"#41a1e6\" stroke=\"black\" points=\"238,-544 128,-544 128,-461 238,-461 238,-544\"/>\n",
       "<text text-anchor=\"middle\" x=\"183\" y=\"-528.8\" font-family=\"Times New Roman,serif\" font-size=\"14.00\">Age &lt;= 2.5</text>\n",
       "<text text-anchor=\"middle\" x=\"183\" y=\"-513.8\" font-family=\"Times New Roman,serif\" font-size=\"14.00\">entropy = 0.23</text>\n",
       "<text text-anchor=\"middle\" x=\"183\" y=\"-498.8\" font-family=\"Times New Roman,serif\" font-size=\"14.00\">samples = 107</text>\n",
       "<text text-anchor=\"middle\" x=\"183\" y=\"-483.8\" font-family=\"Times New Roman,serif\" font-size=\"14.00\">value = [4, 103]</text>\n",
       "<text text-anchor=\"middle\" x=\"183\" y=\"-468.8\" font-family=\"Times New Roman,serif\" font-size=\"14.00\">class = Survived</text>\n",
       "</g>\n",
       "<!-- 1&#45;&gt;2 -->\n",
       "<g id=\"edge2\" class=\"edge\"><title>1-&gt;2</title>\n",
       "<path fill=\"none\" stroke=\"black\" d=\"M265.938,-579.907C255.792,-570.56 244.913,-560.538 234.483,-550.929\"/>\n",
       "<polygon fill=\"black\" stroke=\"black\" points=\"236.71,-548.222 226.984,-544.021 231.967,-553.371 236.71,-548.222\"/>\n",
       "</g>\n",
       "<!-- 11 -->\n",
       "<g id=\"node12\" class=\"node\"><title>11</title>\n",
       "<polygon fill=\"#fceee5\" stroke=\"black\" points=\"364,-544 258,-544 258,-461 364,-461 364,-544\"/>\n",
       "<text text-anchor=\"middle\" x=\"311\" y=\"-528.8\" font-family=\"Times New Roman,serif\" font-size=\"14.00\">Fare &lt;= 23.35</text>\n",
       "<text text-anchor=\"middle\" x=\"311\" y=\"-513.8\" font-family=\"Times New Roman,serif\" font-size=\"14.00\">entropy = 0.996</text>\n",
       "<text text-anchor=\"middle\" x=\"311\" y=\"-498.8\" font-family=\"Times New Roman,serif\" font-size=\"14.00\">samples = 99</text>\n",
       "<text text-anchor=\"middle\" x=\"311\" y=\"-483.8\" font-family=\"Times New Roman,serif\" font-size=\"14.00\">value = [53, 46]</text>\n",
       "<text text-anchor=\"middle\" x=\"311\" y=\"-468.8\" font-family=\"Times New Roman,serif\" font-size=\"14.00\">class = Died</text>\n",
       "</g>\n",
       "<!-- 1&#45;&gt;11 -->\n",
       "<g id=\"edge11\" class=\"edge\"><title>1-&gt;11</title>\n",
       "<path fill=\"none\" stroke=\"black\" d=\"M310.347,-579.907C310.418,-571.649 310.493,-562.864 310.566,-554.302\"/>\n",
       "<polygon fill=\"black\" stroke=\"black\" points=\"314.068,-554.05 310.654,-544.021 307.068,-553.99 314.068,-554.05\"/>\n",
       "</g>\n",
       "<!-- 3 -->\n",
       "<g id=\"node4\" class=\"node\"><title>3</title>\n",
       "<polygon fill=\"#ffffff\" stroke=\"black\" points=\"110,-417.5 18,-417.5 18,-349.5 110,-349.5 110,-417.5\"/>\n",
       "<text text-anchor=\"middle\" x=\"64\" y=\"-402.3\" font-family=\"Times New Roman,serif\" font-size=\"14.00\">entropy = 1.0</text>\n",
       "<text text-anchor=\"middle\" x=\"64\" y=\"-387.3\" font-family=\"Times New Roman,serif\" font-size=\"14.00\">samples = 2</text>\n",
       "<text text-anchor=\"middle\" x=\"64\" y=\"-372.3\" font-family=\"Times New Roman,serif\" font-size=\"14.00\">value = [1, 1]</text>\n",
       "<text text-anchor=\"middle\" x=\"64\" y=\"-357.3\" font-family=\"Times New Roman,serif\" font-size=\"14.00\">class = Died</text>\n",
       "</g>\n",
       "<!-- 2&#45;&gt;3 -->\n",
       "<g id=\"edge3\" class=\"edge\"><title>2-&gt;3</title>\n",
       "<path fill=\"none\" stroke=\"black\" d=\"M141.714,-460.907C129.817,-449.211 116.845,-436.457 104.968,-424.78\"/>\n",
       "<polygon fill=\"black\" stroke=\"black\" points=\"107.318,-422.182 97.7339,-417.667 102.411,-427.174 107.318,-422.182\"/>\n",
       "</g>\n",
       "<!-- 4 -->\n",
       "<g id=\"node5\" class=\"node\"><title>4</title>\n",
       "<polygon fill=\"#3fa0e6\" stroke=\"black\" points=\"238,-425 128,-425 128,-342 238,-342 238,-425\"/>\n",
       "<text text-anchor=\"middle\" x=\"183\" y=\"-409.8\" font-family=\"Times New Roman,serif\" font-size=\"14.00\">Age &lt;= 24.5</text>\n",
       "<text text-anchor=\"middle\" x=\"183\" y=\"-394.8\" font-family=\"Times New Roman,serif\" font-size=\"14.00\">entropy = 0.187</text>\n",
       "<text text-anchor=\"middle\" x=\"183\" y=\"-379.8\" font-family=\"Times New Roman,serif\" font-size=\"14.00\">samples = 105</text>\n",
       "<text text-anchor=\"middle\" x=\"183\" y=\"-364.8\" font-family=\"Times New Roman,serif\" font-size=\"14.00\">value = [3, 102]</text>\n",
       "<text text-anchor=\"middle\" x=\"183\" y=\"-349.8\" font-family=\"Times New Roman,serif\" font-size=\"14.00\">class = Survived</text>\n",
       "</g>\n",
       "<!-- 2&#45;&gt;4 -->\n",
       "<g id=\"edge4\" class=\"edge\"><title>2-&gt;4</title>\n",
       "<path fill=\"none\" stroke=\"black\" d=\"M183,-460.907C183,-452.649 183,-443.864 183,-435.302\"/>\n",
       "<polygon fill=\"black\" stroke=\"black\" points=\"186.5,-435.021 183,-425.021 179.5,-435.021 186.5,-435.021\"/>\n",
       "</g>\n",
       "<!-- 5 -->\n",
       "<g id=\"node6\" class=\"node\"><title>5</title>\n",
       "<polygon fill=\"#399de5\" stroke=\"black\" points=\"110,-298.5 0,-298.5 0,-230.5 110,-230.5 110,-298.5\"/>\n",
       "<text text-anchor=\"middle\" x=\"55\" y=\"-283.3\" font-family=\"Times New Roman,serif\" font-size=\"14.00\">entropy = 0.0</text>\n",
       "<text text-anchor=\"middle\" x=\"55\" y=\"-268.3\" font-family=\"Times New Roman,serif\" font-size=\"14.00\">samples = 34</text>\n",
       "<text text-anchor=\"middle\" x=\"55\" y=\"-253.3\" font-family=\"Times New Roman,serif\" font-size=\"14.00\">value = [0, 34]</text>\n",
       "<text text-anchor=\"middle\" x=\"55\" y=\"-238.3\" font-family=\"Times New Roman,serif\" font-size=\"14.00\">class = Survived</text>\n",
       "</g>\n",
       "<!-- 4&#45;&gt;5 -->\n",
       "<g id=\"edge5\" class=\"edge\"><title>4-&gt;5</title>\n",
       "<path fill=\"none\" stroke=\"black\" d=\"M138.591,-341.907C125.674,-330.101 111.579,-317.217 98.7055,-305.45\"/>\n",
       "<polygon fill=\"black\" stroke=\"black\" points=\"101.028,-302.83 91.2852,-298.667 96.3049,-307.997 101.028,-302.83\"/>\n",
       "</g>\n",
       "<!-- 6 -->\n",
       "<g id=\"node7\" class=\"node\"><title>6</title>\n",
       "<polygon fill=\"#42a1e6\" stroke=\"black\" points=\"238,-306 128,-306 128,-223 238,-223 238,-306\"/>\n",
       "<text text-anchor=\"middle\" x=\"183\" y=\"-290.8\" font-family=\"Times New Roman,serif\" font-size=\"14.00\">Age &lt;= 27.5</text>\n",
       "<text text-anchor=\"middle\" x=\"183\" y=\"-275.8\" font-family=\"Times New Roman,serif\" font-size=\"14.00\">entropy = 0.253</text>\n",
       "<text text-anchor=\"middle\" x=\"183\" y=\"-260.8\" font-family=\"Times New Roman,serif\" font-size=\"14.00\">samples = 71</text>\n",
       "<text text-anchor=\"middle\" x=\"183\" y=\"-245.8\" font-family=\"Times New Roman,serif\" font-size=\"14.00\">value = [3, 68]</text>\n",
       "<text text-anchor=\"middle\" x=\"183\" y=\"-230.8\" font-family=\"Times New Roman,serif\" font-size=\"14.00\">class = Survived</text>\n",
       "</g>\n",
       "<!-- 4&#45;&gt;6 -->\n",
       "<g id=\"edge6\" class=\"edge\"><title>4-&gt;6</title>\n",
       "<path fill=\"none\" stroke=\"black\" d=\"M183,-341.907C183,-333.649 183,-324.864 183,-316.302\"/>\n",
       "<polygon fill=\"black\" stroke=\"black\" points=\"186.5,-316.021 183,-306.021 179.5,-316.021 186.5,-316.021\"/>\n",
       "</g>\n",
       "<!-- 7 -->\n",
       "<g id=\"node8\" class=\"node\"><title>7</title>\n",
       "<polygon fill=\"#ffffff\" stroke=\"black\" points=\"110,-179.5 18,-179.5 18,-111.5 110,-111.5 110,-179.5\"/>\n",
       "<text text-anchor=\"middle\" x=\"64\" y=\"-164.3\" font-family=\"Times New Roman,serif\" font-size=\"14.00\">entropy = 1.0</text>\n",
       "<text text-anchor=\"middle\" x=\"64\" y=\"-149.3\" font-family=\"Times New Roman,serif\" font-size=\"14.00\">samples = 4</text>\n",
       "<text text-anchor=\"middle\" x=\"64\" y=\"-134.3\" font-family=\"Times New Roman,serif\" font-size=\"14.00\">value = [2, 2]</text>\n",
       "<text text-anchor=\"middle\" x=\"64\" y=\"-119.3\" font-family=\"Times New Roman,serif\" font-size=\"14.00\">class = Died</text>\n",
       "</g>\n",
       "<!-- 6&#45;&gt;7 -->\n",
       "<g id=\"edge7\" class=\"edge\"><title>6-&gt;7</title>\n",
       "<path fill=\"none\" stroke=\"black\" d=\"M141.714,-222.907C129.817,-211.211 116.845,-198.457 104.968,-186.78\"/>\n",
       "<polygon fill=\"black\" stroke=\"black\" points=\"107.318,-184.182 97.7339,-179.667 102.411,-189.174 107.318,-184.182\"/>\n",
       "</g>\n",
       "<!-- 8 -->\n",
       "<g id=\"node9\" class=\"node\"><title>8</title>\n",
       "<polygon fill=\"#3c9ee5\" stroke=\"black\" points=\"238,-187 128,-187 128,-104 238,-104 238,-187\"/>\n",
       "<text text-anchor=\"middle\" x=\"183\" y=\"-171.8\" font-family=\"Times New Roman,serif\" font-size=\"14.00\">Age &lt;= 49.5</text>\n",
       "<text text-anchor=\"middle\" x=\"183\" y=\"-156.8\" font-family=\"Times New Roman,serif\" font-size=\"14.00\">entropy = 0.112</text>\n",
       "<text text-anchor=\"middle\" x=\"183\" y=\"-141.8\" font-family=\"Times New Roman,serif\" font-size=\"14.00\">samples = 67</text>\n",
       "<text text-anchor=\"middle\" x=\"183\" y=\"-126.8\" font-family=\"Times New Roman,serif\" font-size=\"14.00\">value = [1, 66]</text>\n",
       "<text text-anchor=\"middle\" x=\"183\" y=\"-111.8\" font-family=\"Times New Roman,serif\" font-size=\"14.00\">class = Survived</text>\n",
       "</g>\n",
       "<!-- 6&#45;&gt;8 -->\n",
       "<g id=\"edge8\" class=\"edge\"><title>6-&gt;8</title>\n",
       "<path fill=\"none\" stroke=\"black\" d=\"M183,-222.907C183,-214.649 183,-205.864 183,-197.302\"/>\n",
       "<polygon fill=\"black\" stroke=\"black\" points=\"186.5,-197.021 183,-187.021 179.5,-197.021 186.5,-197.021\"/>\n",
       "</g>\n",
       "<!-- 9 -->\n",
       "<g id=\"node10\" class=\"node\"><title>9</title>\n",
       "<polygon fill=\"#399de5\" stroke=\"black\" points=\"110,-68 0,-68 0,-0 110,-0 110,-68\"/>\n",
       "<text text-anchor=\"middle\" x=\"55\" y=\"-52.8\" font-family=\"Times New Roman,serif\" font-size=\"14.00\">entropy = 0.0</text>\n",
       "<text text-anchor=\"middle\" x=\"55\" y=\"-37.8\" font-family=\"Times New Roman,serif\" font-size=\"14.00\">samples = 54</text>\n",
       "<text text-anchor=\"middle\" x=\"55\" y=\"-22.8\" font-family=\"Times New Roman,serif\" font-size=\"14.00\">value = [0, 54]</text>\n",
       "<text text-anchor=\"middle\" x=\"55\" y=\"-7.8\" font-family=\"Times New Roman,serif\" font-size=\"14.00\">class = Survived</text>\n",
       "</g>\n",
       "<!-- 8&#45;&gt;9 -->\n",
       "<g id=\"edge9\" class=\"edge\"><title>8-&gt;9</title>\n",
       "<path fill=\"none\" stroke=\"black\" d=\"M135.338,-103.726C124.356,-94.3318 112.686,-84.349 101.744,-74.9883\"/>\n",
       "<polygon fill=\"black\" stroke=\"black\" points=\"103.8,-72.1406 93.9256,-68.2996 99.2492,-77.4598 103.8,-72.1406\"/>\n",
       "</g>\n",
       "<!-- 10 -->\n",
       "<g id=\"node11\" class=\"node\"><title>10</title>\n",
       "<polygon fill=\"#49a5e7\" stroke=\"black\" points=\"238,-68 128,-68 128,-0 238,-0 238,-68\"/>\n",
       "<text text-anchor=\"middle\" x=\"183\" y=\"-52.8\" font-family=\"Times New Roman,serif\" font-size=\"14.00\">entropy = 0.391</text>\n",
       "<text text-anchor=\"middle\" x=\"183\" y=\"-37.8\" font-family=\"Times New Roman,serif\" font-size=\"14.00\">samples = 13</text>\n",
       "<text text-anchor=\"middle\" x=\"183\" y=\"-22.8\" font-family=\"Times New Roman,serif\" font-size=\"14.00\">value = [1, 12]</text>\n",
       "<text text-anchor=\"middle\" x=\"183\" y=\"-7.8\" font-family=\"Times New Roman,serif\" font-size=\"14.00\">class = Survived</text>\n",
       "</g>\n",
       "<!-- 8&#45;&gt;10 -->\n",
       "<g id=\"edge10\" class=\"edge\"><title>8-&gt;10</title>\n",
       "<path fill=\"none\" stroke=\"black\" d=\"M183,-103.726C183,-95.5175 183,-86.8595 183,-78.56\"/>\n",
       "<polygon fill=\"black\" stroke=\"black\" points=\"186.5,-78.2996 183,-68.2996 179.5,-78.2996 186.5,-78.2996\"/>\n",
       "</g>\n",
       "<!-- 12 -->\n",
       "<g id=\"node13\" class=\"node\"><title>12</title>\n",
       "<polygon fill=\"#d7ebfa\" stroke=\"black\" points=\"366,-425 256,-425 256,-342 366,-342 366,-425\"/>\n",
       "<text text-anchor=\"middle\" x=\"311\" y=\"-409.8\" font-family=\"Times New Roman,serif\" font-size=\"14.00\">Age &lt;= 36.5</text>\n",
       "<text text-anchor=\"middle\" x=\"311\" y=\"-394.8\" font-family=\"Times New Roman,serif\" font-size=\"14.00\">entropy = 0.991</text>\n",
       "<text text-anchor=\"middle\" x=\"311\" y=\"-379.8\" font-family=\"Times New Roman,serif\" font-size=\"14.00\">samples = 81</text>\n",
       "<text text-anchor=\"middle\" x=\"311\" y=\"-364.8\" font-family=\"Times New Roman,serif\" font-size=\"14.00\">value = [36, 45]</text>\n",
       "<text text-anchor=\"middle\" x=\"311\" y=\"-349.8\" font-family=\"Times New Roman,serif\" font-size=\"14.00\">class = Survived</text>\n",
       "</g>\n",
       "<!-- 11&#45;&gt;12 -->\n",
       "<g id=\"edge12\" class=\"edge\"><title>11-&gt;12</title>\n",
       "<path fill=\"none\" stroke=\"black\" d=\"M311,-460.907C311,-452.649 311,-443.864 311,-435.302\"/>\n",
       "<polygon fill=\"black\" stroke=\"black\" points=\"314.5,-435.021 311,-425.021 307.5,-435.021 314.5,-435.021\"/>\n",
       "</g>\n",
       "<!-- 19 -->\n",
       "<g id=\"node20\" class=\"node\"><title>19</title>\n",
       "<polygon fill=\"#e78845\" stroke=\"black\" points=\"483.5,-417.5 384.5,-417.5 384.5,-349.5 483.5,-349.5 483.5,-417.5\"/>\n",
       "<text text-anchor=\"middle\" x=\"434\" y=\"-402.3\" font-family=\"Times New Roman,serif\" font-size=\"14.00\">entropy = 0.31</text>\n",
       "<text text-anchor=\"middle\" x=\"434\" y=\"-387.3\" font-family=\"Times New Roman,serif\" font-size=\"14.00\">samples = 18</text>\n",
       "<text text-anchor=\"middle\" x=\"434\" y=\"-372.3\" font-family=\"Times New Roman,serif\" font-size=\"14.00\">value = [17, 1]</text>\n",
       "<text text-anchor=\"middle\" x=\"434\" y=\"-357.3\" font-family=\"Times New Roman,serif\" font-size=\"14.00\">class = Died</text>\n",
       "</g>\n",
       "<!-- 11&#45;&gt;19 -->\n",
       "<g id=\"edge19\" class=\"edge\"><title>11-&gt;19</title>\n",
       "<path fill=\"none\" stroke=\"black\" d=\"M353.674,-460.907C365.971,-449.211 379.378,-436.457 391.655,-424.78\"/>\n",
       "<polygon fill=\"black\" stroke=\"black\" points=\"394.299,-427.095 399.132,-417.667 389.474,-422.023 394.299,-427.095\"/>\n",
       "</g>\n",
       "<!-- 13 -->\n",
       "<g id=\"node14\" class=\"node\"><title>13</title>\n",
       "<polygon fill=\"#c6e3f7\" stroke=\"black\" points=\"366,-306 256,-306 256,-223 366,-223 366,-306\"/>\n",
       "<text text-anchor=\"middle\" x=\"311\" y=\"-290.8\" font-family=\"Times New Roman,serif\" font-size=\"14.00\">Fare &lt;= 14.852</text>\n",
       "<text text-anchor=\"middle\" x=\"311\" y=\"-275.8\" font-family=\"Times New Roman,serif\" font-size=\"14.00\">entropy = 0.979</text>\n",
       "<text text-anchor=\"middle\" x=\"311\" y=\"-260.8\" font-family=\"Times New Roman,serif\" font-size=\"14.00\">samples = 77</text>\n",
       "<text text-anchor=\"middle\" x=\"311\" y=\"-245.8\" font-family=\"Times New Roman,serif\" font-size=\"14.00\">value = [32, 45]</text>\n",
       "<text text-anchor=\"middle\" x=\"311\" y=\"-230.8\" font-family=\"Times New Roman,serif\" font-size=\"14.00\">class = Survived</text>\n",
       "</g>\n",
       "<!-- 12&#45;&gt;13 -->\n",
       "<g id=\"edge13\" class=\"edge\"><title>12-&gt;13</title>\n",
       "<path fill=\"none\" stroke=\"black\" d=\"M311,-341.907C311,-333.649 311,-324.864 311,-316.302\"/>\n",
       "<polygon fill=\"black\" stroke=\"black\" points=\"314.5,-316.021 311,-306.021 307.5,-316.021 314.5,-316.021\"/>\n",
       "</g>\n",
       "<!-- 18 -->\n",
       "<g id=\"node19\" class=\"node\"><title>18</title>\n",
       "<polygon fill=\"#e58139\" stroke=\"black\" points=\"476,-298.5 384,-298.5 384,-230.5 476,-230.5 476,-298.5\"/>\n",
       "<text text-anchor=\"middle\" x=\"430\" y=\"-283.3\" font-family=\"Times New Roman,serif\" font-size=\"14.00\">entropy = 0.0</text>\n",
       "<text text-anchor=\"middle\" x=\"430\" y=\"-268.3\" font-family=\"Times New Roman,serif\" font-size=\"14.00\">samples = 4</text>\n",
       "<text text-anchor=\"middle\" x=\"430\" y=\"-253.3\" font-family=\"Times New Roman,serif\" font-size=\"14.00\">value = [4, 0]</text>\n",
       "<text text-anchor=\"middle\" x=\"430\" y=\"-238.3\" font-family=\"Times New Roman,serif\" font-size=\"14.00\">class = Died</text>\n",
       "</g>\n",
       "<!-- 12&#45;&gt;18 -->\n",
       "<g id=\"edge18\" class=\"edge\"><title>12-&gt;18</title>\n",
       "<path fill=\"none\" stroke=\"black\" d=\"M352.286,-341.907C364.183,-330.211 377.155,-317.457 389.032,-305.78\"/>\n",
       "<polygon fill=\"black\" stroke=\"black\" points=\"391.589,-308.174 396.266,-298.667 386.682,-303.182 391.589,-308.174\"/>\n",
       "</g>\n",
       "<!-- 14 -->\n",
       "<g id=\"node15\" class=\"node\"><title>14</title>\n",
       "<polygon fill=\"#f8fbfe\" stroke=\"black\" points=\"366,-187 256,-187 256,-104 366,-104 366,-187\"/>\n",
       "<text text-anchor=\"middle\" x=\"311\" y=\"-171.8\" font-family=\"Times New Roman,serif\" font-size=\"14.00\">Fare &lt;= 7.763</text>\n",
       "<text text-anchor=\"middle\" x=\"311\" y=\"-156.8\" font-family=\"Times New Roman,serif\" font-size=\"14.00\">entropy = 1.0</text>\n",
       "<text text-anchor=\"middle\" x=\"311\" y=\"-141.8\" font-family=\"Times New Roman,serif\" font-size=\"14.00\">samples = 53</text>\n",
       "<text text-anchor=\"middle\" x=\"311\" y=\"-126.8\" font-family=\"Times New Roman,serif\" font-size=\"14.00\">value = [26, 27]</text>\n",
       "<text text-anchor=\"middle\" x=\"311\" y=\"-111.8\" font-family=\"Times New Roman,serif\" font-size=\"14.00\">class = Survived</text>\n",
       "</g>\n",
       "<!-- 13&#45;&gt;14 -->\n",
       "<g id=\"edge14\" class=\"edge\"><title>13-&gt;14</title>\n",
       "<path fill=\"none\" stroke=\"black\" d=\"M311,-222.907C311,-214.649 311,-205.864 311,-197.302\"/>\n",
       "<polygon fill=\"black\" stroke=\"black\" points=\"314.5,-197.021 311,-187.021 307.5,-197.021 314.5,-197.021\"/>\n",
       "</g>\n",
       "<!-- 17 -->\n",
       "<g id=\"node18\" class=\"node\"><title>17</title>\n",
       "<polygon fill=\"#7bbeee\" stroke=\"black\" points=\"494,-179.5 384,-179.5 384,-111.5 494,-111.5 494,-179.5\"/>\n",
       "<text text-anchor=\"middle\" x=\"439\" y=\"-164.3\" font-family=\"Times New Roman,serif\" font-size=\"14.00\">entropy = 0.811</text>\n",
       "<text text-anchor=\"middle\" x=\"439\" y=\"-149.3\" font-family=\"Times New Roman,serif\" font-size=\"14.00\">samples = 24</text>\n",
       "<text text-anchor=\"middle\" x=\"439\" y=\"-134.3\" font-family=\"Times New Roman,serif\" font-size=\"14.00\">value = [6, 18]</text>\n",
       "<text text-anchor=\"middle\" x=\"439\" y=\"-119.3\" font-family=\"Times New Roman,serif\" font-size=\"14.00\">class = Survived</text>\n",
       "</g>\n",
       "<!-- 13&#45;&gt;17 -->\n",
       "<g id=\"edge17\" class=\"edge\"><title>13-&gt;17</title>\n",
       "<path fill=\"none\" stroke=\"black\" d=\"M355.409,-222.907C368.326,-211.101 382.421,-198.217 395.295,-186.45\"/>\n",
       "<polygon fill=\"black\" stroke=\"black\" points=\"397.695,-188.997 402.715,-179.667 392.972,-183.83 397.695,-188.997\"/>\n",
       "</g>\n",
       "<!-- 15 -->\n",
       "<g id=\"node16\" class=\"node\"><title>15</title>\n",
       "<polygon fill=\"#77bced\" stroke=\"black\" points=\"366,-68 256,-68 256,-0 366,-0 366,-68\"/>\n",
       "<text text-anchor=\"middle\" x=\"311\" y=\"-52.8\" font-family=\"Times New Roman,serif\" font-size=\"14.00\">entropy = 0.792</text>\n",
       "<text text-anchor=\"middle\" x=\"311\" y=\"-37.8\" font-family=\"Times New Roman,serif\" font-size=\"14.00\">samples = 21</text>\n",
       "<text text-anchor=\"middle\" x=\"311\" y=\"-22.8\" font-family=\"Times New Roman,serif\" font-size=\"14.00\">value = [5, 16]</text>\n",
       "<text text-anchor=\"middle\" x=\"311\" y=\"-7.8\" font-family=\"Times New Roman,serif\" font-size=\"14.00\">class = Survived</text>\n",
       "</g>\n",
       "<!-- 14&#45;&gt;15 -->\n",
       "<g id=\"edge15\" class=\"edge\"><title>14-&gt;15</title>\n",
       "<path fill=\"none\" stroke=\"black\" d=\"M311,-103.726C311,-95.5175 311,-86.8595 311,-78.56\"/>\n",
       "<polygon fill=\"black\" stroke=\"black\" points=\"314.5,-78.2996 311,-68.2996 307.5,-78.2996 314.5,-78.2996\"/>\n",
       "</g>\n",
       "<!-- 16 -->\n",
       "<g id=\"node17\" class=\"node\"><title>16</title>\n",
       "<polygon fill=\"#f3c3a1\" stroke=\"black\" points=\"490,-68 384,-68 384,-0 490,-0 490,-68\"/>\n",
       "<text text-anchor=\"middle\" x=\"437\" y=\"-52.8\" font-family=\"Times New Roman,serif\" font-size=\"14.00\">entropy = 0.928</text>\n",
       "<text text-anchor=\"middle\" x=\"437\" y=\"-37.8\" font-family=\"Times New Roman,serif\" font-size=\"14.00\">samples = 32</text>\n",
       "<text text-anchor=\"middle\" x=\"437\" y=\"-22.8\" font-family=\"Times New Roman,serif\" font-size=\"14.00\">value = [21, 11]</text>\n",
       "<text text-anchor=\"middle\" x=\"437\" y=\"-7.8\" font-family=\"Times New Roman,serif\" font-size=\"14.00\">class = Died</text>\n",
       "</g>\n",
       "<!-- 14&#45;&gt;16 -->\n",
       "<g id=\"edge16\" class=\"edge\"><title>14-&gt;16</title>\n",
       "<path fill=\"none\" stroke=\"black\" d=\"M357.918,-103.726C368.728,-94.3318 380.215,-84.349 390.986,-74.9883\"/>\n",
       "<polygon fill=\"black\" stroke=\"black\" points=\"393.43,-77.501 398.683,-68.2996 388.839,-72.2174 393.43,-77.501\"/>\n",
       "</g>\n",
       "<!-- 21 -->\n",
       "<g id=\"node22\" class=\"node\"><title>21</title>\n",
       "<polygon fill=\"#74baed\" stroke=\"black\" points=\"493,-536.5 383,-536.5 383,-468.5 493,-468.5 493,-536.5\"/>\n",
       "<text text-anchor=\"middle\" x=\"438\" y=\"-521.3\" font-family=\"Times New Roman,serif\" font-size=\"14.00\">entropy = 0.779</text>\n",
       "<text text-anchor=\"middle\" x=\"438\" y=\"-506.3\" font-family=\"Times New Roman,serif\" font-size=\"14.00\">samples = 13</text>\n",
       "<text text-anchor=\"middle\" x=\"438\" y=\"-491.3\" font-family=\"Times New Roman,serif\" font-size=\"14.00\">value = [3, 10]</text>\n",
       "<text text-anchor=\"middle\" x=\"438\" y=\"-476.3\" font-family=\"Times New Roman,serif\" font-size=\"14.00\">class = Survived</text>\n",
       "</g>\n",
       "<!-- 20&#45;&gt;21 -->\n",
       "<g id=\"edge21\" class=\"edge\"><title>20-&gt;21</title>\n",
       "<path fill=\"none\" stroke=\"black\" d=\"M438.653,-579.907C438.562,-569.204 438.463,-557.615 438.37,-546.776\"/>\n",
       "<polygon fill=\"black\" stroke=\"black\" points=\"441.869,-546.637 438.283,-536.667 434.869,-546.697 441.869,-546.637\"/>\n",
       "</g>\n",
       "<!-- 22 -->\n",
       "<g id=\"node23\" class=\"node\"><title>22</title>\n",
       "<polygon fill=\"#ea9a61\" stroke=\"black\" points=\"622.5,-544 511.5,-544 511.5,-461 622.5,-461 622.5,-544\"/>\n",
       "<text text-anchor=\"middle\" x=\"567\" y=\"-528.8\" font-family=\"Times New Roman,serif\" font-size=\"14.00\">Fare &lt;= 52.277</text>\n",
       "<text text-anchor=\"middle\" x=\"567\" y=\"-513.8\" font-family=\"Times New Roman,serif\" font-size=\"14.00\">entropy = 0.651</text>\n",
       "<text text-anchor=\"middle\" x=\"567\" y=\"-498.8\" font-family=\"Times New Roman,serif\" font-size=\"14.00\">samples = 377</text>\n",
       "<text text-anchor=\"middle\" x=\"567\" y=\"-483.8\" font-family=\"Times New Roman,serif\" font-size=\"14.00\">value = [314, 63]</text>\n",
       "<text text-anchor=\"middle\" x=\"567\" y=\"-468.8\" font-family=\"Times New Roman,serif\" font-size=\"14.00\">class = Died</text>\n",
       "</g>\n",
       "<!-- 20&#45;&gt;22 -->\n",
       "<g id=\"edge22\" class=\"edge\"><title>20-&gt;22</title>\n",
       "<path fill=\"none\" stroke=\"black\" d=\"M483.409,-579.907C493.635,-570.56 504.6,-560.538 515.112,-550.929\"/>\n",
       "<polygon fill=\"black\" stroke=\"black\" points=\"517.65,-553.351 522.67,-544.021 512.927,-548.184 517.65,-553.351\"/>\n",
       "</g>\n",
       "<!-- 23 -->\n",
       "<g id=\"node24\" class=\"node\"><title>23</title>\n",
       "<polygon fill=\"#e99559\" stroke=\"black\" points=\"621.5,-425 510.5,-425 510.5,-342 621.5,-342 621.5,-425\"/>\n",
       "<text text-anchor=\"middle\" x=\"566\" y=\"-409.8\" font-family=\"Times New Roman,serif\" font-size=\"14.00\">Fare &lt;= 36.877</text>\n",
       "<text text-anchor=\"middle\" x=\"566\" y=\"-394.8\" font-family=\"Times New Roman,serif\" font-size=\"14.00\">entropy = 0.58</text>\n",
       "<text text-anchor=\"middle\" x=\"566\" y=\"-379.8\" font-family=\"Times New Roman,serif\" font-size=\"14.00\">samples = 332</text>\n",
       "<text text-anchor=\"middle\" x=\"566\" y=\"-364.8\" font-family=\"Times New Roman,serif\" font-size=\"14.00\">value = [286, 46]</text>\n",
       "<text text-anchor=\"middle\" x=\"566\" y=\"-349.8\" font-family=\"Times New Roman,serif\" font-size=\"14.00\">class = Died</text>\n",
       "</g>\n",
       "<!-- 22&#45;&gt;23 -->\n",
       "<g id=\"edge23\" class=\"edge\"><title>22-&gt;23</title>\n",
       "<path fill=\"none\" stroke=\"black\" d=\"M566.653,-460.907C566.582,-452.649 566.507,-443.864 566.434,-435.302\"/>\n",
       "<polygon fill=\"black\" stroke=\"black\" points=\"569.932,-434.99 566.346,-425.021 562.932,-435.05 569.932,-434.99\"/>\n",
       "</g>\n",
       "<!-- 30 -->\n",
       "<g id=\"node31\" class=\"node\"><title>30</title>\n",
       "<polygon fill=\"#f5ceb1\" stroke=\"black\" points=\"746,-417.5 640,-417.5 640,-349.5 746,-349.5 746,-417.5\"/>\n",
       "<text text-anchor=\"middle\" x=\"693\" y=\"-402.3\" font-family=\"Times New Roman,serif\" font-size=\"14.00\">entropy = 0.956</text>\n",
       "<text text-anchor=\"middle\" x=\"693\" y=\"-387.3\" font-family=\"Times New Roman,serif\" font-size=\"14.00\">samples = 45</text>\n",
       "<text text-anchor=\"middle\" x=\"693\" y=\"-372.3\" font-family=\"Times New Roman,serif\" font-size=\"14.00\">value = [28, 17]</text>\n",
       "<text text-anchor=\"middle\" x=\"693\" y=\"-357.3\" font-family=\"Times New Roman,serif\" font-size=\"14.00\">class = Died</text>\n",
       "</g>\n",
       "<!-- 22&#45;&gt;30 -->\n",
       "<g id=\"edge30\" class=\"edge\"><title>22-&gt;30</title>\n",
       "<path fill=\"none\" stroke=\"black\" d=\"M610.715,-460.907C623.311,-449.211 637.046,-436.457 649.622,-424.78\"/>\n",
       "<polygon fill=\"black\" stroke=\"black\" points=\"652.335,-427.036 657.282,-417.667 647.572,-421.907 652.335,-427.036\"/>\n",
       "</g>\n",
       "<!-- 24 -->\n",
       "<g id=\"node25\" class=\"node\"><title>24</title>\n",
       "<polygon fill=\"#e9975b\" stroke=\"black\" points=\"621.5,-306 510.5,-306 510.5,-223 621.5,-223 621.5,-306\"/>\n",
       "<text text-anchor=\"middle\" x=\"566\" y=\"-290.8\" font-family=\"Times New Roman,serif\" font-size=\"14.00\">Pclass &lt;= 1.5</text>\n",
       "<text text-anchor=\"middle\" x=\"566\" y=\"-275.8\" font-family=\"Times New Roman,serif\" font-size=\"14.00\">entropy = 0.601</text>\n",
       "<text text-anchor=\"middle\" x=\"566\" y=\"-260.8\" font-family=\"Times New Roman,serif\" font-size=\"14.00\">samples = 314</text>\n",
       "<text text-anchor=\"middle\" x=\"566\" y=\"-245.8\" font-family=\"Times New Roman,serif\" font-size=\"14.00\">value = [268, 46]</text>\n",
       "<text text-anchor=\"middle\" x=\"566\" y=\"-230.8\" font-family=\"Times New Roman,serif\" font-size=\"14.00\">class = Died</text>\n",
       "</g>\n",
       "<!-- 23&#45;&gt;24 -->\n",
       "<g id=\"edge24\" class=\"edge\"><title>23-&gt;24</title>\n",
       "<path fill=\"none\" stroke=\"black\" d=\"M566,-341.907C566,-333.649 566,-324.864 566,-316.302\"/>\n",
       "<polygon fill=\"black\" stroke=\"black\" points=\"569.5,-316.021 566,-306.021 562.5,-316.021 569.5,-316.021\"/>\n",
       "</g>\n",
       "<!-- 29 -->\n",
       "<g id=\"node30\" class=\"node\"><title>29</title>\n",
       "<polygon fill=\"#e58139\" stroke=\"black\" points=\"738,-298.5 640,-298.5 640,-230.5 738,-230.5 738,-298.5\"/>\n",
       "<text text-anchor=\"middle\" x=\"689\" y=\"-283.3\" font-family=\"Times New Roman,serif\" font-size=\"14.00\">entropy = 0.0</text>\n",
       "<text text-anchor=\"middle\" x=\"689\" y=\"-268.3\" font-family=\"Times New Roman,serif\" font-size=\"14.00\">samples = 18</text>\n",
       "<text text-anchor=\"middle\" x=\"689\" y=\"-253.3\" font-family=\"Times New Roman,serif\" font-size=\"14.00\">value = [18, 0]</text>\n",
       "<text text-anchor=\"middle\" x=\"689\" y=\"-238.3\" font-family=\"Times New Roman,serif\" font-size=\"14.00\">class = Died</text>\n",
       "</g>\n",
       "<!-- 23&#45;&gt;29 -->\n",
       "<g id=\"edge29\" class=\"edge\"><title>23-&gt;29</title>\n",
       "<path fill=\"none\" stroke=\"black\" d=\"M608.674,-341.907C620.971,-330.211 634.378,-317.457 646.655,-305.78\"/>\n",
       "<polygon fill=\"black\" stroke=\"black\" points=\"649.299,-308.095 654.132,-298.667 644.474,-303.023 649.299,-308.095\"/>\n",
       "</g>\n",
       "<!-- 25 -->\n",
       "<g id=\"node26\" class=\"node\"><title>25</title>\n",
       "<polygon fill=\"#f1bd98\" stroke=\"black\" points=\"619,-179.5 513,-179.5 513,-111.5 619,-111.5 619,-179.5\"/>\n",
       "<text text-anchor=\"middle\" x=\"566\" y=\"-164.3\" font-family=\"Times New Roman,serif\" font-size=\"14.00\">entropy = 0.908</text>\n",
       "<text text-anchor=\"middle\" x=\"566\" y=\"-149.3\" font-family=\"Times New Roman,serif\" font-size=\"14.00\">samples = 34</text>\n",
       "<text text-anchor=\"middle\" x=\"566\" y=\"-134.3\" font-family=\"Times New Roman,serif\" font-size=\"14.00\">value = [23, 11]</text>\n",
       "<text text-anchor=\"middle\" x=\"566\" y=\"-119.3\" font-family=\"Times New Roman,serif\" font-size=\"14.00\">class = Died</text>\n",
       "</g>\n",
       "<!-- 24&#45;&gt;25 -->\n",
       "<g id=\"edge25\" class=\"edge\"><title>24-&gt;25</title>\n",
       "<path fill=\"none\" stroke=\"black\" d=\"M566,-222.907C566,-212.204 566,-200.615 566,-189.776\"/>\n",
       "<polygon fill=\"black\" stroke=\"black\" points=\"569.5,-189.667 566,-179.667 562.5,-189.667 569.5,-189.667\"/>\n",
       "</g>\n",
       "<!-- 26 -->\n",
       "<g id=\"node27\" class=\"node\"><title>26</title>\n",
       "<polygon fill=\"#e99355\" stroke=\"black\" points=\"748.5,-187 637.5,-187 637.5,-104 748.5,-104 748.5,-187\"/>\n",
       "<text text-anchor=\"middle\" x=\"693\" y=\"-171.8\" font-family=\"Times New Roman,serif\" font-size=\"14.00\">Age &lt;= 13.5</text>\n",
       "<text text-anchor=\"middle\" x=\"693\" y=\"-156.8\" font-family=\"Times New Roman,serif\" font-size=\"14.00\">entropy = 0.544</text>\n",
       "<text text-anchor=\"middle\" x=\"693\" y=\"-141.8\" font-family=\"Times New Roman,serif\" font-size=\"14.00\">samples = 280</text>\n",
       "<text text-anchor=\"middle\" x=\"693\" y=\"-126.8\" font-family=\"Times New Roman,serif\" font-size=\"14.00\">value = [245, 35]</text>\n",
       "<text text-anchor=\"middle\" x=\"693\" y=\"-111.8\" font-family=\"Times New Roman,serif\" font-size=\"14.00\">class = Died</text>\n",
       "</g>\n",
       "<!-- 24&#45;&gt;26 -->\n",
       "<g id=\"edge26\" class=\"edge\"><title>24-&gt;26</title>\n",
       "<path fill=\"none\" stroke=\"black\" d=\"M610.062,-222.907C620.208,-213.56 631.087,-203.538 641.517,-193.929\"/>\n",
       "<polygon fill=\"black\" stroke=\"black\" points=\"644.033,-196.371 649.016,-187.021 639.29,-191.222 644.033,-196.371\"/>\n",
       "</g>\n",
       "<!-- 27 -->\n",
       "<g id=\"node28\" class=\"node\"><title>27</title>\n",
       "<polygon fill=\"#f6d5bd\" stroke=\"black\" points=\"682,-68 576,-68 576,-0 682,-0 682,-68\"/>\n",
       "<text text-anchor=\"middle\" x=\"629\" y=\"-52.8\" font-family=\"Times New Roman,serif\" font-size=\"14.00\">entropy = 0.971</text>\n",
       "<text text-anchor=\"middle\" x=\"629\" y=\"-37.8\" font-family=\"Times New Roman,serif\" font-size=\"14.00\">samples = 10</text>\n",
       "<text text-anchor=\"middle\" x=\"629\" y=\"-22.8\" font-family=\"Times New Roman,serif\" font-size=\"14.00\">value = [6, 4]</text>\n",
       "<text text-anchor=\"middle\" x=\"629\" y=\"-7.8\" font-family=\"Times New Roman,serif\" font-size=\"14.00\">class = Died</text>\n",
       "</g>\n",
       "<!-- 26&#45;&gt;27 -->\n",
       "<g id=\"edge27\" class=\"edge\"><title>26-&gt;27</title>\n",
       "<path fill=\"none\" stroke=\"black\" d=\"M669.169,-103.726C664.104,-95.0615 658.748,-85.8962 653.653,-77.1802\"/>\n",
       "<polygon fill=\"black\" stroke=\"black\" points=\"656.531,-75.167 648.463,-68.2996 650.487,-78.6992 656.531,-75.167\"/>\n",
       "</g>\n",
       "<!-- 28 -->\n",
       "<g id=\"node29\" class=\"node\"><title>28</title>\n",
       "<polygon fill=\"#e89153\" stroke=\"black\" points=\"811.5,-68 700.5,-68 700.5,-0 811.5,-0 811.5,-68\"/>\n",
       "<text text-anchor=\"middle\" x=\"756\" y=\"-52.8\" font-family=\"Times New Roman,serif\" font-size=\"14.00\">entropy = 0.514</text>\n",
       "<text text-anchor=\"middle\" x=\"756\" y=\"-37.8\" font-family=\"Times New Roman,serif\" font-size=\"14.00\">samples = 270</text>\n",
       "<text text-anchor=\"middle\" x=\"756\" y=\"-22.8\" font-family=\"Times New Roman,serif\" font-size=\"14.00\">value = [239, 31]</text>\n",
       "<text text-anchor=\"middle\" x=\"756\" y=\"-7.8\" font-family=\"Times New Roman,serif\" font-size=\"14.00\">class = Died</text>\n",
       "</g>\n",
       "<!-- 26&#45;&gt;28 -->\n",
       "<g id=\"edge28\" class=\"edge\"><title>26-&gt;28</title>\n",
       "<path fill=\"none\" stroke=\"black\" d=\"M716.459,-103.726C721.444,-95.0615 726.717,-85.8962 731.732,-77.1802\"/>\n",
       "<polygon fill=\"black\" stroke=\"black\" points=\"734.888,-78.7128 736.841,-68.2996 728.821,-75.2219 734.888,-78.7128\"/>\n",
       "</g>\n",
       "</g>\n",
       "</svg>"
      ],
      "text/plain": [
       "<IPython.core.display.SVG object>"
      ]
     },
     "metadata": {},
     "output_type": "display_data"
    }
   ],
   "source": [
    "graph = Source(tree.export_graphviz(best_clf, out_file=None,\n",
    "                                   feature_names=list(X),\n",
    "                                   class_names=['Died','Survived'],\n",
    "                                   filled = True))\n",
    "\n",
    "display(SVG(graph.pipe(format='svg')))"
   ]
  },
  {
   "cell_type": "markdown",
   "metadata": {},
   "source": [
    "#########3 training option: Random forest\n",
    "\n",
    "###Create a classifier for random forest"
   ]
  },
  {
   "cell_type": "code",
   "execution_count": 8,
   "metadata": {},
   "outputs": [],
   "source": [
    "clf_rf = RandomForestClassifier()"
   ]
  },
  {
   "cell_type": "code",
   "execution_count": 9,
   "metadata": {},
   "outputs": [],
   "source": [
    "parametrs = {'n_estimators': range(10, 30), 'max_depth': range(1, 30)}"
   ]
  },
  {
   "cell_type": "code",
   "execution_count": 10,
   "metadata": {},
   "outputs": [],
   "source": [
    "grid_search_cv_clf = GridSearchCV(clf_rf, parametrs, cv=5)"
   ]
  },
  {
   "cell_type": "markdown",
   "metadata": {},
   "source": [
    "###Random forest training"
   ]
  },
  {
   "cell_type": "code",
   "execution_count": 11,
   "metadata": {},
   "outputs": [
    {
     "data": {
      "text/plain": [
       "GridSearchCV(cv=5, error_score=nan,\n",
       "             estimator=RandomForestClassifier(bootstrap=True, ccp_alpha=0.0,\n",
       "                                              class_weight=None,\n",
       "                                              criterion='gini', max_depth=None,\n",
       "                                              max_features='auto',\n",
       "                                              max_leaf_nodes=None,\n",
       "                                              max_samples=None,\n",
       "                                              min_impurity_decrease=0.0,\n",
       "                                              min_impurity_split=None,\n",
       "                                              min_samples_leaf=1,\n",
       "                                              min_samples_split=2,\n",
       "                                              min_weight_fraction_leaf=0.0,\n",
       "                                              n_estimators=100, n_jobs=None,\n",
       "                                              oob_score=False,\n",
       "                                              random_state=None, verbose=0,\n",
       "                                              warm_start=False),\n",
       "             iid='deprecated', n_jobs=None,\n",
       "             param_grid={'max_depth': range(1, 30),\n",
       "                         'n_estimators': range(10, 30)},\n",
       "             pre_dispatch='2*n_jobs', refit=True, return_train_score=False,\n",
       "             scoring=None, verbose=0)"
      ]
     },
     "execution_count": 11,
     "metadata": {},
     "output_type": "execute_result"
    }
   ],
   "source": [
    "grid_search_cv_clf.fit(X_train, y_train)"
   ]
  },
  {
   "cell_type": "code",
   "execution_count": 12,
   "metadata": {},
   "outputs": [
    {
     "data": {
      "text/plain": [
       "{'max_depth': 7, 'n_estimators': 19}"
      ]
     },
     "execution_count": 12,
     "metadata": {},
     "output_type": "execute_result"
    }
   ],
   "source": [
    "grid_search_cv_clf.best_params_"
   ]
  },
  {
   "cell_type": "code",
   "execution_count": 13,
   "metadata": {},
   "outputs": [],
   "source": [
    "best_clf = grid_search_cv_clf.best_estimator_"
   ]
  },
  {
   "cell_type": "code",
   "execution_count": 164,
   "metadata": {},
   "outputs": [],
   "source": [
    "feature_importances = best_clf.feature_importances_"
   ]
  },
  {
   "cell_type": "code",
   "execution_count": 165,
   "metadata": {},
   "outputs": [],
   "source": [
    "feature_importances_df = pd.DataFrame({'features': list(X_train),\n",
    "    'feature_importances': feature_importances})"
   ]
  },
  {
   "cell_type": "code",
   "execution_count": 166,
   "metadata": {},
   "outputs": [
    {
     "data": {
      "text/html": [
       "<div>\n",
       "<style scoped>\n",
       "    .dataframe tbody tr th:only-of-type {\n",
       "        vertical-align: middle;\n",
       "    }\n",
       "\n",
       "    .dataframe tbody tr th {\n",
       "        vertical-align: top;\n",
       "    }\n",
       "\n",
       "    .dataframe thead th {\n",
       "        text-align: right;\n",
       "    }\n",
       "</style>\n",
       "<table border=\"1\" class=\"dataframe\">\n",
       "  <thead>\n",
       "    <tr style=\"text-align: right;\">\n",
       "      <th></th>\n",
       "      <th>features</th>\n",
       "      <th>feature_importances</th>\n",
       "    </tr>\n",
       "  </thead>\n",
       "  <tbody>\n",
       "    <tr>\n",
       "      <th>6</th>\n",
       "      <td>Sex_male</td>\n",
       "      <td>0.269191</td>\n",
       "    </tr>\n",
       "    <tr>\n",
       "      <th>5</th>\n",
       "      <td>Sex_female</td>\n",
       "      <td>0.203805</td>\n",
       "    </tr>\n",
       "    <tr>\n",
       "      <th>4</th>\n",
       "      <td>Fare</td>\n",
       "      <td>0.141547</td>\n",
       "    </tr>\n",
       "    <tr>\n",
       "      <th>1</th>\n",
       "      <td>Age</td>\n",
       "      <td>0.127545</td>\n",
       "    </tr>\n",
       "    <tr>\n",
       "      <th>0</th>\n",
       "      <td>Pclass</td>\n",
       "      <td>0.121584</td>\n",
       "    </tr>\n",
       "    <tr>\n",
       "      <th>3</th>\n",
       "      <td>Parch</td>\n",
       "      <td>0.039024</td>\n",
       "    </tr>\n",
       "    <tr>\n",
       "      <th>2</th>\n",
       "      <td>SibSp</td>\n",
       "      <td>0.037219</td>\n",
       "    </tr>\n",
       "    <tr>\n",
       "      <th>7</th>\n",
       "      <td>Embarked_C</td>\n",
       "      <td>0.026223</td>\n",
       "    </tr>\n",
       "    <tr>\n",
       "      <th>9</th>\n",
       "      <td>Embarked_S</td>\n",
       "      <td>0.020441</td>\n",
       "    </tr>\n",
       "    <tr>\n",
       "      <th>8</th>\n",
       "      <td>Embarked_Q</td>\n",
       "      <td>0.013421</td>\n",
       "    </tr>\n",
       "  </tbody>\n",
       "</table>\n",
       "</div>"
      ],
      "text/plain": [
       "     features  feature_importances\n",
       "6    Sex_male             0.269191\n",
       "5  Sex_female             0.203805\n",
       "4        Fare             0.141547\n",
       "1         Age             0.127545\n",
       "0      Pclass             0.121584\n",
       "3       Parch             0.039024\n",
       "2       SibSp             0.037219\n",
       "7  Embarked_C             0.026223\n",
       "9  Embarked_S             0.020441\n",
       "8  Embarked_Q             0.013421"
      ]
     },
     "execution_count": 166,
     "metadata": {},
     "output_type": "execute_result"
    }
   ],
   "source": [
    "feature_importances_df.sort_values('feature_importances', ascending= False)"
   ]
  },
  {
   "cell_type": "code",
   "execution_count": 169,
   "metadata": {},
   "outputs": [
    {
     "data": {
      "text/plain": [
       "<matplotlib.axes._subplots.AxesSubplot at 0x2d81d5b8ac0>"
      ]
     },
     "execution_count": 169,
     "metadata": {},
     "output_type": "execute_result"
    },
    {
     "data": {
      "image/png": "[encoded data removed]",
      "text/plain": [
       "<Figure size 864x576 with 1 Axes>"
      ]
     },
     "metadata": {
      "needs_background": "light"
     },
     "output_type": "display_data"
    }
   ],
   "source": [
    "imp = pd.DataFrame(feature_importances, index=X_train.columns, columns=['importance'])\n",
    "imp.sort_values('importance').plot(kind='barh', figsize=(12, 8))"
   ]
  }
 ],
 "metadata": {
  "kernelspec": {
   "display_name": "Python 3",
   "language": "python",
   "name": "python3"
  },
  "language_info": {
   "codemirror_mode": {
    "name": "ipython",
    "version": 3
   },
   "file_extension": ".py",
   "mimetype": "text/x-python",
   "name": "python",
   "nbconvert_exporter": "python",
   "pygments_lexer": "ipython3",
   "version": "3.8.1"
  }
 },
 "nbformat": 4,
 "nbformat_minor": 4
}
