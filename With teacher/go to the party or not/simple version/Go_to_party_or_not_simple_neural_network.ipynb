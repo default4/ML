{
 "cells": [
  {
   "cell_type": "markdown",
   "metadata": {},
   "source": [
    "###This neural network will decide whether to go to the party or not. The decision will depend on the following factors: will there be a drink at the party, will it rain outside, will a friend go with us to the party. In this example, there is no network training, since weights are set manually (training will be implemented in the followin example)."
   ]
  },
  {
   "cell_type": "code",
   "execution_count": 1,
   "metadata": {},
   "outputs": [],
   "source": [
    "import numpy as np"
   ]
  },
  {
   "cell_type": "markdown",
   "metadata": {},
   "source": [
    "###Input parameters for a neural network"
   ]
  },
  {
   "cell_type": "code",
   "execution_count": 14,
   "metadata": {},
   "outputs": [],
   "source": [
    "drink = 1.0\n",
    "rain = 0.0\n",
    "friend = 1.0"
   ]
  },
  {
   "cell_type": "markdown",
   "metadata": {},
   "source": [
    "###Activation function"
   ]
  },
  {
   "cell_type": "code",
   "execution_count": 16,
   "metadata": {},
   "outputs": [],
   "source": [
    "def activation_function(x):\n",
    "    if x >= 0.5:\n",
    "        return 1\n",
    "    else:\n",
    "        return 0"
   ]
  },
  {
   "cell_type": "markdown",
   "metadata": {},
   "source": [
    "###Prediction function, based on input parametrs"
   ]
  },
  {
   "cell_type": "code",
   "execution_count": 18,
   "metadata": {},
   "outputs": [
    {
     "name": "stdout",
     "output_type": "stream",
     "text": [
      "hiden_input: [0.25 1.4 ]\n",
      "hiden_output: [0 1]\n",
      "output: 1\n",
      "result: True\n"
     ]
    }
   ],
   "source": [
    "def predict(drink, rain, friend):\n",
    "    inputs = np.array([drink, rain, friend])\n",
    "    weights_input_to_hiden_1 = [0.25, 0.25, 0]\n",
    "    weights_input_to_hiden_2 = [0.5, -0.4, 0.9]\n",
    "    weights_input_to_hiden = np.array([weights_input_to_hiden_1, weights_input_to_hiden_2])\n",
    "    \n",
    "    weights_hiden_to_output = np.array([-1, 1])\n",
    "    \n",
    "    hiden_input = np.dot(weights_input_to_hiden, inputs)\n",
    "    print(\"hiden_input: \" + str(hiden_input))\n",
    "    \n",
    "    hiden_output = np.array([activation_function(x) for x in hiden_input])\n",
    "    print(\"hiden_output: \" + str(hiden_output))\n",
    "    \n",
    "    output = np.dot(weights_hiden_to_output, hiden_output)\n",
    "    \n",
    "    print(\"output: \" + str(output))\n",
    "    return activation_function(output) == 1\n",
    "    \n",
    "print(\"result: \" + str(predict(drink, rain, friend)))"
   ]
  }
 ],
 "metadata": {
  "kernelspec": {
   "display_name": "Python 3",
   "language": "python",
   "name": "python3"
  },
  "language_info": {
   "codemirror_mode": {
    "name": "ipython",
    "version": 3
   },
   "file_extension": ".py",
   "mimetype": "text/x-python",
   "name": "python",
   "nbconvert_exporter": "python",
   "pygments_lexer": "ipython3",
   "version": "3.8.1"
  }
 },
 "nbformat": 4,
 "nbformat_minor": 4
}
