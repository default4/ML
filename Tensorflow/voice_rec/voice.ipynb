{
 "cells": [
  {
   "cell_type": "code",
   "execution_count": 1,
   "metadata": {},
   "outputs": [],
   "source": [
    "import librosa\n",
    "from os import listdir\n",
    "import numpy as np\n",
    "from sklearn.model_selection import train_test_split\n",
    "import tensorflow as tf"
   ]
  },
  {
   "cell_type": "code",
   "execution_count": 2,
   "metadata": {},
   "outputs": [],
   "source": [
    "def loadSound(path):\n",
    "    soundList = listdir(path)\n",
    "    loadedSound = []\n",
    "    for sound in soundList:\n",
    "        Y, sr = librosa.load(path + sound)\n",
    "        loadedSound.append(librosa.feature.mfcc(Y, sr=sr))\n",
    "    return np.array(loadedSound)"
   ]
  },
  {
   "cell_type": "code",
   "execution_count": 3,
   "metadata": {},
   "outputs": [],
   "source": [
    "one = loadSound('./voice_123/one/')\n",
    "two = loadSound('./voice_123/two/')\n",
    "three = loadSound('./voice_123/three/')\n",
    "X = np.concatenate((one, two, three), axis=0)"
   ]
  },
  {
   "cell_type": "code",
   "execution_count": 4,
   "metadata": {},
   "outputs": [],
   "source": [
    "one_label = np.concatenate((np.ones(10), np.zeros(10), np.zeros(10)))\n",
    "two_label = np.concatenate((np.zeros(10), np.ones(10), np.zeros(10)))\n",
    "three_label = np.concatenate((np.zeros(10), np.zeros(10), np.ones(10)))\n",
    "y = np.concatenate((one_label[:, None], two_label[:, None], three_label[:, None]), axis=1)\n",
    "X_train, X_test, y_train, y_test = train_test_split(X, y, test_size=0.1, random_state=42)"
   ]
  },
  {
   "cell_type": "code",
   "execution_count": 9,
   "metadata": {},
   "outputs": [
    {
     "name": "stdout",
     "output_type": "stream",
     "text": [
      "Train on 27 samples, validate on 3 samples\n",
      "Epoch 1/15\n",
      "27/27 [==============================] - 7s 258ms/sample - loss: 1.0971 - accuracy: 0.2593 - val_loss: 1.0515 - val_accuracy: 0.6667\n",
      "Epoch 2/15\n",
      "27/27 [==============================] - 0s 5ms/sample - loss: 1.0684 - accuracy: 0.4074 - val_loss: 1.0424 - val_accuracy: 0.6667\n",
      "Epoch 3/15\n",
      "27/27 [==============================] - 0s 5ms/sample - loss: 1.0226 - accuracy: 0.4074 - val_loss: 1.0176 - val_accuracy: 0.6667\n",
      "Epoch 4/15\n",
      "27/27 [==============================] - 0s 5ms/sample - loss: 0.9722 - accuracy: 0.6667 - val_loss: 0.9594 - val_accuracy: 0.6667\n",
      "Epoch 5/15\n",
      "27/27 [==============================] - 0s 5ms/sample - loss: 0.9176 - accuracy: 0.7778 - val_loss: 0.8662 - val_accuracy: 0.6667\n",
      "Epoch 6/15\n",
      "27/27 [==============================] - 0s 5ms/sample - loss: 0.8570 - accuracy: 0.9259 - val_loss: 0.7437 - val_accuracy: 0.6667\n",
      "Epoch 7/15\n",
      "27/27 [==============================] - 0s 5ms/sample - loss: 0.7909 - accuracy: 0.9259 - val_loss: 0.6476 - val_accuracy: 0.6667\n",
      "Epoch 8/15\n",
      "27/27 [==============================] - 0s 5ms/sample - loss: 0.7252 - accuracy: 0.9259 - val_loss: 0.5574 - val_accuracy: 0.6667\n",
      "Epoch 9/15\n",
      "27/27 [==============================] - 0s 5ms/sample - loss: 0.6602 - accuracy: 1.0000 - val_loss: 0.4779 - val_accuracy: 0.6667\n",
      "Epoch 10/15\n",
      "27/27 [==============================] - 0s 5ms/sample - loss: 0.5993 - accuracy: 1.0000 - val_loss: 0.5015 - val_accuracy: 0.6667\n",
      "Epoch 11/15\n",
      "27/27 [==============================] - 0s 5ms/sample - loss: 0.5426 - accuracy: 1.0000 - val_loss: 0.3367 - val_accuracy: 0.6667\n",
      "Epoch 12/15\n",
      "27/27 [==============================] - 0s 5ms/sample - loss: 0.4826 - accuracy: 1.0000 - val_loss: 0.3501 - val_accuracy: 0.6667\n",
      "Epoch 13/15\n",
      "27/27 [==============================] - 0s 5ms/sample - loss: 0.4221 - accuracy: 1.0000 - val_loss: 0.2032 - val_accuracy: 1.0000\n",
      "Epoch 14/15\n",
      "27/27 [==============================] - 0s 5ms/sample - loss: 0.3579 - accuracy: 1.0000 - val_loss: 0.1567 - val_accuracy: 1.0000\n",
      "Epoch 15/15\n",
      "27/27 [==============================] - 0s 5ms/sample - loss: 0.2981 - accuracy: 1.0000 - val_loss: 0.1639 - val_accuracy: 1.0000\n"
     ]
    },
    {
     "data": {
      "text/plain": [
       "<tensorflow.python.keras.callbacks.History at 0x2175579b3c8>"
      ]
     },
     "execution_count": 9,
     "metadata": {},
     "output_type": "execute_result"
    }
   ],
   "source": [
    "model = tf.compat.v1.keras.models.Sequential()\n",
    "model.add(tf.compat.v1.keras.layers.LSTM(units=256,return_sequences=True))\n",
    "model.add(tf.compat.v1.keras.layers.LSTM(units=128,return_sequences=True))\n",
    "model.add(tf.compat.v1.keras.layers.LSTM(units=64,return_sequences=True))\n",
    "model.add(tf.compat.v1.keras.layers.LSTM(units=32))\n",
    "model.add(tf.compat.v1.keras.layers.Dense(units=128, activation='relu'))\n",
    "model.add(tf.compat.v1.keras.layers.Dense(units=64, activation='relu'))\n",
    "model.add(tf.compat.v1.keras.layers.Dense(units=32, activation='relu'))\n",
    "model.add(tf.compat.v1.keras.layers.Dense(units=3, activation='softmax'))\n",
    "\n",
    "model.compile(loss='categorical_crossentropy', optimizer='adam', metrics=['accuracy'])\n",
    "model.fit(X_train, y_train, epochs=15,validation_data=(X_test, y_test))"
   ]
  },
  {
   "cell_type": "code",
   "execution_count": null,
   "metadata": {},
   "outputs": [],
   "source": []
  }
 ],
 "metadata": {
  "kernelspec": {
   "display_name": "Python 3",
   "language": "python",
   "name": "python3"
  },
  "language_info": {
   "codemirror_mode": {
    "name": "ipython",
    "version": 3
   },
   "file_extension": ".py",
   "mimetype": "text/x-python",
   "name": "python",
   "nbconvert_exporter": "python",
   "pygments_lexer": "ipython3",
   "version": "3.7.6"
  }
 },
 "nbformat": 4,
 "nbformat_minor": 4
}
