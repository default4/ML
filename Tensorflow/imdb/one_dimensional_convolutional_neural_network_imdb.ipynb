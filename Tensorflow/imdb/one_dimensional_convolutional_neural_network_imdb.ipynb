{
 "cells": [
  {
   "cell_type": "code",
   "execution_count": 16,
   "metadata": {},
   "outputs": [],
   "source": [
    "import tensorflow as tf\n",
    "import numpy as np\n",
    "import matplotlib.pyplot as plt\n",
    "%matplotlib inline "
   ]
  },
  {
   "cell_type": "code",
   "execution_count": 17,
   "metadata": {},
   "outputs": [],
   "source": [
    "max_words=10000"
   ]
  },
  {
   "cell_type": "code",
   "execution_count": 18,
   "metadata": {},
   "outputs": [],
   "source": [
    "(X_train, y_train), (X_test, y_test) = tf.keras.datasets.imdb.load_data(num_words=max_words)"
   ]
  },
  {
   "cell_type": "code",
   "execution_count": 19,
   "metadata": {},
   "outputs": [],
   "source": [
    "maxlen = 200"
   ]
  },
  {
   "cell_type": "code",
   "execution_count": 20,
   "metadata": {},
   "outputs": [],
   "source": [
    "X_train = tf.keras.preprocessing.sequence.pad_sequences(X_train, maxlen=maxlen)\n",
    "X_test = tf.keras.preprocessing.sequence.pad_sequences(X_test, maxlen=maxlen)"
   ]
  },
  {
   "cell_type": "code",
   "execution_count": 21,
   "metadata": {},
   "outputs": [
    {
     "data": {
      "text/plain": [
       "array([   0,    0,    0,    0,    0,    0,    0,    0,    0,    0,    0,\n",
       "          0,    0,    0,    0,    0,    0,    0,    0,    0,    0,    0,\n",
       "          0,    0,    0,    0,    0,    0,    0,    0,    0,    0,    0,\n",
       "          0,    0,    0,    0,    0,    0,    0,    0,    0,    0,    0,\n",
       "          0,    0,    0,    0,    0,    0,    0,    0,    0,    0,    0,\n",
       "          0,    0,    0,    0,    0,    0,    0,    0,    0,    0,    0,\n",
       "          0,    0,    0,    1,  103,   51,   13,  197,   16,    6, 4796,\n",
       "        239,    7,  107,  555,   11,  132,   39, 8921, 1872,  138,   16,\n",
       "       4093, 1768, 2959,   34, 1620,    2,   11,    4,  755,   12,   43,\n",
       "        286,    4,  172,  209,    2,    5, 5938,   17, 1000,   34, 1768,\n",
       "        279,   29, 3892,   89,  338,    4,  114,   16, 1240, 1747,  103,\n",
       "       3844, 3819,    8,  169, 2875,  112, 7062,   34,  160,  132,   29,\n",
       "        100,   24,  535,  101,  250,    8,  858,   15,  196,   19,   57,\n",
       "       3154,   39,   90,    5,   24,  169, 3533,   18,    6,  910,   20,\n",
       "         14, 1367, 3939, 1101,  935,    4,  545, 1744,  173,   54, 1240,\n",
       "       2875,    2,   56,  209,  112, 1021,   55,  835,  179,   35, 2384,\n",
       "          8,  529, 1663, 1793,    8, 1066,    7,   61,  223,  637, 1231,\n",
       "         19,    4,   86,   31,    5,  353,    8,  859,   13,  126,  219,\n",
       "          4,  755])"
      ]
     },
     "execution_count": 21,
     "metadata": {},
     "output_type": "execute_result"
    }
   ],
   "source": [
    "X_train[5002]"
   ]
  },
  {
   "cell_type": "code",
   "execution_count": 22,
   "metadata": {},
   "outputs": [],
   "source": [
    "###Create NN\n",
    "model = tf.keras.models.Sequential()\n",
    "model.add(tf.keras.layers.Embedding(max_words, 8, input_length=maxlen))\n",
    "model.add(tf.keras.layers.Conv1D(100, 5, activation='relu'))\n",
    "model.add(tf.keras.layers.MaxPooling1D(pool_size=2))\n",
    "model.add(tf.keras.layers.Conv1D(200, 5, activation='relu'))\n",
    "model.add(tf.keras.layers.MaxPooling1D(pool_size=2))\n",
    "model.add(tf.keras.layers.Flatten())\n",
    "model.add(tf.keras.layers.Dense(128, activation='relu'))\n",
    "model.add(tf.keras.layers.Dense(1, activation='sigmoid'))"
   ]
  },
  {
   "cell_type": "code",
   "execution_count": 23,
   "metadata": {},
   "outputs": [],
   "source": [
    "model.compile(optimizer='adam', \n",
    "              loss='binary_crossentropy', \n",
    "              metrics=['accuracy'])"
   ]
  },
  {
   "cell_type": "code",
   "execution_count": 24,
   "metadata": {},
   "outputs": [
    {
     "name": "stdout",
     "output_type": "stream",
     "text": [
      "Model: \"sequential_1\"\n",
      "_________________________________________________________________\n",
      "Layer (type)                 Output Shape              Param #   \n",
      "=================================================================\n",
      "embedding_1 (Embedding)      (None, 200, 8)            80000     \n",
      "_________________________________________________________________\n",
      "conv1d_2 (Conv1D)            (None, 196, 100)          4100      \n",
      "_________________________________________________________________\n",
      "max_pooling1d_2 (MaxPooling1 (None, 98, 100)           0         \n",
      "_________________________________________________________________\n",
      "conv1d_3 (Conv1D)            (None, 94, 200)           100200    \n",
      "_________________________________________________________________\n",
      "max_pooling1d_3 (MaxPooling1 (None, 47, 200)           0         \n",
      "_________________________________________________________________\n",
      "flatten_1 (Flatten)          (None, 9400)              0         \n",
      "_________________________________________________________________\n",
      "dense_2 (Dense)              (None, 128)               1203328   \n",
      "_________________________________________________________________\n",
      "dense_3 (Dense)              (None, 1)                 129       \n",
      "=================================================================\n",
      "Total params: 1,387,757\n",
      "Trainable params: 1,387,757\n",
      "Non-trainable params: 0\n",
      "_________________________________________________________________\n"
     ]
    }
   ],
   "source": [
    "model.summary()"
   ]
  },
  {
   "cell_type": "code",
   "execution_count": 25,
   "metadata": {},
   "outputs": [
    {
     "name": "stdout",
     "output_type": "stream",
     "text": [
      "Epoch 1/5\n",
      "176/176 [==============================] - 13s 77ms/step - loss: 0.4774 - accuracy: 0.7390 - val_loss: 0.3182 - val_accuracy: 0.8720\n",
      "Epoch 2/5\n",
      "176/176 [==============================] - 14s 79ms/step - loss: 0.2260 - accuracy: 0.9102 - val_loss: 0.3000 - val_accuracy: 0.8772\n",
      "Epoch 3/5\n",
      "176/176 [==============================] - 13s 77ms/step - loss: 0.1652 - accuracy: 0.9395 - val_loss: 0.3285 - val_accuracy: 0.8768\n",
      "Epoch 4/5\n",
      "176/176 [==============================] - 13s 74ms/step - loss: 0.1189 - accuracy: 0.9585 - val_loss: 0.3910 - val_accuracy: 0.8696\n",
      "Epoch 5/5\n",
      "176/176 [==============================] - 12s 70ms/step - loss: 0.0886 - accuracy: 0.9694 - val_loss: 0.4286 - val_accuracy: 0.8700\n"
     ]
    }
   ],
   "source": [
    "history = model.fit(X_train, \n",
    "                    y_train, \n",
    "                    epochs=5,\n",
    "                    batch_size=128,\n",
    "                    validation_split=0.1)"
   ]
  },
  {
   "cell_type": "code",
   "execution_count": 26,
   "metadata": {},
   "outputs": [
    {
     "data": {
      "image/png": "[encoded data removed]",
      "text/plain": [
       "<Figure size 432x288 with 1 Axes>"
      ]
     },
     "metadata": {
      "needs_background": "light"
     },
     "output_type": "display_data"
    }
   ],
   "source": [
    "plt.plot(history.history['accuracy'], \n",
    "         label='The share of correct answers on the training set')\n",
    "plt.plot(history.history['val_accuracy'], \n",
    "         label='The share of correct answers on the test set')\n",
    "plt.xlabel('Epoch of Learning')\n",
    "plt.ylabel('The share of correct answers')\n",
    "plt.legend()\n",
    "plt.show()"
   ]
  },
  {
   "cell_type": "code",
   "execution_count": 27,
   "metadata": {},
   "outputs": [
    {
     "name": "stdout",
     "output_type": "stream",
     "text": [
      "782/782 [==============================] - 5s 7ms/step - loss: 0.4721 - accuracy: 0.8505\n"
     ]
    }
   ],
   "source": [
    "scores = model.evaluate(X_test, y_test, verbose=1)"
   ]
  },
  {
   "cell_type": "code",
   "execution_count": 28,
   "metadata": {},
   "outputs": [
    {
     "name": "stdout",
     "output_type": "stream",
     "text": [
      "Percentage of correct answers on test data: 85.052\n"
     ]
    }
   ],
   "source": [
    "print(\"Percentage of correct answers on test data:\", round(scores[1] * 100, 4))"
   ]
  },
  {
   "cell_type": "code",
   "execution_count": null,
   "metadata": {},
   "outputs": [],
   "source": []
  }
 ],
 "metadata": {
  "kernelspec": {
   "display_name": "Python 3",
   "language": "python",
   "name": "python3"
  },
  "language_info": {
   "codemirror_mode": {
    "name": "ipython",
    "version": 3
   },
   "file_extension": ".py",
   "mimetype": "text/x-python",
   "name": "python",
   "nbconvert_exporter": "python",
   "pygments_lexer": "ipython3",
   "version": "3.7.6"
  }
 },
 "nbformat": 4,
 "nbformat_minor": 4
}
