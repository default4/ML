{
 "cells": [
  {
   "cell_type": "code",
   "execution_count": 1,
   "metadata": {
    "colab": {},
    "colab_type": "code",
    "id": "xw_u85c69849"
   },
   "outputs": [],
   "source": [
    "import tensorflow as tf\n",
    "import numpy as np\n",
    "import matplotlib.pyplot as plt\n",
    "%matplotlib inline "
   ]
  },
  {
   "cell_type": "code",
   "execution_count": 2,
   "metadata": {
    "colab": {},
    "colab_type": "code",
    "id": "UmRbgQYH-CfB"
   },
   "outputs": [],
   "source": [
    "###Determining the tone of the text of reviews of films from IMDb (Internet Movie Database)\n",
    "max_words=10000\n",
    "(X_train, y_train), (X_test, y_test) = tf.keras.datasets.imdb.load_data(num_words=max_words)"
   ]
  },
  {
   "cell_type": "code",
   "execution_count": 3,
   "metadata": {
    "colab": {},
    "colab_type": "code",
    "id": "oGXrkCHQ-Ffy"
   },
   "outputs": [],
   "source": [
    "###Training data preparation\n",
    "maxlen = 200\n",
    "X_train = tf.keras.preprocessing.sequence.pad_sequences(X_train, maxlen=maxlen, padding='post')\n",
    "X_test = tf.keras.preprocessing.sequence.pad_sequences(X_test, maxlen=maxlen, padding='post')"
   ]
  },
  {
   "cell_type": "code",
   "execution_count": 4,
   "metadata": {
    "colab": {},
    "colab_type": "code",
    "id": "2oOpyXP_-JOs"
   },
   "outputs": [],
   "source": [
    "###Create neural network\n",
    "model = tf.keras.models.Sequential()\n",
    "model.add(tf.keras.layers.Embedding(max_words, 8, input_length=maxlen))\n",
    "model.add(tf.keras.layers.LSTM(32, recurrent_dropout = 0.2))\n",
    "model.add(tf.keras.layers.Dense(1, activation='sigmoid'))"
   ]
  },
  {
   "cell_type": "code",
   "execution_count": 5,
   "metadata": {
    "colab": {},
    "colab_type": "code",
    "id": "TJinun3zaFj8"
   },
   "outputs": [],
   "source": [
    "model.compile(optimizer='adam', \n",
    "              loss='binary_crossentropy', \n",
    "              metrics=['accuracy'])"
   ]
  },
  {
   "cell_type": "code",
   "execution_count": 6,
   "metadata": {
    "colab": {},
    "colab_type": "code",
    "id": "dwZufkkbaIE5"
   },
   "outputs": [
    {
     "name": "stdout",
     "output_type": "stream",
     "text": [
      "Epoch 1/15\n",
      "176/176 [==============================] - 24s 139ms/step - loss: 0.6549 - accuracy: 0.5778 - val_loss: 0.4457 - val_accuracy: 0.8116\n",
      "Epoch 2/15\n",
      "176/176 [==============================] - 24s 136ms/step - loss: 0.5371 - accuracy: 0.7126 - val_loss: 0.5755 - val_accuracy: 0.7116\n",
      "Epoch 3/15\n",
      "176/176 [==============================] - 24s 137ms/step - loss: 0.3954 - accuracy: 0.8407 - val_loss: 0.3235 - val_accuracy: 0.8724\n",
      "Epoch 4/15\n",
      "176/176 [==============================] - 24s 137ms/step - loss: 0.2600 - accuracy: 0.9041 - val_loss: 0.3193 - val_accuracy: 0.8768\n",
      "Epoch 5/15\n",
      "176/176 [==============================] - 24s 136ms/step - loss: 0.2273 - accuracy: 0.9217 - val_loss: 0.3109 - val_accuracy: 0.8728\n",
      "Epoch 6/15\n",
      "176/176 [==============================] - 24s 137ms/step - loss: 0.1926 - accuracy: 0.9351 - val_loss: 0.3302 - val_accuracy: 0.8812\n",
      "Epoch 7/15\n",
      "176/176 [==============================] - 24s 136ms/step - loss: 0.1669 - accuracy: 0.9487 - val_loss: 0.3104 - val_accuracy: 0.8768\n",
      "Epoch 8/15\n",
      "176/176 [==============================] - 24s 136ms/step - loss: 0.1484 - accuracy: 0.9545 - val_loss: 0.3310 - val_accuracy: 0.8652\n",
      "Epoch 9/15\n",
      "176/176 [==============================] - 24s 137ms/step - loss: 0.1335 - accuracy: 0.9611 - val_loss: 0.3825 - val_accuracy: 0.8780\n",
      "Epoch 10/15\n",
      "176/176 [==============================] - 25s 141ms/step - loss: 0.1270 - accuracy: 0.9627 - val_loss: 0.4124 - val_accuracy: 0.8680\n",
      "Epoch 11/15\n",
      "176/176 [==============================] - 25s 141ms/step - loss: 0.1104 - accuracy: 0.9685 - val_loss: 0.4704 - val_accuracy: 0.8676\n",
      "Epoch 12/15\n",
      "176/176 [==============================] - 25s 141ms/step - loss: 0.1020 - accuracy: 0.9721 - val_loss: 0.3713 - val_accuracy: 0.8684\n",
      "Epoch 13/15\n",
      "176/176 [==============================] - 24s 135ms/step - loss: 0.0962 - accuracy: 0.9744 - val_loss: 0.5330 - val_accuracy: 0.8616\n",
      "Epoch 14/15\n",
      "176/176 [==============================] - 24s 135ms/step - loss: 0.0855 - accuracy: 0.9783 - val_loss: 0.4790 - val_accuracy: 0.8652\n",
      "Epoch 15/15\n",
      "176/176 [==============================] - 24s 136ms/step - loss: 0.0833 - accuracy: 0.9784 - val_loss: 0.4569 - val_accuracy: 0.8628\n"
     ]
    }
   ],
   "source": [
    "history = model.fit(X_train, \n",
    "                    y_train, \n",
    "                    epochs=15,\n",
    "                    batch_size=128,\n",
    "                    validation_split=0.1)"
   ]
  },
  {
   "cell_type": "code",
   "execution_count": 7,
   "metadata": {
    "colab": {},
    "colab_type": "code",
    "id": "gYvhn6zFY6km"
   },
   "outputs": [
    {
     "data": {
      "image/png": "[encoded data removed]",
      "text/plain": [
       "<Figure size 432x288 with 1 Axes>"
      ]
     },
     "metadata": {
      "needs_background": "light"
     },
     "output_type": "display_data"
    }
   ],
   "source": [
    "plt.plot(history.history['accuracy'], \n",
    "         label='The share of correct answers on the training set')\n",
    "plt.plot(history.history['val_accuracy'], \n",
    "         label='The share of correct answers on the test set')\n",
    "plt.xlabel('Epoch of Learning')\n",
    "plt.ylabel('The share of correct answers')\n",
    "plt.legend()\n",
    "plt.show()"
   ]
  },
  {
   "cell_type": "code",
   "execution_count": 8,
   "metadata": {
    "colab": {},
    "colab_type": "code",
    "id": "Gs2aiUCictKv"
   },
   "outputs": [
    {
     "name": "stdout",
     "output_type": "stream",
     "text": [
      "782/782 [==============================] - 11s 14ms/step - loss: 0.4855 - accuracy: 0.8540\n"
     ]
    }
   ],
   "source": [
    "scores = model.evaluate(X_test, y_test, verbose=1)"
   ]
  },
  {
   "cell_type": "code",
   "execution_count": null,
   "metadata": {},
   "outputs": [],
   "source": []
  }
 ],
 "metadata": {
  "colab": {
   "name": "lstm_imdb.ipynb",
   "private_outputs": true,
   "provenance": []
  },
  "kernelspec": {
   "display_name": "Python 3",
   "language": "python",
   "name": "python3"
  },
  "language_info": {
   "codemirror_mode": {
    "name": "ipython",
    "version": 3
   },
   "file_extension": ".py",
   "mimetype": "text/x-python",
   "name": "python",
   "nbconvert_exporter": "python",
   "pygments_lexer": "ipython3",
   "version": "3.7.6"
  }
 },
 "nbformat": 4,
 "nbformat_minor": 1
}
