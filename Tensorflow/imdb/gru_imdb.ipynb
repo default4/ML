{
 "cells": [
  {
   "cell_type": "code",
   "execution_count": 2,
   "metadata": {
    "colab": {},
    "colab_type": "code",
    "id": "WIqqUX0bypQc"
   },
   "outputs": [],
   "source": [
    "import tensorflow as tf\n",
    "import numpy as np\n",
    "import matplotlib.pyplot as plt\n",
    "%matplotlib inline "
   ]
  },
  {
   "cell_type": "code",
   "execution_count": 3,
   "metadata": {
    "colab": {},
    "colab_type": "code",
    "id": "b43DtmFGXrha"
   },
   "outputs": [],
   "source": [
    "###Determining the tone of the text of reviews of films from IMDb (Internet Movie Database)\n",
    "max_words=10000\n",
    "(X_train, y_train), (X_test, y_test) = tf.keras.datasets.imdb.load_data(num_words=max_words)"
   ]
  },
  {
   "cell_type": "code",
   "execution_count": 4,
   "metadata": {
    "colab": {},
    "colab_type": "code",
    "id": "zxv0MtlTX3X7"
   },
   "outputs": [],
   "source": [
    "###Training data preparation\n",
    "maxlen = 200\n",
    "X_train = tf.keras.preprocessing.sequence.pad_sequences(X_train, maxlen=maxlen, padding='post')\n",
    "X_test = tf.keras.preprocessing.sequence.pad_sequences(X_test, maxlen=maxlen, padding='post')"
   ]
  },
  {
   "cell_type": "code",
   "execution_count": 5,
   "metadata": {
    "colab": {},
    "colab_type": "code",
    "id": "WTUBtzmuX-JE"
   },
   "outputs": [],
   "source": [
    "###Create neural network\n",
    "model = tf.keras.models.Sequential()\n",
    "model.add(tf.keras.layers.Embedding(max_words, 8, input_length=maxlen))\n",
    "model.add(tf.keras.layers.GRU(32))\n",
    "model.add(tf.keras.layers.Dense(1, activation='sigmoid'))"
   ]
  },
  {
   "cell_type": "code",
   "execution_count": 6,
   "metadata": {
    "colab": {},
    "colab_type": "code",
    "id": "9oH18LG-Yry8"
   },
   "outputs": [],
   "source": [
    "model.compile(optimizer='adam', \n",
    "              loss='binary_crossentropy', \n",
    "              metrics=['accuracy'])"
   ]
  },
  {
   "cell_type": "code",
   "execution_count": 7,
   "metadata": {
    "colab": {},
    "colab_type": "code",
    "id": "k8s_WLo6Yb-g"
   },
   "outputs": [
    {
     "name": "stdout",
     "output_type": "stream",
     "text": [
      "Epoch 1/20\n",
      "176/176 [==============================] - 14s 79ms/step - loss: 0.6864 - accuracy: 0.5311 - val_loss: 0.6648 - val_accuracy: 0.5748\n",
      "Epoch 2/20\n",
      "176/176 [==============================] - 14s 77ms/step - loss: 0.6233 - accuracy: 0.6280 - val_loss: 0.6416 - val_accuracy: 0.5992\n",
      "Epoch 3/20\n",
      "176/176 [==============================] - 13s 76ms/step - loss: 0.5963 - accuracy: 0.6431 - val_loss: 0.6062 - val_accuracy: 0.6220\n",
      "Epoch 4/20\n",
      "176/176 [==============================] - 13s 75ms/step - loss: 0.4152 - accuracy: 0.8037 - val_loss: 0.3695 - val_accuracy: 0.8492\n",
      "Epoch 5/20\n",
      "176/176 [==============================] - 13s 76ms/step - loss: 0.2701 - accuracy: 0.8976 - val_loss: 0.3456 - val_accuracy: 0.8704\n",
      "Epoch 6/20\n",
      "176/176 [==============================] - 13s 75ms/step - loss: 0.2094 - accuracy: 0.9273 - val_loss: 0.3345 - val_accuracy: 0.8700\n",
      "Epoch 7/20\n",
      "176/176 [==============================] - 13s 76ms/step - loss: 0.1762 - accuracy: 0.9408 - val_loss: 0.3472 - val_accuracy: 0.8628\n",
      "Epoch 8/20\n",
      "176/176 [==============================] - 13s 76ms/step - loss: 0.1512 - accuracy: 0.9523 - val_loss: 0.3622 - val_accuracy: 0.8716\n",
      "Epoch 9/20\n",
      "176/176 [==============================] - 13s 76ms/step - loss: 0.1305 - accuracy: 0.9616 - val_loss: 0.3633 - val_accuracy: 0.8660\n",
      "Epoch 10/20\n",
      "176/176 [==============================] - 13s 76ms/step - loss: 0.1123 - accuracy: 0.9705 - val_loss: 0.3948 - val_accuracy: 0.8720\n",
      "Epoch 11/20\n",
      "176/176 [==============================] - 13s 76ms/step - loss: 0.1009 - accuracy: 0.9739 - val_loss: 0.4041 - val_accuracy: 0.8708\n",
      "Epoch 12/20\n",
      "176/176 [==============================] - 13s 76ms/step - loss: 0.0946 - accuracy: 0.9756 - val_loss: 0.4557 - val_accuracy: 0.8540\n",
      "Epoch 13/20\n",
      "176/176 [==============================] - 13s 76ms/step - loss: 0.0890 - accuracy: 0.9772 - val_loss: 0.4984 - val_accuracy: 0.8632\n",
      "Epoch 14/20\n",
      "176/176 [==============================] - 13s 76ms/step - loss: 0.0870 - accuracy: 0.9765 - val_loss: 0.4369 - val_accuracy: 0.8632\n",
      "Epoch 15/20\n",
      "176/176 [==============================] - 14s 78ms/step - loss: 0.0731 - accuracy: 0.9832 - val_loss: 0.4574 - val_accuracy: 0.8612\n",
      "Epoch 16/20\n",
      "  1/176 [..............................] - ETA: 0s - loss: 0.0554 - accuracy: 0.9922WARNING:tensorflow:Method (on_train_batch_end) is slow compared to the batch update (0.274091). Check your callbacks.\n",
      "  2/176 [..............................] - ETA: 34s - loss: 0.0587 - accuracy: 0.9883WARNING:tensorflow:Method (on_train_batch_end) is slow compared to the batch update (0.137527). Check your callbacks.\n",
      "176/176 [==============================] - 14s 78ms/step - loss: 0.0683 - accuracy: 0.9835 - val_loss: 0.4414 - val_accuracy: 0.8448\n",
      "Epoch 17/20\n",
      "176/176 [==============================] - 13s 76ms/step - loss: 0.0643 - accuracy: 0.9856 - val_loss: 0.5391 - val_accuracy: 0.8648\n",
      "Epoch 18/20\n",
      "176/176 [==============================] - 14s 78ms/step - loss: 0.0618 - accuracy: 0.9849 - val_loss: 0.5022 - val_accuracy: 0.8636\n",
      "Epoch 19/20\n",
      "176/176 [==============================] - 13s 77ms/step - loss: 0.0579 - accuracy: 0.9862 - val_loss: 0.5057 - val_accuracy: 0.8624\n",
      "Epoch 20/20\n",
      "176/176 [==============================] - 14s 78ms/step - loss: 0.0463 - accuracy: 0.9904 - val_loss: 0.5223 - val_accuracy: 0.8616\n"
     ]
    }
   ],
   "source": [
    "history = model.fit(X_train, \n",
    "                    y_train, \n",
    "                    epochs=20,\n",
    "                    batch_size=128,\n",
    "                    validation_split=0.1)"
   ]
  },
  {
   "cell_type": "code",
   "execution_count": 8,
   "metadata": {
    "colab": {},
    "colab_type": "code",
    "id": "gYvhn6zFY6km"
   },
   "outputs": [
    {
     "data": {
      "image/png": "[encoded data removed]",
      "text/plain": [
       "<Figure size 432x288 with 1 Axes>"
      ]
     },
     "metadata": {
      "needs_background": "light"
     },
     "output_type": "display_data"
    }
   ],
   "source": [
    "plt.plot(history.history['accuracy'], \n",
    "         label='The share of correct answers on the training set')\n",
    "plt.plot(history.history['val_accuracy'], \n",
    "         label='The share of correct answers on the test set')\n",
    "plt.xlabel('Epoch of Learning')\n",
    "plt.ylabel('The share of correct answers')\n",
    "plt.legend()\n",
    "plt.show()"
   ]
  },
  {
   "cell_type": "code",
   "execution_count": 9,
   "metadata": {
    "colab": {},
    "colab_type": "code",
    "id": "iBjAvNiaZW0K"
   },
   "outputs": [
    {
     "name": "stdout",
     "output_type": "stream",
     "text": [
      "782/782 [==============================] - 8s 10ms/step - loss: 0.5885 - accuracy: 0.8481\n"
     ]
    }
   ],
   "source": [
    "scores = model.evaluate(X_test, y_test, verbose=1)"
   ]
  },
  {
   "cell_type": "code",
   "execution_count": null,
   "metadata": {},
   "outputs": [],
   "source": []
  }
 ],
 "metadata": {
  "accelerator": "GPU",
  "colab": {
   "name": "gru_imdb.ipynb",
   "private_outputs": true,
   "provenance": []
  },
  "kernelspec": {
   "display_name": "Python 3",
   "language": "python",
   "name": "python3"
  },
  "language_info": {
   "codemirror_mode": {
    "name": "ipython",
    "version": 3
   },
   "file_extension": ".py",
   "mimetype": "text/x-python",
   "name": "python",
   "nbconvert_exporter": "python",
   "pygments_lexer": "ipython3",
   "version": "3.7.6"
  }
 },
 "nbformat": 4,
 "nbformat_minor": 1
}
