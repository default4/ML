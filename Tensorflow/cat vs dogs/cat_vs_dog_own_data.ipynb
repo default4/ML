{
 "cells": [
  {
   "cell_type": "code",
   "execution_count": 1,
   "metadata": {},
   "outputs": [],
   "source": [
    "import tensorflow as tf"
   ]
  },
  {
   "cell_type": "code",
   "execution_count": 2,
   "metadata": {},
   "outputs": [],
   "source": [
    "###Catalog with data for training\n",
    "train_dir = 'F:\\\\train'\n",
    "###Catalog with data for verification\n",
    "val_dir = 'F:\\\\val'\n",
    "###Catalog with data for testing\n",
    "test_dir = 'F:\\\\test'\n",
    "###Images size\n",
    "img_width, img_height = 150, 150\n",
    "###Image-based tensor dimension for input to a neural network\n",
    "input_shape = (img_width, img_height, 3)\n",
    "###Number of epochs\n",
    "epochs = 30\n",
    "###Samples size\n",
    "batch_size = 16\n",
    "###Number of images for training\n",
    "nb_train_samples = 17500\n",
    "###Number of images for verification\n",
    "nb_validation_samples = 3750\n",
    "###Number of images for testing\n",
    "nb_test_samples = 3750"
   ]
  },
  {
   "cell_type": "code",
   "execution_count": 3,
   "metadata": {},
   "outputs": [],
   "source": [
    "###Create a convolutional neural network\n",
    "model = tf.keras.models.Sequential()\n",
    "model.add(tf.keras.layers.Conv2D(32, (3, 3), input_shape=input_shape))\n",
    "model.add(tf.keras.layers.Activation('relu'))\n",
    "model.add(tf.keras.layers.MaxPooling2D(pool_size=(2, 2)))\n",
    "\n",
    "model.add(tf.keras.layers.Conv2D(32, (3, 3)))\n",
    "model.add(tf.keras.layers.Activation('relu'))\n",
    "model.add(tf.keras.layers.MaxPooling2D(pool_size=(2, 2)))\n",
    "\n",
    "model.add(tf.keras.layers.Conv2D(64, (3, 3)))\n",
    "model.add(tf.keras.layers.Activation('relu'))\n",
    "model.add(tf.keras.layers.MaxPooling2D(pool_size=(2, 2)))\n",
    "\n",
    "model.add(tf.keras.layers.Flatten())\n",
    "model.add(tf.keras.layers.Dense(64))\n",
    "model.add(tf.keras.layers.Activation('relu'))\n",
    "model.add(tf.keras.layers.Dropout(0.5))\n",
    "model.add(tf.keras.layers.Dense(1))\n",
    "model.add(tf.keras.layers.Activation('sigmoid'))"
   ]
  },
  {
   "cell_type": "code",
   "execution_count": 4,
   "metadata": {},
   "outputs": [],
   "source": [
    "###Compile a neural network\n",
    "model.compile(loss='binary_crossentropy',\n",
    "              optimizer='adam',\n",
    "              metrics=['accuracy'])"
   ]
  },
  {
   "cell_type": "code",
   "execution_count": 5,
   "metadata": {},
   "outputs": [],
   "source": [
    "###An image generator is created based on the ImageDataGenerator class. \n",
    "###The generator divides the values of all pixels in the image by 255.\n",
    "datagen = tf.keras.preprocessing.image.ImageDataGenerator(rescale=1. / 255)"
   ]
  },
  {
   "cell_type": "code",
   "execution_count": 6,
   "metadata": {},
   "outputs": [
    {
     "name": "stdout",
     "output_type": "stream",
     "text": [
      "Found 17500 images belonging to 2 classes.\n"
     ]
    }
   ],
   "source": [
    "###Generator for training\n",
    "train_generator = datagen.flow_from_directory(\n",
    "    train_dir,\n",
    "    target_size=(img_width, img_height),\n",
    "    batch_size=batch_size,\n",
    "    class_mode='binary')"
   ]
  },
  {
   "cell_type": "code",
   "execution_count": 7,
   "metadata": {},
   "outputs": [
    {
     "name": "stdout",
     "output_type": "stream",
     "text": [
      "Found 3750 images belonging to 2 classes.\n"
     ]
    }
   ],
   "source": [
    "###Generator for verification\n",
    "val_generator = datagen.flow_from_directory(\n",
    "    val_dir,\n",
    "    target_size=(img_width, img_height),\n",
    "    batch_size=batch_size,\n",
    "    class_mode='binary')"
   ]
  },
  {
   "cell_type": "code",
   "execution_count": 8,
   "metadata": {},
   "outputs": [
    {
     "name": "stdout",
     "output_type": "stream",
     "text": [
      "Found 3750 images belonging to 2 classes.\n"
     ]
    }
   ],
   "source": [
    "###Generator for testing\n",
    "test_generator = datagen.flow_from_directory(\n",
    "    test_dir,\n",
    "    target_size=(img_width, img_height),\n",
    "    batch_size=batch_size,\n",
    "    class_mode='binary')"
   ]
  },
  {
   "cell_type": "code",
   "execution_count": 9,
   "metadata": {},
   "outputs": [
    {
     "name": "stdout",
     "output_type": "stream",
     "text": [
      "WARNING:tensorflow:From <ipython-input-9-3bb64fd7de71>:6: Model.fit_generator (from tensorflow.python.keras.engine.training) is deprecated and will be removed in a future version.\n",
      "Instructions for updating:\n",
      "Please use Model.fit, which supports generators.\n",
      "Epoch 1/30\n",
      "1093/1093 [==============================] - 197s 181ms/step - loss: 0.6405 - accuracy: 0.6264 - val_loss: 0.5375 - val_accuracy: 0.7302\n",
      "Epoch 2/30\n",
      "1093/1093 [==============================] - 197s 180ms/step - loss: 0.5286 - accuracy: 0.7384 - val_loss: 0.5214 - val_accuracy: 0.7273\n",
      "Epoch 3/30\n",
      "1093/1093 [==============================] - 197s 180ms/step - loss: 0.4592 - accuracy: 0.7840 - val_loss: 0.4297 - val_accuracy: 0.7967\n",
      "Epoch 4/30\n",
      "1093/1093 [==============================] - 199s 182ms/step - loss: 0.4095 - accuracy: 0.8141 - val_loss: 0.4079 - val_accuracy: 0.8192\n",
      "Epoch 5/30\n",
      "1093/1093 [==============================] - 197s 180ms/step - loss: 0.3602 - accuracy: 0.8420 - val_loss: 0.4303 - val_accuracy: 0.8114\n",
      "Epoch 6/30\n",
      "1093/1093 [==============================] - 197s 181ms/step - loss: 0.3021 - accuracy: 0.8668 - val_loss: 0.4566 - val_accuracy: 0.8005\n",
      "Epoch 7/30\n",
      "1093/1093 [==============================] - 198s 181ms/step - loss: 0.2614 - accuracy: 0.8890 - val_loss: 0.4147 - val_accuracy: 0.8331\n",
      "Epoch 8/30\n",
      "1093/1093 [==============================] - 198s 181ms/step - loss: 0.2209 - accuracy: 0.9053 - val_loss: 0.4739 - val_accuracy: 0.8235\n",
      "Epoch 9/30\n",
      "1093/1093 [==============================] - 198s 181ms/step - loss: 0.1900 - accuracy: 0.9187 - val_loss: 0.4299 - val_accuracy: 0.8307\n",
      "Epoch 10/30\n",
      "1093/1093 [==============================] - 198s 181ms/step - loss: 0.1584 - accuracy: 0.9339 - val_loss: 0.5018 - val_accuracy: 0.8325\n",
      "Epoch 11/30\n",
      "1093/1093 [==============================] - 198s 181ms/step - loss: 0.1457 - accuracy: 0.9382 - val_loss: 0.5404 - val_accuracy: 0.8315\n",
      "Epoch 12/30\n",
      "1093/1093 [==============================] - 198s 181ms/step - loss: 0.1275 - accuracy: 0.9456 - val_loss: 0.5922 - val_accuracy: 0.8352\n",
      "Epoch 13/30\n",
      "1093/1093 [==============================] - 198s 181ms/step - loss: 0.1103 - accuracy: 0.9537 - val_loss: 0.5944 - val_accuracy: 0.8411\n",
      "Epoch 14/30\n",
      "1093/1093 [==============================] - 198s 181ms/step - loss: 0.1069 - accuracy: 0.9540 - val_loss: 0.6846 - val_accuracy: 0.8344\n",
      "Epoch 15/30\n",
      "1093/1093 [==============================] - 198s 181ms/step - loss: 0.1053 - accuracy: 0.9554 - val_loss: 0.6528 - val_accuracy: 0.8299\n",
      "Epoch 16/30\n",
      "1093/1093 [==============================] - 198s 181ms/step - loss: 0.0952 - accuracy: 0.9584 - val_loss: 0.7024 - val_accuracy: 0.8379\n",
      "Epoch 17/30\n",
      "1093/1093 [==============================] - 198s 181ms/step - loss: 0.0910 - accuracy: 0.9599 - val_loss: 0.7543 - val_accuracy: 0.8387\n",
      "Epoch 18/30\n",
      "1093/1093 [==============================] - 197s 180ms/step - loss: 0.0908 - accuracy: 0.9617 - val_loss: 0.8184 - val_accuracy: 0.8293\n",
      "Epoch 19/30\n",
      "1093/1093 [==============================] - 199s 182ms/step - loss: 0.0836 - accuracy: 0.9645 - val_loss: 0.8123 - val_accuracy: 0.8341\n",
      "Epoch 20/30\n",
      "1093/1093 [==============================] - 194s 177ms/step - loss: 0.0823 - accuracy: 0.9656 - val_loss: 0.7688 - val_accuracy: 0.8301\n",
      "Epoch 21/30\n",
      "1093/1093 [==============================] - 193s 176ms/step - loss: 0.0754 - accuracy: 0.9684 - val_loss: 0.7181 - val_accuracy: 0.8307\n",
      "Epoch 22/30\n",
      "1093/1093 [==============================] - 193s 177ms/step - loss: 0.0818 - accuracy: 0.9648 - val_loss: 0.7394 - val_accuracy: 0.8341\n",
      "Epoch 23/30\n",
      "1093/1093 [==============================] - 193s 177ms/step - loss: 0.0743 - accuracy: 0.9692 - val_loss: 0.9194 - val_accuracy: 0.8296\n",
      "Epoch 24/30\n",
      "1093/1093 [==============================] - 193s 177ms/step - loss: 0.0767 - accuracy: 0.9687 - val_loss: 0.7802 - val_accuracy: 0.8200\n",
      "Epoch 25/30\n",
      "1093/1093 [==============================] - 193s 177ms/step - loss: 0.0685 - accuracy: 0.9695 - val_loss: 0.9024 - val_accuracy: 0.8357\n",
      "Epoch 26/30\n",
      "1093/1093 [==============================] - 193s 177ms/step - loss: 0.0639 - accuracy: 0.9721 - val_loss: 0.8481 - val_accuracy: 0.8277\n",
      "Epoch 27/30\n",
      "1093/1093 [==============================] - 193s 176ms/step - loss: 0.0684 - accuracy: 0.9700 - val_loss: 0.9016 - val_accuracy: 0.8376\n",
      "Epoch 28/30\n",
      "1093/1093 [==============================] - 194s 178ms/step - loss: 0.0652 - accuracy: 0.9732 - val_loss: 0.9293 - val_accuracy: 0.8357\n",
      "Epoch 29/30\n",
      "1093/1093 [==============================] - 193s 177ms/step - loss: 0.0718 - accuracy: 0.9711 - val_loss: 0.8250 - val_accuracy: 0.8312\n",
      "Epoch 30/30\n",
      "1093/1093 [==============================] - 193s 177ms/step - loss: 0.0548 - accuracy: 0.9769 - val_loss: 0.8505 - val_accuracy: 0.8312\n"
     ]
    },
    {
     "data": {
      "text/plain": [
       "<tensorflow.python.keras.callbacks.History at 0x1e4b3052f08>"
      ]
     },
     "execution_count": 9,
     "metadata": {},
     "output_type": "execute_result"
    }
   ],
   "source": [
    "model.fit_generator(\n",
    "    train_generator,\n",
    "    steps_per_epoch=nb_train_samples // batch_size,\n",
    "    epochs=epochs,\n",
    "    validation_data=val_generator,\n",
    "    validation_steps=nb_validation_samples // batch_size)"
   ]
  },
  {
   "cell_type": "code",
   "execution_count": 11,
   "metadata": {},
   "outputs": [],
   "source": [
    "scores = model.evaluate_generator(test_generator, nb_test_samples // batch_size)"
   ]
  },
  {
   "cell_type": "code",
   "execution_count": 12,
   "metadata": {},
   "outputs": [
    {
     "name": "stdout",
     "output_type": "stream",
     "text": [
      "Accuracy on a test data: 83.15%\n"
     ]
    }
   ],
   "source": [
    "print(\"Accuracy on a test data: %.2f%%\" % (scores[1]*100))"
   ]
  },
  {
   "cell_type": "code",
   "execution_count": 13,
   "metadata": {},
   "outputs": [
    {
     "name": "stdout",
     "output_type": "stream",
     "text": [
      "Save model\n",
      "Saving is done\n"
     ]
    }
   ],
   "source": [
    "print(\"Save model\")\n",
    "###Save model into json file\n",
    "model_json = model.to_json()\n",
    "json_file = open(\"cats_vs_dogs_cnn.json\", \"w\")\n",
    "###Write network architecture\n",
    "json_file.write(model_json)\n",
    "json_file.close\n",
    "###Write data abouth weights in file\n",
    "model.save_weights(\"cats_vs_dogs_cnn.h5\")\n",
    "print(\"Saving is done\")"
   ]
  },
  {
   "cell_type": "code",
   "execution_count": null,
   "metadata": {},
   "outputs": [],
   "source": []
  }
 ],
 "metadata": {
  "kernelspec": {
   "display_name": "Python 3",
   "language": "python",
   "name": "python3"
  },
  "language_info": {
   "codemirror_mode": {
    "name": "ipython",
    "version": 3
   },
   "file_extension": ".py",
   "mimetype": "text/x-python",
   "name": "python",
   "nbconvert_exporter": "python",
   "pygments_lexer": "ipython3",
   "version": "3.7.6"
  }
 },
 "nbformat": 4,
 "nbformat_minor": 4
}
