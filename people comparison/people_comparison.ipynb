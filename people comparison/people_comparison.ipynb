{
 "cells": [
  {
   "cell_type": "code",
   "execution_count": 27,
   "metadata": {},
   "outputs": [],
   "source": [
    "import dlib\n",
    "from skimage import io\n",
    "from scipy.spatial import distance"
   ]
  },
  {
   "cell_type": "code",
   "execution_count": 28,
   "metadata": {},
   "outputs": [],
   "source": [
    "###Check if there is the same person in different photos\n",
    "###Create models for searching and finding faces in dlib\n",
    "###Download pretrained models\n",
    "###http://dlib.net/files/shape_predictor_68_face_landmarks.dat.bz2\n",
    "###http://dlib.net/files/dlib_face_recognition_resnet_model_v1.dat.bz2\n",
    "sp = dlib.shape_predictor('shape_predictor_68_face_landmarks.dat')\n",
    "facerec = dlib.face_recognition_model_v1('dlib_face_recognition_resnet_model_v1.dat')\n",
    "detector = dlib.get_frontal_face_detector()"
   ]
  },
  {
   "cell_type": "code",
   "execution_count": 29,
   "metadata": {},
   "outputs": [],
   "source": [
    "###Upload the first photo (Natalie Portman)\n",
    "img = io.imread('foto1.jpg')"
   ]
  },
  {
   "cell_type": "code",
   "execution_count": 30,
   "metadata": {},
   "outputs": [],
   "source": [
    "###Find a face\n",
    "dets = detector(img, 1)"
   ]
  },
  {
   "cell_type": "code",
   "execution_count": 31,
   "metadata": {},
   "outputs": [
    {
     "name": "stdout",
     "output_type": "stream",
     "text": [
      "Detection 0: Left: 43 Top: 93 Right: 266 Bottom: 316\n"
     ]
    }
   ],
   "source": [
    "win1 = dlib.image_window()\n",
    "win1.clear_overlay()\n",
    "win1.set_image(img)\n",
    "for k, d in enumerate(dets):\n",
    "    print(\"Detection {}: Left: {} Top: {} Right: {} Bottom: {}\".format(\n",
    "        k, d.left(), d.top(), d.right(), d.bottom()))\n",
    "    shape = sp(img, d)\n",
    "    win1.clear_overlay()\n",
    "    win1.add_overlay(d)\n",
    "    win1.add_overlay(shape)"
   ]
  },
  {
   "cell_type": "code",
   "execution_count": 32,
   "metadata": {},
   "outputs": [],
   "source": [
    "###Extract descriptor from face\n",
    "face_descriptor1 = facerec.compute_face_descriptor(img, shape)"
   ]
  },
  {
   "cell_type": "code",
   "execution_count": 33,
   "metadata": {},
   "outputs": [
    {
     "name": "stdout",
     "output_type": "stream",
     "text": [
      "-0.117961\n",
      "0.0311255\n",
      "0.0716583\n",
      "-0.0844869\n",
      "-0.150142\n",
      "0.050731\n",
      "-0.0140816\n",
      "-0.0663347\n",
      "0.135027\n",
      "-0.135416\n",
      "0.178883\n",
      "-0.0604658\n",
      "-0.259861\n",
      "-0.0413775\n",
      "-0.080045\n",
      "0.143636\n",
      "-0.136081\n",
      "-0.206109\n",
      "-0.0186878\n",
      "-0.138801\n",
      "0.0906987\n",
      "0.00262553\n",
      "-0.0187724\n",
      "0.0769293\n",
      "-0.276987\n",
      "-0.237659\n",
      "-0.0601231\n",
      "-0.0378279\n",
      "-0.0398622\n",
      "-0.125661\n",
      "0.0750189\n",
      "0.151983\n",
      "-0.173982\n",
      "0.0901664\n",
      "-0.0102613\n",
      "0.243565\n",
      "-0.0109797\n",
      "-0.168684\n",
      "0.13182\n",
      "0.0776495\n",
      "-0.209876\n",
      "-0.0157831\n",
      "0.0106549\n",
      "0.289001\n",
      "0.160984\n",
      "0.0031741\n",
      "0.035535\n",
      "-0.0606593\n",
      "0.142372\n",
      "-0.294966\n",
      "0.10128\n",
      "0.231712\n",
      "-0.0102944\n",
      "0.0765734\n",
      "0.100737\n",
      "-0.168385\n",
      "0.055494\n",
      "0.148312\n",
      "-0.177248\n",
      "-6.35076e-05\n",
      "0.021591\n",
      "-0.0916369\n",
      "0.0561792\n",
      "-0.190504\n",
      "0.169951\n",
      "0.116273\n",
      "-0.139679\n",
      "-0.0734752\n",
      "0.257543\n",
      "-0.125672\n",
      "-0.0852432\n",
      "0.142078\n",
      "-0.137033\n",
      "-0.210741\n",
      "-0.231327\n",
      "0.11845\n",
      "0.40759\n",
      "0.252438\n",
      "-0.0927475\n",
      "0.0582025\n",
      "0.00355322\n",
      "-0.0176617\n",
      "-0.00287591\n",
      "0.235728\n",
      "0.0234401\n",
      "0.0519978\n",
      "-0.0781073\n",
      "0.0765373\n",
      "0.17367\n",
      "0.0117856\n",
      "-0.0392343\n",
      "0.275865\n",
      "0.0116298\n",
      "-0.0734952\n",
      "0.0362258\n",
      "0.059442\n",
      "-0.134805\n",
      "0.0339741\n",
      "-0.0588173\n",
      "-0.0451619\n",
      "0.0329572\n",
      "-0.0922271\n",
      "-0.0256339\n",
      "0.0766494\n",
      "-0.118925\n",
      "0.193283\n",
      "-0.0703767\n",
      "-0.044999\n",
      "-0.117913\n",
      "-0.109626\n",
      "-0.0106158\n",
      "0.0882591\n",
      "0.135019\n",
      "-0.345044\n",
      "0.134009\n",
      "0.140227\n",
      "0.0402513\n",
      "0.212734\n",
      "0.0800798\n",
      "0.146783\n",
      "0.0339993\n",
      "-0.144653\n",
      "-0.123231\n",
      "-0.109391\n",
      "0.00577875\n",
      "-0.0450577\n",
      "0.0347574\n",
      "0.0651915\n"
     ]
    }
   ],
   "source": [
    "###Print descriptor\n",
    "print(face_descriptor1)"
   ]
  },
  {
   "cell_type": "code",
   "execution_count": 34,
   "metadata": {},
   "outputs": [
    {
     "name": "stdout",
     "output_type": "stream",
     "text": [
      "Detection 0: Left: 52 Top: 201 Right: 319 Bottom: 468\n"
     ]
    }
   ],
   "source": [
    "###Upload and process the second photo (Keira Knightley)\n",
    "img = io.imread('foto2.jpg')\n",
    "win2 = dlib.image_window()\n",
    "win2.clear_overlay()\n",
    "win2.set_image(img)\n",
    "dets_webcam = detector(img, 1)\n",
    "for k, d in enumerate(dets_webcam):\n",
    "    print(\"Detection {}: Left: {} Top: {} Right: {} Bottom: {}\".format(\n",
    "        k, d.left(), d.top(), d.right(), d.bottom()))\n",
    "    shape = sp(img, d)\n",
    "    win2.clear_overlay()\n",
    "    win2.add_overlay(d)\n",
    "    win2.add_overlay(shape)"
   ]
  },
  {
   "cell_type": "code",
   "execution_count": 25,
   "metadata": {},
   "outputs": [],
   "source": [
    "face_descriptor2 = facerec.compute_face_descriptor(img, shape)"
   ]
  },
  {
   "cell_type": "code",
   "execution_count": 26,
   "metadata": {},
   "outputs": [
    {
     "name": "stdout",
     "output_type": "stream",
     "text": [
      "0.6040206315620552\n"
     ]
    }
   ],
   "source": [
    "###Calculate the Euclidean distance between two face descriptors\n",
    "###if Euclidean distance > than 0,6 -> different people\n",
    "###if Euclidean distance < than 0,6 -> same person\n",
    "a = distance.euclidean(face_descriptor1, face_descriptor2)\n",
    "print(a)"
   ]
  },
  {
   "cell_type": "code",
   "execution_count": null,
   "metadata": {},
   "outputs": [],
   "source": []
  }
 ],
 "metadata": {
  "kernelspec": {
   "display_name": "Python 3",
   "language": "python",
   "name": "python3"
  },
  "language_info": {
   "codemirror_mode": {
    "name": "ipython",
    "version": 3
   },
   "file_extension": ".py",
   "mimetype": "text/x-python",
   "name": "python",
   "nbconvert_exporter": "python",
   "pygments_lexer": "ipython3",
   "version": "3.7.7"
  }
 },
 "nbformat": 4,
 "nbformat_minor": 4
}
